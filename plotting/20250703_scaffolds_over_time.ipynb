{
 "cells": [
  {
   "cell_type": "code",
   "outputs": [],
   "source": [
    "import pandas as pd\n",
    "import json\n",
    "from datetime import datetime\n",
    "import plotly.express as px\n",
    "from pathlib import Path\n",
    "from matplotlib.pyplot import ScalarFormatter\n",
    "from asapdiscovery.data.readers.molfile import MolFileFactory\n",
    "from harbor.analysis.cross_docking import DockingDataModel\n",
    "import seaborn as sns\n",
    "from matplotlib import pyplot as plt"
   ],
   "metadata": {
    "collapsed": false
   },
   "id": "6750671c6e57195d",
   "execution_count": null
  },
  {
   "cell_type": "code",
   "outputs": [],
   "source": [
    "data = DockingDataModel.deserialize(\"/Users/alexpayne/Scientific_Projects/mers-drug-discovery/sars2-retrospective-analysis/full_cross_dock_v2_combined_results/ALL_1_poses.parquet\")"
   ],
   "metadata": {
    "collapsed": false
   },
   "id": "937969162fb32d84",
   "execution_count": null
  },
  {
   "cell_type": "code",
   "outputs": [],
   "source": [
    "raw_df = data.dataframe.groupby(\"Reference_Ligand\").head(1)"
   ],
   "metadata": {
    "collapsed": false
   },
   "id": "f784627ff2df0b35",
   "execution_count": null
  },
  {
   "cell_type": "markdown",
   "source": [
    "# INCREMENT SCAFFOLD ID BY 1"
   ],
   "metadata": {
    "collapsed": false
   },
   "id": "43612e10dafeaa96"
  },
  {
   "cell_type": "code",
   "outputs": [],
   "source": [
    "raw_df['RefData_Scaffold_ID'] = raw_df['RefData_Scaffold_ID'].apply(lambda x: x + 1)"
   ],
   "metadata": {
    "collapsed": false
   },
   "id": "588ccf536a7168b0",
   "execution_count": null
  },
  {
   "cell_type": "markdown",
   "source": [
    "## count number of structures per cluster"
   ],
   "metadata": {
    "collapsed": false
   },
   "id": "1c7a48728df4a8d7"
  },
  {
   "cell_type": "code",
   "outputs": [],
   "source": [
    "cluster_counts = raw_df.groupby('RefData_Scaffold_ID').count().reset_index()[['RefData_Scaffold_ID', 'Reference_Ligand']]\n",
    "cluster_counts.columns = ['RefData_Scaffold_ID', 'count']"
   ],
   "metadata": {
    "collapsed": false
   },
   "id": "bdf0ca7d52b46acc",
   "execution_count": null
  },
  {
   "cell_type": "markdown",
   "source": [
    "## get earliest date for each cluster"
   ],
   "metadata": {
    "collapsed": false
   },
   "id": "3181df2d499ba3ba"
  },
  {
   "cell_type": "code",
   "outputs": [],
   "source": [
    "date_df = raw_df.sort_values('RefData_Date').groupby(\"RefData_Scaffold_ID\").first().reset_index()[['RefData_Scaffold_ID', 'RefData_Date', \"RefData_Scaffold_Smarts\"]].sort_values('RefData_Date')"
   ],
   "metadata": {
    "collapsed": false
   },
   "id": "e28718d6192df5a9",
   "execution_count": null
  },
  {
   "cell_type": "markdown",
   "source": [
    "### combine data"
   ],
   "metadata": {
    "collapsed": false
   },
   "id": "9da7cb6bf03fe93"
  },
  {
   "cell_type": "code",
   "outputs": [],
   "source": [
    "df = cluster_counts.merge(date_df, on='RefData_Scaffold_ID')"
   ],
   "metadata": {
    "collapsed": false
   },
   "id": "10d80804fc8cb95d",
   "execution_count": null
  },
  {
   "cell_type": "code",
   "outputs": [],
   "source": [
    "df.columns = ['scaffold_orig_id', 'scaffold_count', 'scaffold_first_date', 'scaffold_smarts']"
   ],
   "metadata": {
    "collapsed": false
   },
   "id": "813623a14f5f7a3b",
   "execution_count": null
  },
  {
   "cell_type": "code",
   "outputs": [],
   "source": [
    "ligand_df = raw_df[[\"Reference_Ligand\", \"RefData_Scaffold_ID\", \"RefData_Date\", \"RefData_Scaffold_Smarts\", \"PoseData_SMILES\"]]"
   ],
   "metadata": {
    "collapsed": false
   },
   "id": "9a54e7a68a80e657",
   "execution_count": null
  },
  {
   "cell_type": "code",
   "outputs": [],
   "source": [
    "ligand_df.columns = ['compound_name', 'scaffold_orig_id', 'compound_date', 'scaffold_smarts', 'smiles']"
   ],
   "metadata": {
    "collapsed": false
   },
   "id": "7fb6fdd9f4c1f4c0",
   "execution_count": null
  },
  {
   "cell_type": "markdown",
   "source": [
    "## add scaffold data to ligand_df"
   ],
   "metadata": {
    "collapsed": false
   },
   "id": "4ff9f67ed26cf7d9"
  },
  {
   "cell_type": "code",
   "outputs": [],
   "source": [
    "ligand_df = ligand_df.merge(df, on='scaffold_orig_id', how='left', suffixes=['', '_from_scaff_data']).reset_index()"
   ],
   "metadata": {
    "collapsed": false
   },
   "id": "4895a627cbc6845d",
   "execution_count": null
  },
  {
   "cell_type": "markdown",
   "source": [
    "### make sure scaffold smarts is the same"
   ],
   "metadata": {
    "collapsed": false
   },
   "id": "acb2024399c9762f"
  },
  {
   "cell_type": "code",
   "outputs": [],
   "source": [
    "ligand_df[ligand_df['scaffold_smarts'] != ligand_df['scaffold_smarts_from_scaff_data']]"
   ],
   "metadata": {
    "collapsed": false
   },
   "id": "3bb72f61bfbfc240",
   "execution_count": null
  },
  {
   "cell_type": "markdown",
   "source": [
    "\"AAR-POS-d2a4d1df-17\" doesn't have a scaffold smarts?"
   ],
   "metadata": {
    "collapsed": false
   },
   "id": "77efbe4a38ef4359"
  },
  {
   "cell_type": "markdown",
   "source": [
    "### make sure compound_date is always after or equal to scaffold_date"
   ],
   "metadata": {
    "collapsed": false
   },
   "id": "fc96e208bbb0fc9a"
  },
  {
   "cell_type": "code",
   "outputs": [],
   "source": [
    "all(ligand_df['compound_date'] >= ligand_df['scaffold_first_date'])"
   ],
   "metadata": {
    "collapsed": false
   },
   "id": "bc8b6d42f5778090",
   "execution_count": null
  },
  {
   "cell_type": "markdown",
   "source": [
    "yay!"
   ],
   "metadata": {
    "collapsed": false
   },
   "id": "caebd4b5fa95d0f7"
  },
  {
   "cell_type": "markdown",
   "source": [
    "# Plotting variables"
   ],
   "metadata": {
    "collapsed": false
   },
   "id": "5a6444e86678ce88"
  },
  {
   "cell_type": "code",
   "outputs": [],
   "source": [
    "# Global configuration\n",
    "fig_path = Path(\"./20250703_scaffolds_over_time\")\n",
    "fig_path.mkdir(parents=True, exist_ok=True)\n",
    "\n",
    "FIGNUM_GLOBAL = 0\n",
    "\n",
    "# def save_fig(fig, filename, dpi=200, suffix=\".pdf\"):\n",
    "#     \"\"\"Save the figure with a global figure number.\"\"\"\n",
    "#     global FIGNUM_GLOBAL\n",
    "#     FIGNUM_GLOBAL += 1\n",
    "#     figpath = Path(fig_path / f\"{filename}_{FIGNUM_GLOBAL:02d}\")\n",
    "#     fig.savefig(figpath.with_suffix(suffix), \n",
    "#                 bbox_inches=\"tight\", \n",
    "#                 dpi=dpi)\n",
    "\n",
    "def save_fig(fig, filename, dpi=200, suffix=\".pdf\"):\n",
    "    figpath = Path(fig_path / f\"{filename}\")\n",
    "    fig.savefig(figpath.with_suffix(suffix), \n",
    "                bbox_inches=\"tight\", \n",
    "                dpi=dpi)\n",
    "    \n",
    "\n",
    "sns.set_style(\"white\")\n",
    "label_map = {\n",
    "    \"Reference_Split\": \"Dataset Split Type\",\n",
    "    \"Score\": \"Scoring Method\",\n",
    "    \"RandomSplit\": \"Randomly Ordered\",\n",
    "    \"DateSplit\": \"Ordered by Date\",\n",
    "    \"RMSD\": \"RMSD (Positive Control)\",\n",
    "    \"POSIT_Probability\": \"POSIT Probability\",\n",
    "    # \"PairwiseSplit\": \"Similarity Metric\",\n",
    "    \"Similarity_Threshold\": \"Similarity Threshold\",\n",
    "    \"ECFP4_2048\": \"ECFP4 2048\",\n",
    "    \"MCS\": \"MCS\",\n",
    "    \"TanimotoCombo_True\": \"Tanimoto Combo (Aligned)\",\n",
    "    # \"N_Reference_Structures\": \"Number of Randomly Chosen Reference Structures\",\n",
    "    \"N_Reference_Structures\": \"Number of Reference Structures Available to Use \\n(Log Scale)\",\n",
    "    \"Fraction\": \"Fraction of Ligands Posed \\n<2Å from Reference\",\n",
    "    \"CI_Lower\": \"Confidence Interval Lower Bound\",\n",
    "    \"CI_Upper\": \"Confidence Interval Upper Bound\",\n",
    "    \n",
    "}\n",
    "        \n",
    "X_VAR = label_map[\"N_Reference_Structures\"]\n",
    "Y_VAR = label_map[\"Fraction\"]\n",
    "X_LABEL = label_map[\"N_Reference_Structures\"]\n",
    "Y_LABEL = label_map[\"Fraction\"]\n",
    "# QUERY_SCAFFOLD_ID = label_map[\"Query_Scaffold_ID_Subset_1\"]\n",
    "# REF_SCAFFOLD_ID = label_map[\"Reference_Scaffold_ID_Subset_1\"]\n",
    "COLOR_VAR = label_map[\"Reference_Split\"]\n",
    "STYLE_VAR = label_map[\"Score\"]\n",
    "CI_LOWER = label_map[\"CI_Lower\"]\n",
    "CI_UPPER = label_map[\"CI_Upper\"]\n",
    "LARGE_FIG_SIZE = (12, 8)\n",
    "SMALL_FIG_SIZE = (8, 6)\n",
    "FONT_SIZES = {\n",
    "    \"xlabel\": 24,\n",
    "    \"ylabel\": 24,\n",
    "    \"ticks\": 18,\n",
    "    \"legend_title\": 24,\n",
    "    \"legend_text\": 18,\n",
    "}\n",
    "ALPHA = 0.1"
   ],
   "metadata": {
    "collapsed": false
   },
   "id": "1a208a63aa33eb75",
   "execution_count": null
  },
  {
   "cell_type": "markdown",
   "source": [
    "# Plot Scaffolds Over Time"
   ],
   "metadata": {
    "collapsed": false
   },
   "id": "5a2349144822761e"
  },
  {
   "cell_type": "code",
   "outputs": [],
   "source": [
    "def make_image(df,x_col = \"Date\", color=\"cluster_id\"):\n",
    "    import plotly.express as px\n",
    "\n",
    "    large_font = 24\n",
    "    small_font = 18\n",
    "\n",
    "    fig = px.ecdf(\n",
    "        df,\n",
    "        x=x_col,\n",
    "        color=color,\n",
    "        ecdfnorm=None,\n",
    "        template=\"simple_white\",\n",
    "        height=600,\n",
    "        width=800,\n",
    "    )\n",
    "    # update legend title\n",
    "    fig.update_layout(legend_title_text=\"<b> Scaffold </b>\")\n",
    "    fig.update_xaxes(title_text=\"<b> Date of Crystal Structure Collection </b>\")\n",
    "    fig.update_yaxes(title_text=\"<b> Cumulative Number of Structures </b>\")\n",
    "\n",
    "    update_layout_dict = dict(\n",
    "        xaxis=dict(\n",
    "            title_font=dict(size=large_font),\n",
    "            color=\"black\",\n",
    "        ),\n",
    "        yaxis=dict(\n",
    "            # range=(0,1),\n",
    "            title_font=dict(size=large_font),\n",
    "            color=\"black\",\n",
    "        ),\n",
    "    )\n",
    "\n",
    "    # move legend to inside the plot\n",
    "    fig.update_layout(\n",
    "        legend=dict(yanchor=\"bottom\", y=0.25, xanchor=\"right\", x=1.1),\n",
    "        **update_layout_dict,\n",
    "    )\n",
    "\n",
    "    return fig"
   ],
   "metadata": {
    "collapsed": false
   },
   "id": "624441725dcea988",
   "execution_count": null
  },
  {
   "cell_type": "code",
   "outputs": [],
   "source": [
    "pdf = ligand_df.sort_values(\"scaffold_count\", ascending=False)"
   ],
   "metadata": {
    "collapsed": false
   },
   "id": "d14d8bfce8a0ba65",
   "execution_count": null
  },
  {
   "cell_type": "code",
   "outputs": [],
   "source": [
    "min_counts = 8\n",
    "labels = []\n",
    "for row in pdf.itertuples():\n",
    "    if row.scaffold_count > min_counts:\n",
    "        labels.append(f'Scaffold {row.scaffold_orig_id} - {row.scaffold_count} Molecules')\n",
    "    else:\n",
    "        labels.append(f'Misc Scaffolds - {sum(pdf.scaffold_count <= min_counts)} Molecules')"
   ],
   "metadata": {
    "collapsed": false
   },
   "id": "8e9f58d19a77a956",
   "execution_count": null
  },
  {
   "cell_type": "code",
   "outputs": [],
   "source": [
    "pdf[\"simplified_scaffold_ids\"] = labels"
   ],
   "metadata": {
    "collapsed": false
   },
   "id": "5025236e13c8dcce",
   "execution_count": null
  },
  {
   "cell_type": "code",
   "outputs": [],
   "source": [
    "fig = make_image(pdf, x_col=\"compound_date\", color=\"simplified_scaffold_ids\")\n",
    "fig.write_image(fig_path / \"scaffs_over_time_grouped.svg\")"
   ],
   "metadata": {
    "collapsed": false
   },
   "id": "69e8723da0d29dfe",
   "execution_count": null
  },
  {
   "cell_type": "code",
   "outputs": [],
   "source": [
    "fig = make_image(pdf, x_col=\"compound_date\", color=\"scaffold_orig_id\")\n",
    "fig.write_image(fig_path / \"scaffs_over_time.svg\")"
   ],
   "metadata": {
    "collapsed": false
   },
   "id": "9d9a25a6a1bcf580",
   "execution_count": null
  },
  {
   "cell_type": "markdown",
   "source": [
    "# save svg of all scaffolds"
   ],
   "metadata": {
    "collapsed": false
   },
   "id": "dd5a27b23cded6cf"
  },
  {
   "cell_type": "code",
   "outputs": [],
   "source": [
    "from rdkit import Chem\n",
    "from rdkit.Chem import Draw, rdDepictor"
   ],
   "metadata": {
    "collapsed": false
   },
   "id": "7afa888b48ab1043",
   "execution_count": null
  },
  {
   "cell_type": "code",
   "outputs": [],
   "source": [
    "# get tuple of scaffold_id and rdkit mol\n",
    "scaffold_mols = df.copy()\n",
    "scaffold_mols['scaffold_mol'] = scaffold_mols.scaffold_smarts.apply(lambda x: Chem.MolFromSmiles(x) if x is not None else None)"
   ],
   "metadata": {
    "collapsed": false
   },
   "id": "702a7664a6cc4e30",
   "execution_count": null
  },
  {
   "cell_type": "code",
   "outputs": [],
   "source": [
    "def draw_single_mol(mol, fn, size=(400, 400)):\n",
    "    mol = Chem.RemoveHs(mol)\n",
    "    rdDepictor.Compute2DCoords(mol)\n",
    "    rdDepictor.StraightenDepiction(mol)\n",
    "    \n",
    "    # Create the drawing object\n",
    "    drawer = Draw.rdMolDraw2D.MolDraw2DSVG(*size)\n",
    "    drawer.DrawMolecule(mol)\n",
    "    drawer.FinishDrawing()\n",
    "    svg = drawer.GetDrawingText()\n",
    "    with open(fn, \"w\") as f:\n",
    "        f.write(svg)\n",
    "    \n",
    "    img = Draw.MolsToImage([mol], subImgSize=size, legends=[f\"Scaffold {row.scaffold_orig_id}\"])\n",
    "    img.save(fn.with_suffix(\".png\"))"
   ],
   "metadata": {
    "collapsed": false
   },
   "id": "48abd6855c44ba3b",
   "execution_count": null
  },
  {
   "cell_type": "code",
   "outputs": [],
   "source": [
    "scaff_dir = fig_path / \"scaffolds\"\n",
    "scaff_dir.mkdir(exist_ok=True)\n",
    "for i, row in scaffold_mols.iterrows():\n",
    "    if row.scaffold_mol is not None:\n",
    "        row.scaffold_mol.SetProp(\"_Name\", f\"Scaffold {row.scaffold_orig_id}\")\n",
    "        draw_single_mol(row.scaffold_mol, scaff_dir / f\"generic_scaffold_{row.scaffold_orig_id}.svg\")"
   ],
   "metadata": {
    "collapsed": false
   },
   "id": "d61ad698d12def91",
   "execution_count": null
  },
  {
   "cell_type": "markdown",
   "source": [
    "# Plot histogram of mols per scaffold"
   ],
   "metadata": {
    "collapsed": false
   },
   "id": "18c39ff726e17f51"
  },
  {
   "cell_type": "code",
   "outputs": [],
   "source": [
    "pdf"
   ],
   "metadata": {
    "collapsed": false
   },
   "id": "9badaf8dad81708b",
   "execution_count": null
  },
  {
   "cell_type": "code",
   "outputs": [],
   "source": [
    "sns.set_style(\"ticks\")\n",
    "plt.figure(figsize=(4,4))\n",
    "ax = sns.histplot(df, x=\"scaffold_count\", binwidth=2)\n",
    "\n",
    "# Set the y-axis to a logarithmic scale\n",
    "ax.set_yscale('log')\n",
    "ax.yaxis.set_major_formatter(ScalarFormatter())\n",
    "from itertools import product\n",
    "custom_ticks = list([a*b for a,b in product([1,2,5], [1,10,100]) if a*b <= 100])\n",
    "ax.set_yticks(custom_ticks)\n",
    "ax.set_ylabel(\"Number of Scaffolds \\nwith N Molecules\")\n",
    "ax.set_xlabel(\"Number of Molecules per Scaffold\")\n",
    "save_fig(plt.gcf(), \"scaffold_histogram\")"
   ],
   "metadata": {
    "collapsed": false
   },
   "id": "6a07f9365414886f",
   "execution_count": null
  },
  {
   "cell_type": "code",
   "outputs": [],
   "source": [],
   "metadata": {
    "collapsed": false
   },
   "id": "3e800912b596b62a",
   "execution_count": null
  },
  {
   "cell_type": "markdown",
   "source": [
    "# write out scaffold df"
   ],
   "metadata": {
    "collapsed": false
   },
   "id": "3678cfc070bf3b93"
  },
  {
   "cell_type": "code",
   "outputs": [],
   "source": [
    "ligand_df.to_csv(\"ligand_scaffold_data.csv\", index=False)"
   ],
   "metadata": {
    "collapsed": false
   },
   "id": "e13e2dfcc2ea8106",
   "execution_count": null
  }
 ],
 "metadata": {
  "kernelspec": {
   "display_name": "Python 3",
   "language": "python",
   "name": "python3"
  },
  "language_info": {
   "codemirror_mode": {
    "name": "ipython",
    "version": 2
   },
   "file_extension": ".py",
   "mimetype": "text/x-python",
   "name": "python",
   "nbconvert_exporter": "python",
   "pygments_lexer": "ipython2",
   "version": "2.7.6"
  }
 },
 "nbformat": 4,
 "nbformat_minor": 5
}
