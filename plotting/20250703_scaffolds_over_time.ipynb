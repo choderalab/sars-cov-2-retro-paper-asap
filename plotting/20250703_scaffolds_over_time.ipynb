{
 "cells": [
  {
   "cell_type": "code",
   "outputs": [],
   "source": [
    "import pandas as pd\n",
    "import json\n",
    "from datetime import datetime\n",
    "import plotly.express as px\n",
    "from pathlib import Path\n",
    "from matplotlib.pyplot import ScalarFormatter\n",
    "from harbor.analysis.cross_docking import DockingDataModel\n",
    "import seaborn as sns\n",
    "from matplotlib import pyplot as plt"
   ],
   "metadata": {
    "collapsed": false,
    "ExecuteTime": {
     "end_time": "2025-08-24T17:46:14.038924Z",
     "start_time": "2025-08-24T17:46:13.506900Z"
    }
   },
   "id": "6750671c6e57195d",
   "execution_count": 3
  },
  {
   "cell_type": "code",
   "outputs": [],
   "source": [
    "data = DockingDataModel.deserialize(\"/Users/alexpayne/Scientific_Projects/mers-drug-discovery/sars2-retrospective-analysis/full_cross_dock_v2_combined_results/ALL_1_poses.parquet\")"
   ],
   "metadata": {
    "collapsed": false,
    "ExecuteTime": {
     "end_time": "2025-08-24T17:46:17.042414Z",
     "start_time": "2025-08-24T17:46:14.638549Z"
    }
   },
   "id": "937969162fb32d84",
   "execution_count": 4
  },
  {
   "cell_type": "code",
   "outputs": [],
   "source": [
    "ref_df = data.dataframe.groupby(\"Reference_Ligand\").head(1)\n",
    "query_df = data.dataframe.groupby(\"Query_Ligand\").head(1)"
   ],
   "metadata": {
    "collapsed": false,
    "ExecuteTime": {
     "end_time": "2025-08-24T17:51:44.785235Z",
     "start_time": "2025-08-24T17:51:44.640563Z"
    }
   },
   "id": "f784627ff2df0b35",
   "execution_count": 27
  },
  {
   "cell_type": "markdown",
   "source": [
    "# INCREMENT SCAFFOLD ID BY 1"
   ],
   "metadata": {
    "collapsed": false
   },
   "id": "43612e10dafeaa96"
  },
  {
   "cell_type": "code",
   "outputs": [
    {
     "name": "stderr",
     "output_type": "stream",
     "text": [
      "/var/folders/cf/d42qwdmd5_g5s63r3g_vgx2c0000gn/T/ipykernel_49163/3021020067.py:1: SettingWithCopyWarning: \n",
      "A value is trying to be set on a copy of a slice from a DataFrame.\n",
      "Try using .loc[row_indexer,col_indexer] = value instead\n",
      "\n",
      "See the caveats in the documentation: https://pandas.pydata.org/pandas-docs/stable/user_guide/indexing.html#returning-a-view-versus-a-copy\n",
      "  ref_df['RefData_Scaffold_ID'] = ref_df['RefData_Scaffold_ID'].apply(lambda x: x + 1)\n"
     ]
    }
   ],
   "source": [
    "ref_df['RefData_Scaffold_ID'] = ref_df['RefData_Scaffold_ID'].apply(lambda x: x + 1)"
   ],
   "metadata": {
    "collapsed": false,
    "ExecuteTime": {
     "end_time": "2025-08-24T17:51:47.178132Z",
     "start_time": "2025-08-24T17:51:47.174108Z"
    }
   },
   "id": "588ccf536a7168b0",
   "execution_count": 28
  },
  {
   "cell_type": "markdown",
   "source": [
    "## count number of structures per cluster"
   ],
   "metadata": {
    "collapsed": false
   },
   "id": "1c7a48728df4a8d7"
  },
  {
   "cell_type": "code",
   "outputs": [],
   "source": [
    "cluster_counts = ref_df.groupby('RefData_Scaffold_ID').count().reset_index()[['RefData_Scaffold_ID', 'Reference_Ligand']]\n",
    "cluster_counts.columns = ['RefData_Scaffold_ID', 'count']"
   ],
   "metadata": {
    "collapsed": false,
    "ExecuteTime": {
     "end_time": "2025-08-24T17:51:48.095092Z",
     "start_time": "2025-08-24T17:51:48.088131Z"
    }
   },
   "id": "bdf0ca7d52b46acc",
   "execution_count": 29
  },
  {
   "cell_type": "markdown",
   "source": [
    "## get earliest date for each cluster"
   ],
   "metadata": {
    "collapsed": false
   },
   "id": "3181df2d499ba3ba"
  },
  {
   "cell_type": "code",
   "outputs": [],
   "source": [
    "date_df = ref_df.sort_values('RefData_Date').groupby(\"RefData_Scaffold_ID\").first().reset_index()[['RefData_Scaffold_ID', 'RefData_Date', \"RefData_Scaffold_Smarts\"]].sort_values('RefData_Date')"
   ],
   "metadata": {
    "collapsed": false,
    "ExecuteTime": {
     "end_time": "2025-08-24T17:51:49.613350Z",
     "start_time": "2025-08-24T17:51:49.605486Z"
    }
   },
   "id": "e28718d6192df5a9",
   "execution_count": 30
  },
  {
   "cell_type": "markdown",
   "source": [
    "### combine data"
   ],
   "metadata": {
    "collapsed": false
   },
   "id": "9da7cb6bf03fe93"
  },
  {
   "cell_type": "code",
   "outputs": [],
   "source": [
    "df = cluster_counts.merge(date_df, on='RefData_Scaffold_ID')"
   ],
   "metadata": {
    "collapsed": false,
    "ExecuteTime": {
     "end_time": "2025-08-24T17:51:50.196047Z",
     "start_time": "2025-08-24T17:51:50.190734Z"
    }
   },
   "id": "10d80804fc8cb95d",
   "execution_count": 31
  },
  {
   "cell_type": "code",
   "outputs": [],
   "source": [
    "df.columns = ['scaffold_orig_id', 'scaffold_count', 'scaffold_first_date', 'scaffold_smarts']"
   ],
   "metadata": {
    "collapsed": false,
    "ExecuteTime": {
     "end_time": "2025-08-24T17:51:50.861297Z",
     "start_time": "2025-08-24T17:51:50.858189Z"
    }
   },
   "id": "813623a14f5f7a3b",
   "execution_count": 32
  },
  {
   "cell_type": "markdown",
   "source": [
    "### I only have smiles for the queries"
   ],
   "metadata": {
    "collapsed": false
   },
   "id": "c8c7ce27f261573c"
  },
  {
   "cell_type": "code",
   "outputs": [],
   "source": [
    "ligand_df = ref_df[[\"Reference_Ligand\", \"RefData_Scaffold_ID\", \"RefData_Date\", \"RefData_Scaffold_Smarts\"]]"
   ],
   "metadata": {
    "collapsed": false,
    "ExecuteTime": {
     "end_time": "2025-08-24T17:52:41.624077Z",
     "start_time": "2025-08-24T17:52:41.620483Z"
    }
   },
   "id": "9a54e7a68a80e657",
   "execution_count": 37
  },
  {
   "cell_type": "code",
   "outputs": [],
   "source": [
    "query_smiles = query_df[[\"Query_Ligand\", \"PoseData_SMILES\"]]"
   ],
   "metadata": {
    "collapsed": false,
    "ExecuteTime": {
     "end_time": "2025-08-24T17:52:43.468992Z",
     "start_time": "2025-08-24T17:52:43.465343Z"
    }
   },
   "id": "41d90a1e9e5298d",
   "execution_count": 38
  },
  {
   "cell_type": "code",
   "outputs": [],
   "source": [
    "ligand_df = ligand_df.merge(query_smiles, left_on='Reference_Ligand', right_on='Query_Ligand').drop(columns=['Query_Ligand'])"
   ],
   "metadata": {
    "collapsed": false,
    "ExecuteTime": {
     "end_time": "2025-08-24T17:53:25.246665Z",
     "start_time": "2025-08-24T17:53:25.238903Z"
    }
   },
   "id": "16cbf19210a2a55d",
   "execution_count": 41
  },
  {
   "cell_type": "code",
   "outputs": [],
   "source": [
    "ligand_df.columns = ['compound_name', 'scaffold_orig_id', 'compound_date', 'scaffold_smarts', 'smiles']"
   ],
   "metadata": {
    "collapsed": false,
    "ExecuteTime": {
     "end_time": "2025-08-24T17:53:26.544391Z",
     "start_time": "2025-08-24T17:53:26.541546Z"
    }
   },
   "id": "7fb6fdd9f4c1f4c0",
   "execution_count": 42
  },
  {
   "cell_type": "markdown",
   "source": [
    "## add scaffold data to ligand_df"
   ],
   "metadata": {
    "collapsed": false
   },
   "id": "4ff9f67ed26cf7d9"
  },
  {
   "cell_type": "code",
   "outputs": [],
   "source": [
    "ligand_df = ligand_df.merge(df, on='scaffold_orig_id', how='left', suffixes=['', '_from_scaff_data']).reset_index()"
   ],
   "metadata": {
    "collapsed": false,
    "ExecuteTime": {
     "end_time": "2025-08-24T17:53:27.852441Z",
     "start_time": "2025-08-24T17:53:27.845699Z"
    }
   },
   "id": "4895a627cbc6845d",
   "execution_count": 43
  },
  {
   "cell_type": "markdown",
   "source": [
    "### make sure scaffold smarts is the same"
   ],
   "metadata": {
    "collapsed": false
   },
   "id": "acb2024399c9762f"
  },
  {
   "cell_type": "code",
   "outputs": [
    {
     "data": {
      "text/plain": "    index        compound_name  scaffold_orig_id        compound_date  \\\n89     89  AAR-POS-d2a4d1df-17               105  2020-03-06 07:11:07   \n\n   scaffold_smarts         smiles  scaffold_count  scaffold_first_date  \\\n89            None  CCC(=[NH2+])N               1  2020-03-06 07:11:07   \n\n   scaffold_smarts_from_scaff_data  \n89                            None  ",
      "text/html": "<div>\n<style scoped>\n    .dataframe tbody tr th:only-of-type {\n        vertical-align: middle;\n    }\n\n    .dataframe tbody tr th {\n        vertical-align: top;\n    }\n\n    .dataframe thead th {\n        text-align: right;\n    }\n</style>\n<table border=\"1\" class=\"dataframe\">\n  <thead>\n    <tr style=\"text-align: right;\">\n      <th></th>\n      <th>index</th>\n      <th>compound_name</th>\n      <th>scaffold_orig_id</th>\n      <th>compound_date</th>\n      <th>scaffold_smarts</th>\n      <th>smiles</th>\n      <th>scaffold_count</th>\n      <th>scaffold_first_date</th>\n      <th>scaffold_smarts_from_scaff_data</th>\n    </tr>\n  </thead>\n  <tbody>\n    <tr>\n      <th>89</th>\n      <td>89</td>\n      <td>AAR-POS-d2a4d1df-17</td>\n      <td>105</td>\n      <td>2020-03-06 07:11:07</td>\n      <td>None</td>\n      <td>CCC(=[NH2+])N</td>\n      <td>1</td>\n      <td>2020-03-06 07:11:07</td>\n      <td>None</td>\n    </tr>\n  </tbody>\n</table>\n</div>"
     },
     "execution_count": 44,
     "metadata": {},
     "output_type": "execute_result"
    }
   ],
   "source": [
    "ligand_df[ligand_df['scaffold_smarts'] != ligand_df['scaffold_smarts_from_scaff_data']]"
   ],
   "metadata": {
    "collapsed": false,
    "ExecuteTime": {
     "end_time": "2025-08-24T17:53:28.511703Z",
     "start_time": "2025-08-24T17:53:28.502097Z"
    }
   },
   "id": "3bb72f61bfbfc240",
   "execution_count": 44
  },
  {
   "cell_type": "markdown",
   "source": [
    "\"AAR-POS-d2a4d1df-17\" doesn't have a scaffold smarts?"
   ],
   "metadata": {
    "collapsed": false
   },
   "id": "77efbe4a38ef4359"
  },
  {
   "cell_type": "markdown",
   "source": [
    "### make sure compound_date is always after or equal to scaffold_date"
   ],
   "metadata": {
    "collapsed": false
   },
   "id": "fc96e208bbb0fc9a"
  },
  {
   "cell_type": "code",
   "outputs": [
    {
     "data": {
      "text/plain": "True"
     },
     "execution_count": 45,
     "metadata": {},
     "output_type": "execute_result"
    }
   ],
   "source": [
    "all(ligand_df['compound_date'] >= ligand_df['scaffold_first_date'])"
   ],
   "metadata": {
    "collapsed": false,
    "ExecuteTime": {
     "end_time": "2025-08-24T17:53:30.792128Z",
     "start_time": "2025-08-24T17:53:30.787745Z"
    }
   },
   "id": "bc8b6d42f5778090",
   "execution_count": 45
  },
  {
   "cell_type": "markdown",
   "source": [
    "yay!"
   ],
   "metadata": {
    "collapsed": false
   },
   "id": "caebd4b5fa95d0f7"
  },
  {
   "cell_type": "markdown",
   "source": [
    "# Plotting variables"
   ],
   "metadata": {
    "collapsed": false
   },
   "id": "5a6444e86678ce88"
  },
  {
   "cell_type": "code",
   "outputs": [],
   "source": [
    "# Global configuration\n",
    "fig_path = Path(\"./20250703_scaffolds_over_time\")\n",
    "fig_path.mkdir(parents=True, exist_ok=True)\n",
    "\n",
    "FIGNUM_GLOBAL = 0\n",
    "\n",
    "# def save_fig(fig, filename, dpi=200, suffix=\".pdf\"):\n",
    "#     \"\"\"Save the figure with a global figure number.\"\"\"\n",
    "#     global FIGNUM_GLOBAL\n",
    "#     FIGNUM_GLOBAL += 1\n",
    "#     figpath = Path(fig_path / f\"{filename}_{FIGNUM_GLOBAL:02d}\")\n",
    "#     fig.savefig(figpath.with_suffix(suffix), \n",
    "#                 bbox_inches=\"tight\", \n",
    "#                 dpi=dpi)\n",
    "\n",
    "def save_fig(fig, filename, dpi=200, suffix=\".pdf\"):\n",
    "    figpath = Path(fig_path / f\"{filename}\")\n",
    "    fig.savefig(figpath.with_suffix(suffix), \n",
    "                bbox_inches=\"tight\", \n",
    "                dpi=dpi)\n",
    "    \n",
    "\n",
    "sns.set_style(\"white\")\n",
    "label_map = {\n",
    "    \"Reference_Split\": \"Dataset Split Type\",\n",
    "    \"Score\": \"Scoring Method\",\n",
    "    \"RandomSplit\": \"Randomly Ordered\",\n",
    "    \"DateSplit\": \"Ordered by Date\",\n",
    "    \"RMSD\": \"RMSD (Positive Control)\",\n",
    "    \"POSIT_Probability\": \"POSIT Probability\",\n",
    "    # \"PairwiseSplit\": \"Similarity Metric\",\n",
    "    \"Similarity_Threshold\": \"Similarity Threshold\",\n",
    "    \"ECFP4_2048\": \"ECFP4 2048\",\n",
    "    \"MCS\": \"MCS\",\n",
    "    \"TanimotoCombo_True\": \"Tanimoto Combo (Aligned)\",\n",
    "    # \"N_Reference_Structures\": \"Number of Randomly Chosen Reference Structures\",\n",
    "    \"N_Reference_Structures\": \"Number of Reference Structures Available to Use \\n(Log Scale)\",\n",
    "    \"Fraction\": \"Fraction of Ligands Posed \\n<2Å from Reference\",\n",
    "    \"CI_Lower\": \"Confidence Interval Lower Bound\",\n",
    "    \"CI_Upper\": \"Confidence Interval Upper Bound\",\n",
    "    \n",
    "}\n",
    "        \n",
    "X_VAR = label_map[\"N_Reference_Structures\"]\n",
    "Y_VAR = label_map[\"Fraction\"]\n",
    "X_LABEL = label_map[\"N_Reference_Structures\"]\n",
    "Y_LABEL = label_map[\"Fraction\"]\n",
    "# QUERY_SCAFFOLD_ID = label_map[\"Query_Scaffold_ID_Subset_1\"]\n",
    "# REF_SCAFFOLD_ID = label_map[\"Reference_Scaffold_ID_Subset_1\"]\n",
    "COLOR_VAR = label_map[\"Reference_Split\"]\n",
    "STYLE_VAR = label_map[\"Score\"]\n",
    "CI_LOWER = label_map[\"CI_Lower\"]\n",
    "CI_UPPER = label_map[\"CI_Upper\"]\n",
    "LARGE_FIG_SIZE = (12, 8)\n",
    "SMALL_FIG_SIZE = (8, 6)\n",
    "FONT_SIZES = {\n",
    "    \"xlabel\": 24,\n",
    "    \"ylabel\": 24,\n",
    "    \"ticks\": 18,\n",
    "    \"legend_title\": 24,\n",
    "    \"legend_text\": 18,\n",
    "}\n",
    "ALPHA = 0.1"
   ],
   "metadata": {
    "collapsed": false,
    "ExecuteTime": {
     "end_time": "2025-08-24T17:53:33.052670Z",
     "start_time": "2025-08-24T17:53:33.044618Z"
    }
   },
   "id": "1a208a63aa33eb75",
   "execution_count": 46
  },
  {
   "cell_type": "markdown",
   "source": [
    "# Plot Scaffolds Over Time"
   ],
   "metadata": {
    "collapsed": false
   },
   "id": "5a2349144822761e"
  },
  {
   "cell_type": "code",
   "outputs": [],
   "source": [
    "def make_image(df,x_col = \"Date\", color=\"cluster_id\"):\n",
    "    import plotly.express as px\n",
    "\n",
    "    large_font = 24\n",
    "    small_font = 18\n",
    "\n",
    "    fig = px.ecdf(\n",
    "        df,\n",
    "        x=x_col,\n",
    "        color=color,\n",
    "        ecdfnorm=None,\n",
    "        template=\"simple_white\",\n",
    "        height=600,\n",
    "        width=800,\n",
    "    )\n",
    "    # update legend title\n",
    "    fig.update_layout(legend_title_text=\"<b> Scaffold </b>\")\n",
    "    fig.update_xaxes(title_text=\"<b> Date of Crystal Structure Collection </b>\")\n",
    "    fig.update_yaxes(title_text=\"<b> Cumulative Number of Structures </b>\")\n",
    "\n",
    "    update_layout_dict = dict(\n",
    "        xaxis=dict(\n",
    "            title_font=dict(size=large_font),\n",
    "            color=\"black\",\n",
    "        ),\n",
    "        yaxis=dict(\n",
    "            # range=(0,1),\n",
    "            title_font=dict(size=large_font),\n",
    "            color=\"black\",\n",
    "        ),\n",
    "    )\n",
    "\n",
    "    # move legend to inside the plot\n",
    "    fig.update_layout(\n",
    "        legend=dict(yanchor=\"bottom\", y=0.25, xanchor=\"right\", x=1.1),\n",
    "        **update_layout_dict,\n",
    "    )\n",
    "\n",
    "    return fig"
   ],
   "metadata": {
    "collapsed": false,
    "ExecuteTime": {
     "end_time": "2025-08-24T17:53:33.806091Z",
     "start_time": "2025-08-24T17:53:33.798584Z"
    }
   },
   "id": "624441725dcea988",
   "execution_count": 47
  },
  {
   "cell_type": "code",
   "outputs": [],
   "source": [
    "pdf = ligand_df.sort_values(\"scaffold_count\", ascending=False)"
   ],
   "metadata": {
    "collapsed": false,
    "ExecuteTime": {
     "end_time": "2025-08-24T17:53:34.015045Z",
     "start_time": "2025-08-24T17:53:34.012132Z"
    }
   },
   "id": "d14d8bfce8a0ba65",
   "execution_count": 48
  },
  {
   "cell_type": "code",
   "outputs": [],
   "source": [
    "min_counts = 8\n",
    "labels = []\n",
    "for row in pdf.itertuples():\n",
    "    if row.scaffold_count > min_counts:\n",
    "        labels.append(f'Scaffold {row.scaffold_orig_id} - {row.scaffold_count} Molecules')\n",
    "    else:\n",
    "        labels.append(f'Misc Scaffolds - {sum(pdf.scaffold_count <= min_counts)} Molecules')"
   ],
   "metadata": {
    "collapsed": false,
    "ExecuteTime": {
     "end_time": "2025-08-24T17:53:34.346473Z",
     "start_time": "2025-08-24T17:53:34.319776Z"
    }
   },
   "id": "8e9f58d19a77a956",
   "execution_count": 49
  },
  {
   "cell_type": "code",
   "outputs": [],
   "source": [
    "pdf[\"simplified_scaffold_ids\"] = labels"
   ],
   "metadata": {
    "collapsed": false,
    "ExecuteTime": {
     "end_time": "2025-08-24T17:53:34.735962Z",
     "start_time": "2025-08-24T17:53:34.733166Z"
    }
   },
   "id": "5025236e13c8dcce",
   "execution_count": 50
  },
  {
   "cell_type": "code",
   "outputs": [],
   "source": [
    "fig = make_image(pdf, x_col=\"compound_date\", color=\"simplified_scaffold_ids\")\n",
    "fig.write_image(fig_path / \"scaffs_over_time_grouped.svg\")"
   ],
   "metadata": {
    "collapsed": false,
    "ExecuteTime": {
     "end_time": "2025-08-24T17:53:39.705636Z",
     "start_time": "2025-08-24T17:53:35.084783Z"
    }
   },
   "id": "69e8723da0d29dfe",
   "execution_count": 51
  },
  {
   "cell_type": "code",
   "outputs": [],
   "source": [
    "fig = make_image(pdf, x_col=\"compound_date\", color=\"scaffold_orig_id\")\n",
    "fig.write_image(fig_path / \"scaffs_over_time.svg\")"
   ],
   "metadata": {
    "collapsed": false,
    "ExecuteTime": {
     "end_time": "2025-08-24T17:53:40.864730Z",
     "start_time": "2025-08-24T17:53:39.707802Z"
    }
   },
   "id": "9d9a25a6a1bcf580",
   "execution_count": 52
  },
  {
   "cell_type": "markdown",
   "source": [
    "# save svg of all scaffolds"
   ],
   "metadata": {
    "collapsed": false
   },
   "id": "dd5a27b23cded6cf"
  },
  {
   "cell_type": "code",
   "outputs": [],
   "source": [
    "from rdkit import Chem\n",
    "from rdkit.Chem import Draw, rdDepictor"
   ],
   "metadata": {
    "collapsed": false,
    "ExecuteTime": {
     "end_time": "2025-08-24T17:53:41.282773Z",
     "start_time": "2025-08-24T17:53:40.866669Z"
    }
   },
   "id": "7afa888b48ab1043",
   "execution_count": 53
  },
  {
   "cell_type": "code",
   "outputs": [],
   "source": [
    "# get tuple of scaffold_id and rdkit mol\n",
    "scaffold_mols = df.copy()\n",
    "scaffold_mols['scaffold_mol'] = scaffold_mols.scaffold_smarts.apply(lambda x: Chem.MolFromSmiles(x) if x is not None else None)"
   ],
   "metadata": {
    "collapsed": false,
    "ExecuteTime": {
     "end_time": "2025-08-24T17:53:41.322481Z",
     "start_time": "2025-08-24T17:53:41.285202Z"
    }
   },
   "id": "702a7664a6cc4e30",
   "execution_count": 54
  },
  {
   "cell_type": "code",
   "outputs": [],
   "source": [
    "def draw_single_mol(mol, fn, size=(400, 400)):\n",
    "    mol = Chem.RemoveHs(mol)\n",
    "    rdDepictor.Compute2DCoords(mol)\n",
    "    rdDepictor.StraightenDepiction(mol)\n",
    "    \n",
    "    # Create the drawing object\n",
    "    drawer = Draw.rdMolDraw2D.MolDraw2DSVG(*size)\n",
    "    drawer.DrawMolecule(mol)\n",
    "    drawer.FinishDrawing()\n",
    "    svg = drawer.GetDrawingText()\n",
    "    with open(fn, \"w\") as f:\n",
    "        f.write(svg)\n",
    "    \n",
    "    img = Draw.MolsToImage([mol], subImgSize=size, legends=[f\"Scaffold {row.scaffold_orig_id}\"])\n",
    "    img.save(fn.with_suffix(\".png\"))"
   ],
   "metadata": {
    "collapsed": false,
    "ExecuteTime": {
     "end_time": "2025-08-24T17:53:41.328295Z",
     "start_time": "2025-08-24T17:53:41.323979Z"
    }
   },
   "id": "48abd6855c44ba3b",
   "execution_count": 55
  },
  {
   "cell_type": "code",
   "outputs": [],
   "source": [
    "scaff_dir = fig_path / \"scaffolds\"\n",
    "scaff_dir.mkdir(exist_ok=True)\n",
    "for i, row in scaffold_mols.iterrows():\n",
    "    if row.scaffold_mol is not None:\n",
    "        row.scaffold_mol.SetProp(\"_Name\", f\"Scaffold {row.scaffold_orig_id}\")\n",
    "        draw_single_mol(row.scaffold_mol, scaff_dir / f\"generic_scaffold_{row.scaffold_orig_id}.svg\")"
   ],
   "metadata": {
    "collapsed": false,
    "ExecuteTime": {
     "end_time": "2025-08-24T17:53:43.866041Z",
     "start_time": "2025-08-24T17:53:41.329801Z"
    }
   },
   "id": "d61ad698d12def91",
   "execution_count": 56
  },
  {
   "cell_type": "markdown",
   "source": [
    "# Plot histogram of mols per scaffold"
   ],
   "metadata": {
    "collapsed": false
   },
   "id": "18c39ff726e17f51"
  },
  {
   "cell_type": "code",
   "outputs": [
    {
     "data": {
      "text/plain": "     index        compound_name  scaffold_orig_id        compound_date  \\\n245    245   ALP-UNI-3735e77e-2                 1  2021-02-12 13:17:37   \n323    323   MAT-POS-96f51285-5                 1  2021-04-15 12:54:00   \n279    279   EDG-MED-70ae9412-2                 1  2021-02-12 14:44:58   \n246    246   EDG-MED-971238d3-1                 1  2021-02-12 13:48:37   \n290    290   MAT-POS-fb82b63d-3                 1  2021-04-15 18:16:54   \n..     ...                  ...               ...                  ...   \n276    276   RAL-THA-8416115c-5                48  2021-02-12 13:39:34   \n113    113  JAN-GHE-83b26c96-21                90  2020-06-30 21:11:36   \n182    182   MAR-UCB-f313ec4d-2                94  2020-10-09 00:26:20   \n181    181   ALP-POS-0c2c77e1-1                87  2020-09-16 13:37:49   \n118    118  ALP-POS-c0c213c9-14                83  2020-07-24 01:51:35   \n\n                                 scaffold_smarts  \\\n245            CC(CC1CCCC2CCCCC21)C1CCCC2CCCCC21   \n323            CC(CC1CCCC2CCCCC21)C1CCCC2CCCCC21   \n279            CC(CC1CCCC2CCCCC21)C1CCCC2CCCCC21   \n246            CC(CC1CCCC2CCCCC21)C1CCCC2CCCCC21   \n290            CC(CC1CCCC2CCCCC21)C1CCCC2CCCCC21   \n..                                           ...   \n276  CC(CC1CCCC2CCCCC21)C1CCC(CC2CCCC2)C2CCCCC12   \n113                     CC(C)(CC1CCCCC1)C1CCCCC1   \n182               CC(CCCCC1CCCCC1)C1CCCC2CCCCC21   \n181               CC(CC1CCCCC1)CC1CCCCC1C1CCCCC1   \n118   CC(CC1CCCCC1)C(CC1CCCC1)C1CCC(C2CCCCC2)CC1   \n\n                                                smiles  scaffold_count  \\\n245    c1ccc2c(c1)cncc2NC(=O)[C@@H]3CCOc4c3cc(cc4Cl)Cl              62   \n323  c1cc2cncc(c2cc1F)NC(=O)[C@@H]3CCOc4c3cc(c(c4)F)Cl              62   \n279  C[NH+](C)CC(=O)NC[C@]1(CCOc2c1cc(cc2)Cl)C(=O)N...              62   \n246    c1ccc2c(c1)cncc2NC(=O)[C@@]3(CCOc4c3cc(cc4)Cl)O              62   \n290  C[N@@H+]1CCc2ccc(cc2[C@@H]1C(=O)Nc3cncc4c3cccc...              62   \n..                                                 ...             ...   \n276  c1ccc2c(c1)cncc2NC(=O)[C@@H]3CCN(c4c3cc(cc4)Cl...               1   \n113                    Cc1ccncc1NS(=O)(=O)c2cccc(c2)Cl               1   \n182                  COc1ccccc1OCCNC(=O)c2cncc3c2cccc3               1   \n181              c1ccc(cc1)c2ccncc2NC(=O)Cc3cccc(c3)Cl               1   \n118     Cn1ccc(n1)CN(c2ccc(cc2)c3ccccn3)C(=O)Cc4cccnc4               1   \n\n     scaffold_first_date              scaffold_smarts_from_scaff_data  \\\n245  2020-09-15 19:26:20            CC(CC1CCCC2CCCCC21)C1CCCC2CCCCC21   \n323  2020-09-15 19:26:20            CC(CC1CCCC2CCCCC21)C1CCCC2CCCCC21   \n279  2020-09-15 19:26:20            CC(CC1CCCC2CCCCC21)C1CCCC2CCCCC21   \n246  2020-09-15 19:26:20            CC(CC1CCCC2CCCCC21)C1CCCC2CCCCC21   \n290  2020-09-15 19:26:20            CC(CC1CCCC2CCCCC21)C1CCCC2CCCCC21   \n..                   ...                                          ...   \n276  2021-02-12 13:39:34  CC(CC1CCCC2CCCCC21)C1CCC(CC2CCCC2)C2CCCCC12   \n113  2020-06-30 21:11:36                     CC(C)(CC1CCCCC1)C1CCCCC1   \n182  2020-10-09 00:26:20               CC(CCCCC1CCCCC1)C1CCCC2CCCCC21   \n181  2020-09-16 13:37:49               CC(CC1CCCCC1)CC1CCCCC1C1CCCCC1   \n118  2020-07-24 01:51:35   CC(CC1CCCCC1)C(CC1CCCC1)C1CCC(C2CCCCC2)CC1   \n\n            simplified_scaffold_ids  \n245       Scaffold 1 - 62 Molecules  \n323       Scaffold 1 - 62 Molecules  \n279       Scaffold 1 - 62 Molecules  \n246       Scaffold 1 - 62 Molecules  \n290       Scaffold 1 - 62 Molecules  \n..                              ...  \n276  Misc Scaffolds - 218 Molecules  \n113  Misc Scaffolds - 218 Molecules  \n182  Misc Scaffolds - 218 Molecules  \n181  Misc Scaffolds - 218 Molecules  \n118  Misc Scaffolds - 218 Molecules  \n\n[403 rows x 10 columns]",
      "text/html": "<div>\n<style scoped>\n    .dataframe tbody tr th:only-of-type {\n        vertical-align: middle;\n    }\n\n    .dataframe tbody tr th {\n        vertical-align: top;\n    }\n\n    .dataframe thead th {\n        text-align: right;\n    }\n</style>\n<table border=\"1\" class=\"dataframe\">\n  <thead>\n    <tr style=\"text-align: right;\">\n      <th></th>\n      <th>index</th>\n      <th>compound_name</th>\n      <th>scaffold_orig_id</th>\n      <th>compound_date</th>\n      <th>scaffold_smarts</th>\n      <th>smiles</th>\n      <th>scaffold_count</th>\n      <th>scaffold_first_date</th>\n      <th>scaffold_smarts_from_scaff_data</th>\n      <th>simplified_scaffold_ids</th>\n    </tr>\n  </thead>\n  <tbody>\n    <tr>\n      <th>245</th>\n      <td>245</td>\n      <td>ALP-UNI-3735e77e-2</td>\n      <td>1</td>\n      <td>2021-02-12 13:17:37</td>\n      <td>CC(CC1CCCC2CCCCC21)C1CCCC2CCCCC21</td>\n      <td>c1ccc2c(c1)cncc2NC(=O)[C@@H]3CCOc4c3cc(cc4Cl)Cl</td>\n      <td>62</td>\n      <td>2020-09-15 19:26:20</td>\n      <td>CC(CC1CCCC2CCCCC21)C1CCCC2CCCCC21</td>\n      <td>Scaffold 1 - 62 Molecules</td>\n    </tr>\n    <tr>\n      <th>323</th>\n      <td>323</td>\n      <td>MAT-POS-96f51285-5</td>\n      <td>1</td>\n      <td>2021-04-15 12:54:00</td>\n      <td>CC(CC1CCCC2CCCCC21)C1CCCC2CCCCC21</td>\n      <td>c1cc2cncc(c2cc1F)NC(=O)[C@@H]3CCOc4c3cc(c(c4)F)Cl</td>\n      <td>62</td>\n      <td>2020-09-15 19:26:20</td>\n      <td>CC(CC1CCCC2CCCCC21)C1CCCC2CCCCC21</td>\n      <td>Scaffold 1 - 62 Molecules</td>\n    </tr>\n    <tr>\n      <th>279</th>\n      <td>279</td>\n      <td>EDG-MED-70ae9412-2</td>\n      <td>1</td>\n      <td>2021-02-12 14:44:58</td>\n      <td>CC(CC1CCCC2CCCCC21)C1CCCC2CCCCC21</td>\n      <td>C[NH+](C)CC(=O)NC[C@]1(CCOc2c1cc(cc2)Cl)C(=O)N...</td>\n      <td>62</td>\n      <td>2020-09-15 19:26:20</td>\n      <td>CC(CC1CCCC2CCCCC21)C1CCCC2CCCCC21</td>\n      <td>Scaffold 1 - 62 Molecules</td>\n    </tr>\n    <tr>\n      <th>246</th>\n      <td>246</td>\n      <td>EDG-MED-971238d3-1</td>\n      <td>1</td>\n      <td>2021-02-12 13:48:37</td>\n      <td>CC(CC1CCCC2CCCCC21)C1CCCC2CCCCC21</td>\n      <td>c1ccc2c(c1)cncc2NC(=O)[C@@]3(CCOc4c3cc(cc4)Cl)O</td>\n      <td>62</td>\n      <td>2020-09-15 19:26:20</td>\n      <td>CC(CC1CCCC2CCCCC21)C1CCCC2CCCCC21</td>\n      <td>Scaffold 1 - 62 Molecules</td>\n    </tr>\n    <tr>\n      <th>290</th>\n      <td>290</td>\n      <td>MAT-POS-fb82b63d-3</td>\n      <td>1</td>\n      <td>2021-04-15 18:16:54</td>\n      <td>CC(CC1CCCC2CCCCC21)C1CCCC2CCCCC21</td>\n      <td>C[N@@H+]1CCc2ccc(cc2[C@@H]1C(=O)Nc3cncc4c3cccc...</td>\n      <td>62</td>\n      <td>2020-09-15 19:26:20</td>\n      <td>CC(CC1CCCC2CCCCC21)C1CCCC2CCCCC21</td>\n      <td>Scaffold 1 - 62 Molecules</td>\n    </tr>\n    <tr>\n      <th>...</th>\n      <td>...</td>\n      <td>...</td>\n      <td>...</td>\n      <td>...</td>\n      <td>...</td>\n      <td>...</td>\n      <td>...</td>\n      <td>...</td>\n      <td>...</td>\n      <td>...</td>\n    </tr>\n    <tr>\n      <th>276</th>\n      <td>276</td>\n      <td>RAL-THA-8416115c-5</td>\n      <td>48</td>\n      <td>2021-02-12 13:39:34</td>\n      <td>CC(CC1CCCC2CCCCC21)C1CCC(CC2CCCC2)C2CCCCC12</td>\n      <td>c1ccc2c(c1)cncc2NC(=O)[C@@H]3CCN(c4c3cc(cc4)Cl...</td>\n      <td>1</td>\n      <td>2021-02-12 13:39:34</td>\n      <td>CC(CC1CCCC2CCCCC21)C1CCC(CC2CCCC2)C2CCCCC12</td>\n      <td>Misc Scaffolds - 218 Molecules</td>\n    </tr>\n    <tr>\n      <th>113</th>\n      <td>113</td>\n      <td>JAN-GHE-83b26c96-21</td>\n      <td>90</td>\n      <td>2020-06-30 21:11:36</td>\n      <td>CC(C)(CC1CCCCC1)C1CCCCC1</td>\n      <td>Cc1ccncc1NS(=O)(=O)c2cccc(c2)Cl</td>\n      <td>1</td>\n      <td>2020-06-30 21:11:36</td>\n      <td>CC(C)(CC1CCCCC1)C1CCCCC1</td>\n      <td>Misc Scaffolds - 218 Molecules</td>\n    </tr>\n    <tr>\n      <th>182</th>\n      <td>182</td>\n      <td>MAR-UCB-f313ec4d-2</td>\n      <td>94</td>\n      <td>2020-10-09 00:26:20</td>\n      <td>CC(CCCCC1CCCCC1)C1CCCC2CCCCC21</td>\n      <td>COc1ccccc1OCCNC(=O)c2cncc3c2cccc3</td>\n      <td>1</td>\n      <td>2020-10-09 00:26:20</td>\n      <td>CC(CCCCC1CCCCC1)C1CCCC2CCCCC21</td>\n      <td>Misc Scaffolds - 218 Molecules</td>\n    </tr>\n    <tr>\n      <th>181</th>\n      <td>181</td>\n      <td>ALP-POS-0c2c77e1-1</td>\n      <td>87</td>\n      <td>2020-09-16 13:37:49</td>\n      <td>CC(CC1CCCCC1)CC1CCCCC1C1CCCCC1</td>\n      <td>c1ccc(cc1)c2ccncc2NC(=O)Cc3cccc(c3)Cl</td>\n      <td>1</td>\n      <td>2020-09-16 13:37:49</td>\n      <td>CC(CC1CCCCC1)CC1CCCCC1C1CCCCC1</td>\n      <td>Misc Scaffolds - 218 Molecules</td>\n    </tr>\n    <tr>\n      <th>118</th>\n      <td>118</td>\n      <td>ALP-POS-c0c213c9-14</td>\n      <td>83</td>\n      <td>2020-07-24 01:51:35</td>\n      <td>CC(CC1CCCCC1)C(CC1CCCC1)C1CCC(C2CCCCC2)CC1</td>\n      <td>Cn1ccc(n1)CN(c2ccc(cc2)c3ccccn3)C(=O)Cc4cccnc4</td>\n      <td>1</td>\n      <td>2020-07-24 01:51:35</td>\n      <td>CC(CC1CCCCC1)C(CC1CCCC1)C1CCC(C2CCCCC2)CC1</td>\n      <td>Misc Scaffolds - 218 Molecules</td>\n    </tr>\n  </tbody>\n</table>\n<p>403 rows × 10 columns</p>\n</div>"
     },
     "execution_count": 57,
     "metadata": {},
     "output_type": "execute_result"
    }
   ],
   "source": [
    "pdf"
   ],
   "metadata": {
    "collapsed": false,
    "ExecuteTime": {
     "end_time": "2025-08-24T17:53:43.877471Z",
     "start_time": "2025-08-24T17:53:43.867541Z"
    }
   },
   "id": "9badaf8dad81708b",
   "execution_count": 57
  },
  {
   "cell_type": "code",
   "outputs": [
    {
     "data": {
      "text/plain": "<Figure size 400x400 with 1 Axes>",
      "image/png": "[encoded data removed]"
     },
     "metadata": {},
     "output_type": "display_data"
    }
   ],
   "source": [
    "sns.set_style(\"ticks\")\n",
    "plt.figure(figsize=(4,4))\n",
    "ax = sns.histplot(df, x=\"scaffold_count\", binwidth=2)\n",
    "\n",
    "# Set the y-axis to a logarithmic scale\n",
    "ax.set_yscale('log')\n",
    "ax.yaxis.set_major_formatter(ScalarFormatter())\n",
    "from itertools import product\n",
    "custom_ticks = list([a*b for a,b in product([1,2,5], [1,10,100]) if a*b <= 100])\n",
    "ax.set_yticks(custom_ticks)\n",
    "ax.set_ylabel(\"Number of Scaffolds \\nwith N Molecules\")\n",
    "ax.set_xlabel(\"Number of Molecules per Scaffold\")\n",
    "save_fig(plt.gcf(), \"scaffold_histogram\")"
   ],
   "metadata": {
    "collapsed": false,
    "ExecuteTime": {
     "end_time": "2025-08-24T17:53:44.963006Z",
     "start_time": "2025-08-24T17:53:43.878590Z"
    }
   },
   "id": "6a07f9365414886f",
   "execution_count": 58
  },
  {
   "cell_type": "code",
   "outputs": [],
   "source": [],
   "metadata": {
    "collapsed": false,
    "ExecuteTime": {
     "end_time": "2025-08-24T17:53:44.966475Z",
     "start_time": "2025-08-24T17:53:44.964494Z"
    }
   },
   "id": "3e800912b596b62a",
   "execution_count": 58
  },
  {
   "cell_type": "markdown",
   "source": [
    "# write out scaffold df"
   ],
   "metadata": {
    "collapsed": false
   },
   "id": "3678cfc070bf3b93"
  },
  {
   "cell_type": "code",
   "outputs": [],
   "source": [
    "ligand_df.to_csv(\"ligand_scaffold_data.csv\", index=False)"
   ],
   "metadata": {
    "collapsed": false,
    "ExecuteTime": {
     "end_time": "2025-08-24T17:53:44.984317Z",
     "start_time": "2025-08-24T17:53:44.969635Z"
    }
   },
   "id": "e13e2dfcc2ea8106",
   "execution_count": 59
  }
 ],
 "metadata": {
  "kernelspec": {
   "display_name": "Python 3",
   "language": "python",
   "name": "python3"
  },
  "language_info": {
   "codemirror_mode": {
    "name": "ipython",
    "version": 2
   },
   "file_extension": ".py",
   "mimetype": "text/x-python",
   "name": "python",
   "nbconvert_exporter": "python",
   "pygments_lexer": "ipython2",
   "version": "2.7.6"
  }
 },
 "nbformat": 4,
 "nbformat_minor": 5
}
