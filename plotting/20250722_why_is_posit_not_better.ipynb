{
 "cells": [
  {
   "cell_type": "markdown",
   "source": [
    "# Imports"
   ],
   "metadata": {
    "collapsed": false
   },
   "id": "1281c8b382d8b02"
  },
  {
   "cell_type": "code",
   "outputs": [],
   "source": [
    "import matplotlib.pyplot as plt\n",
    "from matplotlib.ticker import ScalarFormatter\n",
    "import seaborn as sns\n",
    "import pandas as pd\n",
    "from pathlib import Path\n",
    "from harbor.analysis import cross_docking as cd"
   ],
   "metadata": {
    "collapsed": false
   },
   "id": "58494224af823db2",
   "execution_count": null
  },
  {
   "cell_type": "markdown",
   "source": [
    "# Load Data"
   ],
   "metadata": {
    "collapsed": false
   },
   "id": "6edccf317d5e5a47"
  },
  {
   "cell_type": "code",
   "outputs": [],
   "source": [
    "pose_data_path = Path(\"/Users/alexpayne/Scientific_Projects/mers-drug-discovery/sars2-retrospective-analysis/full_cross_dock_v2_combined_results/ALL_1_poses.parquet\")\n",
    "pose_data = cd.DockingDataModel.deserialize(pose_data_path)"
   ],
   "metadata": {
    "collapsed": false
   },
   "id": "c21e117c9bfb7f3d",
   "execution_count": null
  },
  {
   "cell_type": "code",
   "outputs": [],
   "source": [
    "fpd_path = Path(\"/Users/alexpayne/Scientific_Projects/mers-drug-discovery/sars2-retrospective-analysis/full_cross_dock_v2_combined_results/FRED_1_poses.parquet\")\n",
    "fpd = cd.DockingDataModel.deserialize(fpd_path)"
   ],
   "metadata": {
    "collapsed": false
   },
   "id": "94410b0e2a2bf0f1",
   "execution_count": null
  },
  {
   "cell_type": "code",
   "outputs": [],
   "source": [
    "fdf = fpd.dataframe\n",
    "fdf[\"Method\"] = \"FRED\""
   ],
   "metadata": {
    "collapsed": false
   },
   "id": "5b2ed002b8730e0",
   "execution_count": null
  },
  {
   "cell_type": "code",
   "outputs": [],
   "source": [
    "pdf = pose_data.dataframe\n",
    "pdf[\"Method\"] = \"POSIT\""
   ],
   "metadata": {
    "collapsed": false
   },
   "id": "d80e41c318e4d097",
   "execution_count": null
  },
  {
   "cell_type": "code",
   "outputs": [],
   "source": [
    "raw_df = pd.concat([fdf, pdf])"
   ],
   "metadata": {
    "collapsed": false
   },
   "id": "c190304d0fc05751",
   "execution_count": null
  },
  {
   "cell_type": "code",
   "outputs": [],
   "source": [
    "tc_df = raw_df[raw_df[\"TanimotoComboData_Aligned\"] == False] "
   ],
   "metadata": {
    "collapsed": false
   },
   "id": "a4bb76c1f1665b14",
   "execution_count": null
  },
  {
   "cell_type": "code",
   "outputs": [],
   "source": [
    "df = tc_df.copy()"
   ],
   "metadata": {
    "collapsed": false
   },
   "id": "18571ee692635d7f",
   "execution_count": null
  },
  {
   "cell_type": "code",
   "outputs": [],
   "source": [
    "sns.displot(df, x=\"TanimotoComboData_Tanimoto\", hue=\"Method\", kind=\"ecdf\")"
   ],
   "metadata": {
    "collapsed": false
   },
   "id": "8100433c63baf7b3",
   "execution_count": null
  },
  {
   "cell_type": "code",
   "outputs": [],
   "source": [
    "sns.displot(df[df[\"Method\"] == \"POSIT\"], x=\"TanimotoComboData_Tanimoto\", hue=\"PoseData_POSIT_Method\", kind=\"ecdf\")"
   ],
   "metadata": {
    "collapsed": false
   },
   "id": "7a756faad277a754",
   "execution_count": null
  },
  {
   "cell_type": "code",
   "outputs": [],
   "source": [],
   "metadata": {
    "collapsed": false
   },
   "id": "62b61b71999505b5"
  },
  {
   "cell_type": "code",
   "outputs": [],
   "source": [
    "tc_df = raw_df[raw_df[\"TanimotoComboData_Aligned\"] == True] "
   ],
   "metadata": {
    "collapsed": false
   },
   "id": "cf50ee9836cd6346",
   "execution_count": null
  },
  {
   "cell_type": "code",
   "outputs": [],
   "source": [
    "df = tc_df.copy()"
   ],
   "metadata": {
    "collapsed": false
   },
   "id": "c606f16b5ad1864c",
   "execution_count": null
  },
  {
   "cell_type": "code",
   "outputs": [],
   "source": [
    "sns.displot(df, x=\"TanimotoComboData_Tanimoto\", hue=\"Method\", kind=\"ecdf\")"
   ],
   "metadata": {
    "collapsed": false
   },
   "id": "634e9dd2b80aab9e",
   "execution_count": null
  },
  {
   "cell_type": "code",
   "outputs": [],
   "source": [
    "sns.displot(df[df[\"Method\"] == \"POSIT\"], x=\"TanimotoComboData_Tanimoto\", hue=\"PoseData_POSIT_Method\", kind=\"ecdf\")"
   ],
   "metadata": {
    "collapsed": false
   },
   "id": "81d9575e4279da50",
   "execution_count": null
  },
  {
   "cell_type": "code",
   "outputs": [],
   "source": [
    "mvar = \"PoseData_POSIT_Method\"\n",
    "df[\"complex_id\"] = df[\"Query_Ligand\"] + \"_\" + df[\"Reference_Structure\"] \n",
    "dfs = {}\n",
    "for method in df[mvar].unique():\n",
    "    # filter data by all the results for POSIT that \n",
    "    filtered_posit_data = df[(df[mvar] == method)&(df[\"Method\"] == \"POSIT\")]\n",
    "    filtered_data = df[df[\"complex_id\"].isin(filtered_posit_data[\"complex_id\"].unique())]\n",
    "    dfs[method] = filtered_data.copy()"
   ],
   "metadata": {
    "collapsed": false
   },
   "id": "1e8c16b4a1ac3669",
   "execution_count": null
  },
  {
   "cell_type": "code",
   "outputs": [],
   "source": [
    "dfs.keys()"
   ],
   "metadata": {
    "collapsed": false
   },
   "id": "a983540d1a1348b2",
   "execution_count": null
  },
  {
   "cell_type": "code",
   "outputs": [],
   "source": [
    "def plot_ecdf(method):\n",
    "    sns.displot(dfs[method], x=\"TanimotoComboData_Tanimoto\", hue=\"Method\", kind=\"ecdf\")\n",
    "    plt.xlim(0,1)\n",
    "    plt.ylim(0,1)"
   ],
   "metadata": {
    "collapsed": false
   },
   "id": "ebe788e7af43c871",
   "execution_count": null
  },
  {
   "cell_type": "code",
   "outputs": [],
   "source": [
    "plot_ecdf(\"FRED\")"
   ],
   "metadata": {
    "collapsed": false
   },
   "id": "69ccdf54bb662d97",
   "execution_count": null
  },
  {
   "cell_type": "code",
   "outputs": [],
   "source": [
    "plot_ecdf(\"HYBRID\")"
   ],
   "metadata": {
    "collapsed": false
   },
   "id": "fa31d71de5bae987",
   "execution_count": null
  },
  {
   "cell_type": "markdown",
   "source": [
    "## make evaluator with minimal bootstraps"
   ],
   "metadata": {
    "collapsed": false
   },
   "id": "90e347b8090802a"
  },
  {
   "cell_type": "code",
   "outputs": [],
   "source": [
    "fred_df = dfs[\"FRED\"]\n",
    "fred_fred_df = fred_df[fred_df[\"Method\"] == \"FRED\"]\n",
    "posit_fred_df = fred_df[fred_df[\"Method\"] == \"POSIT\"]"
   ],
   "metadata": {
    "collapsed": false
   },
   "id": "2822825dfa3512d0",
   "execution_count": null
  },
  {
   "cell_type": "code",
   "outputs": [],
   "source": [
    "len(fred_fred_df)"
   ],
   "metadata": {
    "collapsed": false
   },
   "id": "8565e05e90c4fc73",
   "execution_count": null
  },
  {
   "cell_type": "code",
   "outputs": [],
   "source": [
    "len(posit_fred_df)"
   ],
   "metadata": {
    "collapsed": false
   },
   "id": "dbdd4537f8f189a6",
   "execution_count": null
  },
  {
   "cell_type": "code",
   "outputs": [],
   "source": [
    "# update default settings\n",
    "default = cd.EvaluatorFactory(name=\"default\")\n",
    "default.n_bootstraps = 10\n",
    "\n",
    "default.success_rate_evaluator_settings.use = True\n",
    "default.success_rate_evaluator_settings.success_rate_column = \"PoseData_RMSD\"\n",
    "\n",
    "default.scorer_settings.rmsd_scorer_settings.use = True\n",
    "default.scorer_settings.rmsd_scorer_settings.rmsd_column_name = \"PoseData_RMSD\"\n",
    "\n",
    "default.scorer_settings.posit_scorer_settings.use = True\n",
    "default.scorer_settings.posit_scorer_settings.posit_score_column_name = (\n",
    "    \"PoseData_docking-confidence-POSIT\"\n",
    ")\n",
    "# similarity split\n",
    "sim_split = default.__deepcopy__()\n",
    "sim_split.name = \"increasing_similarity_tanimoto_combo_aligned\"\n",
    "sim_split.pairwise_split_settings.use = True\n",
    "sim_split.pairwise_split_settings.similarity_split_settings.use = True\n",
    "sim_split.pairwise_split_settings.similarity_split_settings.similarity_column_name = (\n",
    "    \"TanimotoComboData_Tanimoto\"\n",
    ")\n",
    "sim_split.pairwise_split_settings.similarity_split_settings.include_similar = False\n",
    "sim_split.pairwise_split_settings.similarity_split_settings.similarity_groupby_dict = {\n",
    "    \"TanimotoComboData_Type\": \"TanimotoCombo\",\n",
    "    \"TanimotoComboData_Aligned\": True,\n",
    "}"
   ],
   "metadata": {
    "collapsed": false
   },
   "id": "ec91e5db6d7a8f1e",
   "execution_count": null
  },
  {
   "cell_type": "code",
   "outputs": [],
   "source": [
    "evs = sim_split.create_evaluators()"
   ],
   "metadata": {
    "collapsed": false
   },
   "id": "4fa32c48e7d3efe7",
   "execution_count": null
  },
  {
   "cell_type": "code",
   "outputs": [],
   "source": [
    "len(evs)"
   ],
   "metadata": {
    "collapsed": false
   },
   "id": "82ed85b8c7a09a65",
   "execution_count": null
  },
  {
   "cell_type": "code",
   "outputs": [],
   "source": [
    "ev_df = pd.DataFrame.from_records([ev.get_records() for ev in evs])"
   ],
   "metadata": {
    "collapsed": false
   },
   "id": "ba6f650d9d40d23b",
   "execution_count": null
  },
  {
   "cell_type": "code",
   "outputs": [],
   "source": [
    "ffd = cd.DockingDataModel(dataframe=fred_fred_df, **fpd.model_dump())"
   ],
   "metadata": {
    "collapsed": false
   },
   "id": "b42302532156beee",
   "execution_count": null
  },
  {
   "cell_type": "code",
   "outputs": [],
   "source": [
    "pfd = cd.DockingDataModel(dataframe=posit_fred_df, **pose_data.model_dump())"
   ],
   "metadata": {
    "collapsed": false
   },
   "id": "73b9f9916b671ab7",
   "execution_count": null
  },
  {
   "cell_type": "code",
   "outputs": [],
   "source": [
    "fred_fred_results = cd.Results.calculate_results(ffd, evs)"
   ],
   "metadata": {
    "collapsed": false
   },
   "id": "be29f04d4823558a",
   "execution_count": null
  },
  {
   "cell_type": "code",
   "outputs": [],
   "source": [
    "posit_fred_results = cd.Results.calculate_results(pfd, evs)"
   ],
   "metadata": {
    "collapsed": false
   },
   "id": "10c7e93ccceeb088",
   "execution_count": null
  },
  {
   "cell_type": "code",
   "outputs": [],
   "source": [
    "fred_fred_results_df = cd.Results.df_from_results(fred_fred_results)\n",
    "fred_fred_results_df[\"Method\"] = \"FRED\"\n",
    "posit_fred_results_df = cd.Results.df_from_results(posit_fred_results)\n",
    "posit_fred_results_df[\"Method\"] = \"POSIT\""
   ],
   "metadata": {
    "collapsed": false
   },
   "id": "fffab96207a37564",
   "execution_count": null
  },
  {
   "cell_type": "code",
   "outputs": [],
   "source": [
    "fred_results = pd.concat([fred_fred_results_df, posit_fred_results_df])"
   ],
   "metadata": {
    "collapsed": false
   },
   "id": "95686cf22ebb7b89",
   "execution_count": null
  },
  {
   "cell_type": "markdown",
   "source": [
    "## now plot"
   ],
   "metadata": {
    "collapsed": false
   },
   "id": "bce0e7e2a2279001"
  },
  {
   "cell_type": "markdown",
   "source": [
    "# Plotting Params"
   ],
   "metadata": {
    "collapsed": false
   },
   "id": "3ac749ef2d844ee9"
  },
  {
   "cell_type": "code",
   "outputs": [],
   "source": [
    "# Global configuration\n",
    "fig_path = Path(\"./20250722_why_is_posit_not_better\")\n",
    "fig_path.mkdir(parents=True, exist_ok=True)\n",
    "\n",
    "FIGNUM_GLOBAL = 0\n",
    "\n",
    "# def save_fig(fig, filename, dpi=200, suffix=\".pdf\"):\n",
    "#     \"\"\"Save the figure with a global figure number.\"\"\"\n",
    "#     global FIGNUM_GLOBAL\n",
    "#     FIGNUM_GLOBAL += 1\n",
    "#     figpath = Path(fig_path / f\"{filename}_{FIGNUM_GLOBAL:02d}\")\n",
    "#     fig.savefig(figpath.with_suffix(suffix), \n",
    "#                 bbox_inches=\"tight\", \n",
    "#                 dpi=dpi)\n",
    "\n",
    "def save_fig(fig, filename, dpi=200, suffix=\".pdf\"):\n",
    "    figpath = Path(fig_path / f\"{filename}\")\n",
    "    fig.savefig(figpath.with_suffix(suffix), \n",
    "                bbox_inches=\"tight\", \n",
    "                dpi=dpi)\n",
    "    \n",
    "\n",
    "sns.set_style(\"white\")\n",
    "label_map = {\n",
    "    \"Reference_Split\": \"Dataset Split Type\",\n",
    "    \"Score\": \"Scoring Method\",\n",
    "    \"RandomSplit\": \"Randomly Ordered\",\n",
    "    \"DateSplit\": \"Ordered by Date\",\n",
    "    \"RMSD\": \"RMSD (Positive Control)\",\n",
    "    \"POSIT_Probability\": \"POSIT Probability\",\n",
    "    # \"PairwiseSplit\": \"Similarity Metric\",\n",
    "    \"Similarity_Threshold\": \"Similarity Threshold\",\n",
    "    \"ECFP4_2048\": \"ECFP4 2048\",\n",
    "    \"MCS\": \"MCS\",\n",
    "    \"TanimotoCombo_True\": \"Tanimoto Combo (Aligned)\",\n",
    "    # \"N_Reference_Structures\": \"Number of Randomly Chosen Reference Structures\",\n",
    "    \"N_Reference_Structures\": \"Number of Reference Structures Available to Use \\n(Log Scale)\",\n",
    "    \"Fraction\": \"Fraction of Ligands Posed \\n<2Å from Reference\",\n",
    "    \"CI_Lower\": \"Confidence Interval Lower Bound\",\n",
    "    \"CI_Upper\": \"Confidence Interval Upper Bound\",\n",
    "    \n",
    "}\n",
    "for column in pdf.columns:\n",
    "    if not column in label_map:\n",
    "        label_map[column] = column\n",
    "        \n",
    "X_VAR = label_map[\"N_Reference_Structures\"]\n",
    "Y_VAR = label_map[\"Fraction\"]\n",
    "X_LABEL = label_map[\"N_Reference_Structures\"]\n",
    "Y_LABEL = label_map[\"Fraction\"]\n",
    "# QUERY_SCAFFOLD_ID = label_map[\"Query_Scaffold_ID_Subset_1\"]\n",
    "# REF_SCAFFOLD_ID = label_map[\"Reference_Scaffold_ID_Subset_1\"]\n",
    "COLOR_VAR = label_map[\"Reference_Split\"]\n",
    "STYLE_VAR = label_map[\"Score\"]\n",
    "CI_LOWER = label_map[\"CI_Lower\"]\n",
    "CI_UPPER = label_map[\"CI_Upper\"]\n",
    "LARGE_FIG_SIZE = (12, 8)\n",
    "SMALL_FIG_SIZE = (8, 6)\n",
    "FONT_SIZES = {\n",
    "    \"xlabel\": 24,\n",
    "    \"ylabel\": 24,\n",
    "    \"ticks\": 18,\n",
    "    \"legend_title\": 24,\n",
    "    \"legend_text\": 18,\n",
    "}\n",
    "ALPHA = 0.1"
   ],
   "metadata": {
    "collapsed": false
   },
   "id": "b1d365838d89d626",
   "execution_count": null
  },
  {
   "cell_type": "markdown",
   "source": [
    "## functions"
   ],
   "metadata": {
    "collapsed": false
   },
   "id": "f5d20b594678dc55"
  },
  {
   "cell_type": "code",
   "outputs": [],
   "source": [
    "def plot_filled_in_error_bars(\n",
    "    raw_df,\n",
    "    x_var=X_VAR,\n",
    "    y_var=Y_VAR,\n",
    "    color_var=COLOR_VAR,\n",
    "    style_var=STYLE_VAR,\n",
    "    ci_lower=CI_LOWER,\n",
    "    ci_upper=CI_UPPER,\n",
    "    x_label=X_LABEL,\n",
    "    y_label=Y_LABEL,\n",
    "    reverse_hue_order=False,\n",
    "    reverse_style_order=False,\n",
    "):\n",
    "    # Sort the dataframe\n",
    "    raw_df = raw_df.sort_values(by=[x_var, style_var, color_var])\n",
    "    plt.figure(figsize=(LARGE_FIG_SIZE[0], LARGE_FIG_SIZE[1]))\n",
    "    \n",
    "    # Define hue and style orders\n",
    "    hue_order = list(reversed(sorted(raw_df[color_var].unique()))) if reverse_hue_order else list(sorted(raw_df[color_var].unique()))\n",
    "    style_order = list(reversed(sorted(raw_df[style_var].unique()))) if reverse_style_order else list(sorted(raw_df[style_var].unique()))\n",
    "    \n",
    "    # Create color mapping\n",
    "    unique_colors = sns.color_palette(n_colors=len(raw_df[color_var].unique()))\n",
    "    color_map = dict(zip(hue_order, unique_colors))\n",
    "    \n",
    "    \n",
    "    \n",
    "    # Create the line plot\n",
    "    fig = sns.lineplot(\n",
    "        data=raw_df,\n",
    "        x=x_var,\n",
    "        y=y_var,\n",
    "        hue=color_var,\n",
    "        style=style_var,  # Keep style_var for line styles\n",
    "        palette=color_map,\n",
    "        hue_order=hue_order,\n",
    "        style_order= style_order,\n",
    "    )\n",
    "\n",
    "\n",
    "    # Create fill between for each group using matched colors\n",
    "    for name, group in raw_df.groupby([color_var, style_var]):\n",
    "        color_name = name[0]  # First element is Score\n",
    "        fig.fill_between(\n",
    "            group[x_var],\n",
    "            group[ci_lower],\n",
    "            group[ci_upper],\n",
    "            color=color_map[color_name],\n",
    "            alpha=ALPHA,\n",
    "        )\n",
    "    \n",
    "    # Customize each subplot\n",
    "    # fig.set_xscale(\"log\")\n",
    "    # fig.xaxis.set_major_formatter(ScalarFormatter())\n",
    "\n",
    "    # custom_ticks = [1, 5, 10, 20, 50, 100, 200, raw_df[x_var].max()]\n",
    "    # fig.set_xticks(custom_ticks)\n",
    "    # fig.set_xticklabels(custom_ticks, fontsize=FONT_SIZES[\"ticks\"])\n",
    "    fig.tick_params(axis='y', labelsize=FONT_SIZES[\"ticks\"])\n",
    "\n",
    "    fig.set_xlabel(x_label, fontsize=FONT_SIZES[\"xlabel\"], fontweight=\"bold\")\n",
    "    fig.set_ylabel(y_label, fontsize=FONT_SIZES[\"ylabel\"], fontweight=\"bold\")\n",
    "\n",
    "    # Customize legend\n",
    "    legend = fig.legend()\n",
    "    plt.setp(legend.get_title(), fontsize=FONT_SIZES[\"legend_title\"], fontweight=\"bold\")\n",
    "    plt.setp(legend.get_texts(), fontsize=FONT_SIZES[\"legend_text\"])\n",
    "    return plt"
   ],
   "metadata": {
    "collapsed": false
   },
   "id": "1a785ff2e3f9e0a1",
   "execution_count": null
  },
  {
   "cell_type": "code",
   "outputs": [],
   "source": [
    "df = fred_results.copy()"
   ],
   "metadata": {
    "collapsed": false
   },
   "id": "8a31236dc84b833c",
   "execution_count": null
  },
  {
   "cell_type": "code",
   "outputs": [],
   "source": [
    "df = df.rename(columns=label_map)"
   ],
   "metadata": {
    "collapsed": false
   },
   "id": "eeec8dc9dbe43cf1",
   "execution_count": null
  },
  {
   "cell_type": "code",
   "outputs": [],
   "source": [
    "for column in df.columns:\n",
    "    df[column] = df[column].apply(lambda x: label_map.get(x,x))"
   ],
   "metadata": {
    "collapsed": false
   },
   "id": "bcf5702121049c97",
   "execution_count": null
  },
  {
   "cell_type": "code",
   "outputs": [],
   "source": [
    "plot_filled_in_error_bars(df, x_var=label_map[\"Similarity_Threshold\"], color_var=\"Method\", style_var=label_map[\"Score\"], x_label=\"Query to Reference Ligand Similarity\")"
   ],
   "metadata": {
    "collapsed": false
   },
   "id": "4acb10ee69462887",
   "execution_count": null
  },
  {
   "cell_type": "code",
   "outputs": [],
   "source": [
    "def calculate_results(method, dfs):\n",
    "    filtered_df = dfs[method]\n",
    "    \n",
    "    # separate dfs\n",
    "    fdf = filtered_df[filtered_df[\"Method\"] == \"FRED\"]\n",
    "    pdf = filtered_df[filtered_df[\"Method\"] == \"POSIT\"]\n",
    "    \n",
    "    assert len(fdf) == len(pdf)\n",
    "    \n",
    "    evs = sim_split.create_evaluators()\n",
    "    \n",
    "    assert len(evs) == 42\n",
    "    \n",
    "    ev_df = pd.DataFrame.from_records([ev.get_records() for ev in evs])\n",
    "    \n",
    "    fred_data_model = cd.DockingDataModel(dataframe=fdf, **fpd.model_dump())\n",
    "    posit_data_model = cd.DockingDataModel(dataframe=pdf, **pose_data.model_dump())\n",
    "    \n",
    "    fred_results = cd.Results.calculate_results(fred_data_model, evs)\n",
    "    posit_results = cd.Results.calculate_results(posit_data_model, evs)\n",
    "    \n",
    "    fred_results_df = cd.Results.df_from_results(fred_results)\n",
    "    fred_results_df[\"Method\"] = \"FRED\"\n",
    "    posit_results_df = cd.Results.df_from_results(posit_results)\n",
    "    posit_results_df[\"Method\"] = \"POSIT\"\n",
    "    \n",
    "    return_results = pd.concat([fred_results_df, posit_results_df])\n",
    "    return return_results"
   ],
   "metadata": {
    "collapsed": false
   },
   "id": "60af212d1f46a09c",
   "execution_count": null
  },
  {
   "cell_type": "code",
   "outputs": [],
   "source": [
    "hybrid_results = calculate_results(\"HYBRID\", dfs)"
   ],
   "metadata": {
    "collapsed": false
   },
   "id": "62b90c20e2a6fc70",
   "execution_count": null
  },
  {
   "cell_type": "code",
   "outputs": [],
   "source": [
    "fred_results = calculate_results(\"FRED\", dfs)"
   ],
   "metadata": {
    "collapsed": false
   },
   "id": "7e22cefdc5ad3537",
   "execution_count": null
  },
  {
   "cell_type": "code",
   "outputs": [],
   "source": [
    "shapefit_results = calculate_results(\"SHAPEFIT\", dfs)"
   ],
   "metadata": {
    "collapsed": false
   },
   "id": "2c68990ba10f8232",
   "execution_count": null
  },
  {
   "cell_type": "code",
   "outputs": [],
   "source": [
    "df = fred_results.copy()\n",
    "df = df.rename(columns=label_map)\n",
    "for column in df.columns:\n",
    "    df[column] = df[column].apply(lambda x: label_map.get(x,x))\n",
    "fig = plot_filled_in_error_bars(df, x_var=label_map[\"Similarity_Threshold\"], color_var=\"Method\", style_var=label_map[\"Score\"], x_label=\"Query to Reference Ligand Similarity\")\n",
    "save_fig(fig, \"fred_fred_vs_posit_all_available_structures\")"
   ],
   "metadata": {
    "collapsed": false
   },
   "id": "4a4bbde7d84ca19e",
   "execution_count": null
  },
  {
   "cell_type": "code",
   "outputs": [],
   "source": [
    "df = shapefit_results.copy()\n",
    "df = df.rename(columns=label_map)\n",
    "for column in df.columns:\n",
    "    df[column] = df[column].apply(lambda x: label_map.get(x,x))\n",
    "fig = plot_filled_in_error_bars(df, x_var=label_map[\"Similarity_Threshold\"], color_var=\"Method\", style_var=label_map[\"Score\"], x_label=\"Query to Reference Ligand Similarity\")\n",
    "save_fig(fig, \"shapefit_fred_vs_posit\")"
   ],
   "metadata": {
    "collapsed": false
   },
   "id": "96e389a8c37ac92a",
   "execution_count": null
  },
  {
   "cell_type": "code",
   "outputs": [],
   "source": [
    "df = hybrid_results.copy()\n",
    "df = df.rename(columns=label_map)\n",
    "for column in df.columns:\n",
    "    df[column] = df[column].apply(lambda x: label_map.get(x,x))\n",
    "fig = plot_filled_in_error_bars(df, x_var=label_map[\"Similarity_Threshold\"], color_var=\"Method\", style_var=label_map[\"Score\"], x_label=\"Query to Reference Ligand Similarity\")\n",
    "save_fig(fig, \"hybrid_fred_vs_posit\")"
   ],
   "metadata": {
    "collapsed": false
   },
   "id": "1e3bf1edb2dafed6",
   "execution_count": null
  },
  {
   "cell_type": "code",
   "outputs": [],
   "source": [],
   "metadata": {
    "collapsed": false
   },
   "id": "d68214d3ea84a833"
  }
 ],
 "metadata": {
  "kernelspec": {
   "display_name": "Python 3",
   "language": "python",
   "name": "python3"
  },
  "language_info": {
   "codemirror_mode": {
    "name": "ipython",
    "version": 2
   },
   "file_extension": ".py",
   "mimetype": "text/x-python",
   "name": "python",
   "nbconvert_exporter": "python",
   "pygments_lexer": "ipython2",
   "version": "2.7.6"
  }
 },
 "nbformat": 4,
 "nbformat_minor": 5
}
