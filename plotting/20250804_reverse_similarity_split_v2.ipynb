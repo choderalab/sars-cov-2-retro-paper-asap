{
 "cells": [
  {
   "cell_type": "markdown",
   "source": [
    "# Imports"
   ],
   "metadata": {
    "collapsed": false
   },
   "id": "495151c3b9536b48"
  },
  {
   "cell_type": "code",
   "outputs": [],
   "source": [
    "import pandas as pd\n",
    "import json\n",
    "from datetime import datetime\n",
    "import plotly.express as px\n",
    "from pathlib import Path\n",
    "import sys\n",
    "from matplotlib.pyplot import ScalarFormatter\n",
    "from asapdiscovery.data.readers.molfile import MolFileFactory\n",
    "from harbor.analysis.cross_docking import DockingDataModel\n",
    "import harbor.analysis.cross_docking as cd\n",
    "from importlib import reload\n",
    "import seaborn as sns\n",
    "from matplotlib import pyplot as plt\n",
    "import numpy as np\n",
    "reload(cd)"
   ],
   "metadata": {
    "collapsed": false
   },
   "id": "79173fc17a035636",
   "execution_count": null
  },
  {
   "cell_type": "markdown",
   "source": [
    "# Load Data"
   ],
   "metadata": {
    "collapsed": false
   },
   "id": "8340aed21166d8c5"
  },
  {
   "cell_type": "code",
   "outputs": [],
   "source": [
    "posit_results = Path(\"/Users/alexpayne/Scientific_Projects/mers-drug-discovery/sars2-retrospective-analysis/full_cross_dock_v2_analyzed_results/posit_reverse_similarity_split_combined_results.csv\")\n",
    "pdf = pd.read_csv(posit_results)\n",
    "pdf[\"Error_Lower\"] = pdf[\"Fraction\"] - pdf[\"CI_Lower\"]\n",
    "pdf[\"Error_Lower\"] = pdf[\"Error_Lower\"].apply(lambda x: 0 if x < 0 else x)\n",
    "pdf[\"Error_Upper\"] = pdf[\"CI_Upper\"] - pdf[\"Fraction\"]\n",
    "pdf[\"Error_Upper\"] = pdf[\"Error_Upper\"].apply(lambda x: 0 if x < 0 else x)"
   ],
   "metadata": {
    "collapsed": false
   },
   "id": "3f59c3c38951c56",
   "execution_count": null
  },
  {
   "cell_type": "code",
   "outputs": [],
   "source": [
    "pdf.columns"
   ],
   "metadata": {
    "collapsed": false
   },
   "id": "6d344abf5e86dad2",
   "execution_count": null
  },
  {
   "cell_type": "code",
   "outputs": [],
   "source": [
    "pdf.sort_values(\"Fraction\")"
   ],
   "metadata": {
    "collapsed": false
   },
   "id": "2b19ff0fd2f9f1dd",
   "execution_count": null
  },
  {
   "cell_type": "code",
   "outputs": [],
   "source": [
    "pdf.sort_values([\"N_Reference_Structures\", \"Score\", \"Reference_Split\"])"
   ],
   "metadata": {
    "collapsed": false
   },
   "id": "d970e0a1c1731c46",
   "execution_count": null
  },
  {
   "cell_type": "code",
   "outputs": [],
   "source": [
    "pdsr = pd.read_csv(\"/Users/alexpayne/Scientific_Projects/mers-drug-discovery/sars2-retrospective-analysis/full_cross_dock_v2_analyzed_results/ALL_1_poses_datesplit_combined_results.csv\")"
   ],
   "metadata": {
    "collapsed": false
   },
   "id": "1f48f1d3d153db3e",
   "execution_count": null
  },
  {
   "cell_type": "code",
   "outputs": [],
   "source": [
    "pdsr[\"Error_Lower\"] = pdsr[\"Fraction\"] - pdsr[\"CI_Lower\"]\n",
    "pdsr[\"Error_Lower\"] = pdsr[\"Error_Lower\"].apply(lambda x: 0 if x < 0 else x)\n",
    "pdsr[\"Error_Upper\"] = pdsr[\"CI_Upper\"] - pdsr[\"Fraction\"]\n",
    "pdsr[\"Error_Upper\"] = pdsr[\"Error_Upper\"].apply(lambda x: 0 if x < 0 else x)"
   ],
   "metadata": {
    "collapsed": false
   },
   "id": "9124b5f0107b0d1b",
   "execution_count": null
  },
  {
   "cell_type": "markdown",
   "source": [
    "# Plotting Params"
   ],
   "metadata": {
    "collapsed": false
   },
   "id": "1277cd22dd7589b7"
  },
  {
   "cell_type": "code",
   "outputs": [],
   "source": [
    "# Global configuration\n",
    "fig_path = Path(\"./20250804_reverse_similarity_split\")\n",
    "fig_path.mkdir(parents=True, exist_ok=True)\n",
    "\n",
    "FIGNUM_GLOBAL = 0\n",
    "\n",
    "# def save_fig(fig, filename, dpi=200, suffix=\".pdf\"):\n",
    "#     \"\"\"Save the figure with a global figure number.\"\"\"\n",
    "#     global FIGNUM_GLOBAL\n",
    "#     FIGNUM_GLOBAL += 1\n",
    "#     figpath = Path(fig_path / f\"{filename}_{FIGNUM_GLOBAL:02d}\")\n",
    "#     fig.savefig(figpath.with_suffix(suffix), \n",
    "#                 bbox_inches=\"tight\", \n",
    "#                 dpi=dpi)\n",
    "\n",
    "def save_fig(fig, filename, dpi=200, suffix=\".pdf\"):\n",
    "    figpath = Path(fig_path / f\"{filename}\")\n",
    "    fig.savefig(figpath.with_suffix(suffix), \n",
    "                bbox_inches=\"tight\", \n",
    "                dpi=dpi)\n",
    "    \n",
    "\n",
    "sns.set_style(\"white\")\n",
    "label_map = {\n",
    "    \"Reference_Split\": \"Dataset Split Type\",\n",
    "    \"Score\": \"Scoring Method\",\n",
    "    \"RandomSplit\": \"Randomly Ordered\",\n",
    "    \"DateSplit\": \"Ordered by Date\",\n",
    "    \"RMSD\": \"RMSD (Positive Control)\",\n",
    "    \"POSIT_Probability\": \"POSIT Probability\",\n",
    "    \"Similarity_Threshold\": \"Similarity Threshold\",\n",
    "    \"ECFP4_2048\": \"ECFP4 2048\",\n",
    "    \"MCSData_Tanimoto\": \"MCS Tanimoto\",\n",
    "    \"ECFPData_Tanimoto\": \"Fingerprint Tanimoto\",\n",
    "    \"TanimotoComboData_Tanimoto\": \"Tanimoto Combo (Aligned)\",\n",
    "    \"TanimotoCombo_True\": \"Tanimoto Combo (Aligned)\",\n",
    "    \n",
    "    # \"N_Reference_Structures\": \"Number of Randomly Chosen Reference Structures\",\n",
    "    \"N_Reference_Structures\": \"Number of Reference Structures Available to Use \\n(Log Scale)\",\n",
    "    \"Fraction\": \"Fraction of Ligands Posed \\n<2Å from Reference\",\n",
    "    \"CI_Lower\": \"Confidence Interval Lower Bound\",\n",
    "    \"CI_Upper\": \"Confidence Interval Upper Bound\",\n",
    "    \"N_Similar\": \"Number of Similar Structures To Select\",\n",
    "    \n",
    "}\n",
    "for column in pdf.columns:\n",
    "    if not column in label_map:\n",
    "        label_map[column] = column\n",
    "        \n",
    "X_VAR = label_map[\"N_Reference_Structures\"]\n",
    "Y_VAR = label_map[\"Fraction\"]\n",
    "X_LABEL = label_map[\"N_Reference_Structures\"]\n",
    "Y_LABEL = label_map[\"Fraction\"]\n",
    "# QUERY_SCAFFOLD_ID = label_map[\"Query_Scaffold_ID_Subset_1\"]\n",
    "# REF_SCAFFOLD_ID = label_map[\"Reference_Scaffold_ID_Subset_1\"]\n",
    "COLOR_VAR = label_map[\"Reference_Split\"]\n",
    "STYLE_VAR = label_map[\"Score\"]\n",
    "CI_LOWER = label_map[\"CI_Lower\"]\n",
    "CI_UPPER = label_map[\"CI_Upper\"]\n",
    "LARGE_FIG_SIZE = (12, 8)\n",
    "SMALL_FIG_SIZE = (8, 6)\n",
    "FONT_SIZES = {\n",
    "    \"xlabel\": 24,\n",
    "    \"ylabel\": 24,\n",
    "    \"ticks\": 18,\n",
    "    \"legend_title\": 24,\n",
    "    \"legend_text\": 18,\n",
    "}\n",
    "ALPHA = 0.1"
   ],
   "metadata": {
    "collapsed": false
   },
   "id": "d0eb2a920fc0b2f3",
   "execution_count": null
  },
  {
   "cell_type": "markdown",
   "source": [
    "## update labels"
   ],
   "metadata": {
    "collapsed": false
   },
   "id": "bef6ae474e521287"
  },
  {
   "cell_type": "code",
   "outputs": [],
   "source": [
    "df = pdf.copy()"
   ],
   "metadata": {
    "collapsed": false
   },
   "id": "f22cd5e3edd79ddc",
   "execution_count": null
  },
  {
   "cell_type": "code",
   "outputs": [],
   "source": [
    "df = df.rename(columns=label_map)"
   ],
   "metadata": {
    "collapsed": false
   },
   "id": "f6afa7623d8dd3fb",
   "execution_count": null
  },
  {
   "cell_type": "code",
   "outputs": [],
   "source": [
    "for column in df.columns:\n",
    "    df[column] = df[column].apply(lambda x: label_map.get(x,x))"
   ],
   "metadata": {
    "collapsed": false
   },
   "id": "4e290176da142fdd",
   "execution_count": null
  },
  {
   "cell_type": "code",
   "outputs": [],
   "source": [
    "df.columns"
   ],
   "metadata": {
    "collapsed": false
   },
   "id": "f2aab53cf3151678",
   "execution_count": null
  },
  {
   "cell_type": "code",
   "outputs": [],
   "source": [
    "pdsr = pdsr.rename(columns=label_map)\n",
    "for column in pdsr.columns:\n",
    "    pdsr[column] = pdsr[column].apply(lambda x: label_map.get(x,x))"
   ],
   "metadata": {
    "collapsed": false
   },
   "id": "770d101b1598c884",
   "execution_count": null
  },
  {
   "cell_type": "code",
   "outputs": [],
   "source": [
    "pdsr = pdsr[(pdsr[label_map[\"Score\"]] == label_map[\"POSIT_Probability\"]) & (pdsr[label_map[\"Reference_Split\"]] == label_map[\"DateSplit\"])]"
   ],
   "metadata": {
    "collapsed": false
   },
   "id": "bb32996e6d14b422",
   "execution_count": null
  },
  {
   "cell_type": "markdown",
   "source": [
    "# Make Figure"
   ],
   "metadata": {
    "collapsed": false
   },
   "id": "179db1afb1be4738"
  },
  {
   "cell_type": "code",
   "outputs": [],
   "source": [
    "def plot_filled_in_error_bars(\n",
    "    raw_df,\n",
    "    x_var=X_VAR,\n",
    "    y_var=Y_VAR,\n",
    "    color_var=COLOR_VAR,\n",
    "    style_var=STYLE_VAR,\n",
    "    ci_lower=CI_LOWER,\n",
    "    ci_upper=CI_UPPER,\n",
    "    x_label=X_LABEL,\n",
    "    y_label=Y_LABEL,\n",
    "    reverse_hue_order=False,\n",
    "    reverse_style_order=False,\n",
    "        x_ticks=None,\n",
    "        y_ticks=None,\n",
    "        log_scale=True,\n",
    "    fill_between=True,\n",
    "        add_default_line=False,\n",
    "):\n",
    "    # Sort the dataframe\n",
    "    raw_df = raw_df.sort_values(by=[x_var, style_var, color_var])\n",
    "    plt.figure(figsize=(LARGE_FIG_SIZE[0], LARGE_FIG_SIZE[1]))\n",
    "    \n",
    "    # Define hue and style orders\n",
    "    hue_order = list(reversed(sorted(raw_df[color_var].unique()))) if reverse_hue_order else list(sorted(raw_df[color_var].unique()))\n",
    "    style_order = list(reversed(sorted(raw_df[style_var].unique()))) if reverse_style_order else list(sorted(raw_df[style_var].unique()))\n",
    "    \n",
    "    # Create color mapping\n",
    "    unique_colors = sns.color_palette(n_colors=len(raw_df[color_var].unique()))\n",
    "    color_map = dict(zip(hue_order, unique_colors))\n",
    "    \n",
    "    \n",
    "    \n",
    "    # Create the line plot\n",
    "    fig = sns.lineplot(\n",
    "        data=raw_df,\n",
    "        x=x_var,\n",
    "        y=y_var,\n",
    "        hue=color_var,\n",
    "        style=style_var,  # Keep style_var for line styles\n",
    "        palette=color_map,\n",
    "        hue_order=hue_order,\n",
    "        style_order= style_order,\n",
    "    )\n",
    "    \n",
    "    if add_default_line:\n",
    "        # add black line for pdsr RMSD DateSplit\n",
    "        sns.lineplot(pdsr, x=X_VAR, y=Y_VAR, color=\"black\", linestyle=\"--\", label=None)\n",
    "\n",
    "    if fill_between:\n",
    "        # Create fill between for each group using matched colors\n",
    "        for name, group in raw_df.groupby([color_var, style_var]):\n",
    "            color_name = name[0]  # First element is Score\n",
    "            fig.fill_between(\n",
    "                group[x_var],\n",
    "                group[ci_lower],\n",
    "                group[ci_upper],\n",
    "                color=color_map[color_name],\n",
    "                alpha=ALPHA,\n",
    "            )\n",
    "    if log_scale:\n",
    "        fig.set_xscale(\"log\")\n",
    "        fig.xaxis.set_major_formatter(ScalarFormatter())\n",
    "    if x_ticks is not None:\n",
    "        custom_ticks = x_ticks\n",
    "    else:\n",
    "        custom_ticks = np.round(np.linspace(0,1,11), 1)\n",
    "    fig.set_xticks(custom_ticks)\n",
    "    fig.set_xticklabels(custom_ticks, fontsize=FONT_SIZES[\"ticks\"])\n",
    "    \n",
    "    if y_ticks is not None:\n",
    "        custom_ticks = y_ticks\n",
    "    else:\n",
    "        custom_ticks = np.round(np.linspace(0,1,11), 1)\n",
    "    fig.set_yticks(custom_ticks)\n",
    "    fig.set_yticklabels(custom_ticks, fontsize=FONT_SIZES[\"ticks\"])\n",
    "\n",
    "    fig.set_xlabel(x_label, fontsize=FONT_SIZES[\"xlabel\"], fontweight=\"bold\")\n",
    "    fig.set_ylabel(y_label, fontsize=FONT_SIZES[\"ylabel\"], fontweight=\"bold\")\n",
    "\n",
    "    # Customize legend\n",
    "    legend = fig.legend()\n",
    "    plt.setp(legend.get_title(), fontsize=FONT_SIZES[\"legend_title\"], fontweight=\"bold\")\n",
    "    plt.setp(legend.get_texts(), fontsize=FONT_SIZES[\"legend_text\"])\n",
    "    return plt"
   ],
   "metadata": {
    "collapsed": false
   },
   "id": "709c5249b6579f6e",
   "execution_count": null
  },
  {
   "cell_type": "code",
   "outputs": [],
   "source": [
    "df"
   ],
   "metadata": {
    "collapsed": false
   },
   "id": "8780f27f99d5a923",
   "execution_count": null
  },
  {
   "cell_type": "code",
   "outputs": [],
   "source": [
    "for sim_type in df[label_map[\"Similarity_Column\"]].unique():\n",
    "    plot_df = df[(df[label_map[\"Similarity_Column\"]] == sim_type)&(df[label_map[\"Score\"]] == label_map[\"POSIT_Probability\"])&(df[label_map[\"Reference_Split\"]] == label_map[\"DateSplit\"])]\n",
    "    fig = plot_filled_in_error_bars(\n",
    "        plot_df,\n",
    "        x_var=X_VAR,\n",
    "        y_var=Y_VAR,\n",
    "        color_var=label_map[\"N_Similar\"],\n",
    "        # style_var=STYLE_VAR,\n",
    "        ci_lower=CI_LOWER,\n",
    "        ci_upper=CI_UPPER,\n",
    "        x_label=f\"{sim_type} Similarity\",\n",
    "        y_label=Y_LABEL,\n",
    "        x_ticks=[1, 2, 5,10, 20, 30, 40, 50, 100, 137, 200, 300, 403],\n",
    "        reverse_hue_order=True,\n",
    "        reverse_style_order=True,\n",
    "        log_scale=True,\n",
    "        fill_between=False,\n",
    "        add_default_line=True\n",
    "    )\n",
    "    \n",
    "    save_fig(fig, filename=f\"reverse_similarity_split_{sim_type}_posit_probability\")\n",
    "    \n",
    "    \n",
    "    for i in df[label_map[\"N_Similar\"]].unique():\n",
    "        plot_df = df[\n",
    "            (df[label_map[\"Similarity_Column\"]] == sim_type) &\n",
    "            (df[label_map[\"N_Similar\"]] == i)\n",
    "        ]\n",
    "        fig = plot_filled_in_error_bars(\n",
    "            plot_df,\n",
    "            x_var=X_VAR,\n",
    "            y_var=Y_VAR,\n",
    "            color_var=COLOR_VAR,\n",
    "            style_var=STYLE_VAR,\n",
    "            ci_lower=CI_LOWER,\n",
    "            ci_upper=CI_UPPER,\n",
    "            x_label=f\"{sim_type} Similarity (Top {i} Similar)\",\n",
    "            y_label=Y_LABEL,\n",
    "            x_ticks=[1, 2, 5,10, 20, 30, 40, 50, 100, 137, 200, 300, 403],\n",
    "            reverse_hue_order=True,\n",
    "            reverse_style_order=True,\n",
    "            log_scale=True,\n",
    "            add_default_line=True\n",
    "            \n",
    "        )\n",
    "        save_fig(\n",
    "            fig,\n",
    "            filename=f\"reverse_similarity_split_{sim_type}_top_{i}_similar\",\n",
    "        )"
   ],
   "metadata": {
    "collapsed": false
   },
   "id": "aa46f0928dd61405",
   "execution_count": null
  },
  {
   "cell_type": "code",
   "outputs": [],
   "source": [],
   "metadata": {
    "collapsed": false
   },
   "id": "8c802d734b0c0210",
   "execution_count": null
  },
  {
   "cell_type": "code",
   "outputs": [],
   "source": [],
   "metadata": {
    "collapsed": false
   },
   "id": "6906f9d15749c37f"
  }
 ],
 "metadata": {
  "kernelspec": {
   "display_name": "Python 3",
   "language": "python",
   "name": "python3"
  },
  "language_info": {
   "codemirror_mode": {
    "name": "ipython",
    "version": 2
   },
   "file_extension": ".py",
   "mimetype": "text/x-python",
   "name": "python",
   "nbconvert_exporter": "python",
   "pygments_lexer": "ipython2",
   "version": "2.7.6"
  }
 },
 "nbformat": 4,
 "nbformat_minor": 5
}
