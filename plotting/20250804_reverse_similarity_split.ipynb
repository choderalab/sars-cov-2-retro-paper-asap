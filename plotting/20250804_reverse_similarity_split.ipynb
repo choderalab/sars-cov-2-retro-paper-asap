{
 "cells": [
  {
   "cell_type": "markdown",
   "source": [
    "# Imports"
   ],
   "metadata": {
    "collapsed": false
   },
   "id": "495151c3b9536b48"
  },
  {
   "cell_type": "code",
   "outputs": [],
   "source": [
    "import pandas as pd\n",
    "import json\n",
    "from datetime import datetime\n",
    "import plotly.express as px\n",
    "from pathlib import Path\n",
    "import sys\n",
    "from matplotlib.pyplot import ScalarFormatter\n",
    "from asapdiscovery.data.readers.molfile import MolFileFactory\n",
    "from harbor.analysis.cross_docking import DockingDataModel\n",
    "import harbor.analysis.cross_docking as cd\n",
    "from importlib import reload\n",
    "import seaborn as sns\n",
    "from matplotlib import pyplot as plt\n",
    "reload(cd)"
   ],
   "metadata": {
    "collapsed": false
   },
   "id": "79173fc17a035636",
   "execution_count": null
  },
  {
   "cell_type": "code",
   "outputs": [],
   "source": [
    "data = cd.DockingDataModel.deserialize(\"/Users/alexpayne/Scientific_Projects/mers-drug-discovery/sars2-retrospective-analysis/full_cross_dock_v2_combined_results/ALL_1_poses.parquet\")"
   ],
   "metadata": {
    "collapsed": false
   },
   "id": "bdc7aef4048cee61",
   "execution_count": null
  },
  {
   "cell_type": "markdown",
   "source": [
    "# ASAP protocol\n",
    "For each n_ref in date_split or random_split:\n",
    "- for each n_most_similar in [1, 2, 5, 10]\n",
    "  - we pick the n_most_similar that have the highest similarity to the Query_Ligand\n",
    "  - rank with RMSD or POSIT Probability\n"
   ],
   "metadata": {
    "collapsed": false
   },
   "id": "4a639e4b652e485c"
  },
  {
   "cell_type": "code",
   "outputs": [],
   "source": [
    "n_refs = cd.generate_logarithmic_scale(403)"
   ],
   "metadata": {
    "collapsed": false
   },
   "id": "6af2cc0000a638fa",
   "execution_count": null
  },
  {
   "cell_type": "code",
   "outputs": [],
   "source": [
    "n_most_similars = [1, 2, 5, 10]\n",
    "ref_structure_column = \"Reference_Structure\""
   ],
   "metadata": {
    "collapsed": false
   },
   "id": "69980ddf29915a46",
   "execution_count": null
  },
  {
   "cell_type": "code",
   "outputs": [],
   "source": [
    "dataset_splits = [] \n",
    "for n_ref in n_refs:\n",
    "    dataset_splits.append(\n",
    "                cd.DateSplit(\n",
    "                    date_column=\"RefData_Date\",\n",
    "                    randomize_by_n_days=1,\n",
    "                    n_reference_structures=n_ref,\n",
    "                    reference_structure_column=ref_structure_column,\n",
    "                )\n",
    "            )\n",
    "    dataset_splits.append(\n",
    "        cd.RandomSplit(\n",
    "            reference_structure_column=ref_structure_column,\n",
    "            n_reference_structures=n_ref,\n",
    "        ))"
   ],
   "metadata": {
    "collapsed": false
   },
   "id": "508fe33a94387b57",
   "execution_count": null
  },
  {
   "cell_type": "code",
   "outputs": [],
   "source": [
    "similarity_splits = []\n",
    "for n_most_similar in n_most_similars:\n",
    "    similarity_splits.append(cd.SimilaritySplit(\n",
    "                                                groupby={\"MCSData_Type\": \"MCS\"},\n",
    "                                                similarity_column=\"MCSData_Tanimoto\", \n",
    "                                                query_ligand_column=\"Query_Ligand\",\n",
    "                                                reference_ligand_column=\"RefData_Ligand\",\n",
    "                                                include_similar=True,\n",
    "                                                higher_is_more_similar=True,\n",
    "                                                sort_instead_of_threshold=True,\n",
    "                                                split_level=1,\n",
    "                                                n_similar=n_most_similar,))"
   ],
   "metadata": {
    "collapsed": false
   },
   "id": "e62cc15df1f6cc10",
   "execution_count": null
  },
  {
   "cell_type": "code",
   "outputs": [],
   "source": [
    "scorers = [\n",
    "        cd.POSITScorer(variable=\"PoseData_docking-confidence-POSIT\"),\n",
    "        cd.RMSDScorer(variable=\"PoseData_RMSD\", cutoff=2),\n",
    "    ]"
   ],
   "metadata": {
    "collapsed": false
   },
   "id": "b83f8b8a1ac1a4b7",
   "execution_count": null
  },
  {
   "cell_type": "code",
   "outputs": [],
   "source": [
    "evs = []\n",
    "for scorer in scorers:\n",
    "    for dataset_split in dataset_splits:\n",
    "        for similarity_split in similarity_splits:\n",
    "            # need to do this because N_Reference_Structures is getting overwritten and I don't want to go back through the code and change it yet\n",
    "            # Just setting it to the n_reference_structures of the dataset_split without copying the similarity split does annoying python pointer things (it ends up setting all the ref splits to the same value\n",
    "            similarity_split = similarity_split.model_copy()\n",
    "            similarity_split.n_reference_structures = dataset_split.n_reference_structures\n",
    "            ev = cd.Evaluator(\n",
    "                pose_selector=cd.PoseSelector(name=\"PoseSelector\", variable=\"Pose_ID\", ascending=True, number_to_return=1),\n",
    "                dataset_split=dataset_split,\n",
    "                similarity_split=similarity_split,\n",
    "                dataset_before_similarity=True,\n",
    "                scorer=scorer,\n",
    "                evaluator=cd.BinaryEvaluation(variable=\"PoseData_RMSD\", cutoff=2),\n",
    "                n_bootstraps=3,\n",
    "            )\n",
    "            evs.append(ev)"
   ],
   "metadata": {
    "collapsed": false
   },
   "id": "3d9895eb110b7f10",
   "execution_count": null
  },
  {
   "cell_type": "code",
   "outputs": [],
   "source": [
    "len(evs)"
   ],
   "metadata": {
    "collapsed": false
   },
   "id": "c3f81a42d1433bc2",
   "execution_count": null
  },
  {
   "cell_type": "code",
   "outputs": [],
   "source": [
    "evs[16]"
   ],
   "metadata": {
    "collapsed": false
   },
   "id": "8899d5210a597685",
   "execution_count": null
  },
  {
   "cell_type": "code",
   "outputs": [],
   "source": [
    "results = cd.Results.calculate_results(data, evs, n_cpus=1)"
   ],
   "metadata": {
    "collapsed": false
   },
   "id": "a46da693fa81e849",
   "execution_count": null
  },
  {
   "cell_type": "code",
   "outputs": [],
   "source": [
    "results_df = cd.Results.df_from_results(results)"
   ],
   "metadata": {
    "collapsed": false
   },
   "id": "bd928f4198490273",
   "execution_count": null
  },
  {
   "cell_type": "code",
   "outputs": [],
   "source": [
    "results_df"
   ],
   "metadata": {
    "collapsed": false
   },
   "id": "f143284d14a877d4",
   "execution_count": null
  },
  {
   "cell_type": "code",
   "outputs": [],
   "source": [
    "plot_df = results_df.copy()\n",
    "plot_df = plot_df[plot_df[\"Reference_Split\"] == \"DateSplit\"]"
   ],
   "metadata": {
    "collapsed": false
   },
   "id": "b43271c950d1424a",
   "execution_count": null
  },
  {
   "cell_type": "code",
   "outputs": [],
   "source": [
    "plot_df"
   ],
   "metadata": {
    "collapsed": false
   },
   "id": "c0e061899bbae0e5",
   "execution_count": null
  },
  {
   "cell_type": "code",
   "outputs": [],
   "source": [
    "sns.lineplot(plot_df, x=\"N_Reference_Structures\", y=\"Fraction\", hue=\"N_Similar\", style=\"Score\")"
   ],
   "metadata": {
    "collapsed": false
   },
   "id": "d965e75fd22df1e3",
   "execution_count": null
  },
  {
   "cell_type": "code",
   "outputs": [],
   "source": [],
   "metadata": {
    "collapsed": false
   },
   "id": "e753d4053defa7f8"
  }
 ],
 "metadata": {
  "kernelspec": {
   "display_name": "Python 3",
   "language": "python",
   "name": "python3"
  },
  "language_info": {
   "codemirror_mode": {
    "name": "ipython",
    "version": 2
   },
   "file_extension": ".py",
   "mimetype": "text/x-python",
   "name": "python",
   "nbconvert_exporter": "python",
   "pygments_lexer": "ipython2",
   "version": "2.7.6"
  }
 },
 "nbformat": 4,
 "nbformat_minor": 5
}
