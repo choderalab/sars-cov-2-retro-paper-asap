{
 "cells": [
  {
   "cell_type": "markdown",
   "source": [
    "# Imports"
   ],
   "metadata": {
    "collapsed": false
   },
   "id": "ed1a0d55ed259eff"
  },
  {
   "cell_type": "code",
   "outputs": [],
   "source": [
    "import pandas as pd\n",
    "from pathlib import Path\n",
    "from matplotlib.pyplot import ScalarFormatter\n",
    "import harbor.analysis.cross_docking as cd\n",
    "import seaborn as sns\n",
    "from matplotlib import pyplot as plt"
   ],
   "metadata": {
    "collapsed": false
   },
   "id": "a8ea99da0f04c990",
   "execution_count": null
  },
  {
   "cell_type": "code",
   "outputs": [],
   "source": [
    "data = cd.DockingDataModel.deserialize(\"/Users/alexpayne/Scientific_Projects/mers-drug-discovery/sars2-retrospective-analysis/full_cross_dock_v2_combined_results/ALL_1_poses.parquet\")"
   ],
   "metadata": {
    "collapsed": false
   },
   "id": "2041fdaddb044157",
   "execution_count": null
  },
  {
   "cell_type": "markdown",
   "source": [
    "# Filter out all references that aren't the top 4 scaffolds"
   ],
   "metadata": {
    "collapsed": false
   },
   "id": "28fda6de178b1fb8"
  },
  {
   "cell_type": "code",
   "outputs": [],
   "source": [
    "top4df = data.dataframe[data.dataframe['RefData_Scaffold_ID'].isin([0, 1, 2, 3])]"
   ],
   "metadata": {
    "collapsed": false
   },
   "id": "e56e2aa8f56d16f5",
   "execution_count": null
  },
  {
   "cell_type": "markdown",
   "source": [
    "## filter out queries that are the top4"
   ],
   "metadata": {
    "collapsed": false
   },
   "id": "d5804a3b9257554"
  },
  {
   "cell_type": "code",
   "outputs": [],
   "source": [
    "top4df = top4df[~top4df['QueryData_Scaffold_ID'].isin([0, 1, 2, 3])] "
   ],
   "metadata": {
    "collapsed": false
   },
   "id": "440441d08d1bd691",
   "execution_count": null
  },
  {
   "cell_type": "code",
   "outputs": [],
   "source": [
    "top4 = cd.DockingDataModel(dataframe=top4df, **data.model_dump())"
   ],
   "metadata": {
    "collapsed": false
   },
   "id": "6564bdc8a5d12f54",
   "execution_count": null
  },
  {
   "cell_type": "code",
   "outputs": [],
   "source": [
    "# update default settings\n",
    "default = cd.EvaluatorFactory(name=\"default\")\n",
    "\n",
    "default.success_rate_evaluator_settings.use = True\n",
    "default.success_rate_evaluator_settings.success_rate_column = \"PoseData_RMSD\"\n",
    "\n",
    "default.scorer_settings.rmsd_scorer_settings.use = True\n",
    "default.scorer_settings.rmsd_scorer_settings.rmsd_column_name = \"PoseData_RMSD\"\n",
    "\n",
    "default.scorer_settings.posit_scorer_settings.use = True\n",
    "default.scorer_settings.posit_scorer_settings.posit_score_column_name = (\n",
    "    \"PoseData_docking-confidence-POSIT\"\n",
    ")\n",
    "\n",
    "# basic date split cross docking\n",
    "evf = default.__deepcopy__()\n",
    "evf.name = \"reference_split_comparison\"\n",
    "evf.reference_split_settings.use = True\n",
    "evf.reference_split_settings.date_split_settings.use = True\n",
    "evf.reference_split_settings.date_split_settings.reference_structure_date_column = (\n",
    "    \"RefData_Date\"\n",
    ")\n",
    "evf.reference_split_settings.random_split_settings.use = True\n",
    "evf.reference_split_settings.update_reference_settings.use = True\n",
    "evf.reference_split_settings.update_reference_settings.use_logarithmic_scaling = (\n",
    "    True\n",
    ")"
   ],
   "metadata": {
    "collapsed": false
   },
   "id": "a58d871201ff095e",
   "execution_count": null
  },
  {
   "cell_type": "code",
   "outputs": [],
   "source": [
    "evs = evf.create_evaluators(top4)"
   ],
   "metadata": {
    "collapsed": false
   },
   "id": "64edabc70ca46a09",
   "execution_count": null
  },
  {
   "cell_type": "code",
   "outputs": [],
   "source": [
    "len(evs)"
   ],
   "metadata": {
    "collapsed": false
   },
   "id": "5fee0d56d346c729",
   "execution_count": null
  },
  {
   "cell_type": "code",
   "outputs": [],
   "source": [
    "# evaluate"
   ],
   "metadata": {
    "collapsed": false
   },
   "id": "a6f93acf603b589d",
   "execution_count": null
  },
  {
   "cell_type": "code",
   "outputs": [],
   "source": [
    "results = cd.Results.calculate_results(top4, evs)"
   ],
   "metadata": {
    "collapsed": false
   },
   "id": "accfeffd74361c59",
   "execution_count": null
  },
  {
   "cell_type": "code",
   "outputs": [],
   "source": [
    "results_df = cd.Results.df_from_results(results)"
   ],
   "metadata": {
    "collapsed": false
   },
   "id": "78df84f3aa3fc7e",
   "execution_count": null
  },
  {
   "cell_type": "code",
   "outputs": [],
   "source": [
    "results_df.to_csv(\"top4_scaffolds_as_reference_for_not_top4.csv\", index=False)"
   ],
   "metadata": {
    "collapsed": false
   },
   "id": "cf2f0f17c834a9f8",
   "execution_count": null
  },
  {
   "cell_type": "markdown",
   "source": [
    "# Plot"
   ],
   "metadata": {
    "collapsed": false
   },
   "id": "1ee6785c12815920"
  },
  {
   "cell_type": "code",
   "outputs": [],
   "source": [
    "posit_results = Path(\"top4_scaffolds_as_reference_for_not_top4.csv\")\n",
    "pdf = pd.read_csv(posit_results)\n",
    "pdf[\"Error_Lower\"] = pdf[\"Fraction\"] - pdf[\"CI_Lower\"]\n",
    "pdf[\"Error_Lower\"] = pdf[\"Error_Lower\"].apply(lambda x: 0 if x < 0 else x)\n",
    "pdf[\"Error_Upper\"] = pdf[\"CI_Upper\"] - pdf[\"Fraction\"]\n",
    "pdf[\"Error_Upper\"] = pdf[\"Error_Upper\"].apply(lambda x: 0 if x < 0 else x)"
   ],
   "metadata": {
    "collapsed": false
   },
   "id": "6b510fd43918d9d4",
   "execution_count": null
  },
  {
   "cell_type": "markdown",
   "source": [
    "# Plotting"
   ],
   "metadata": {
    "collapsed": false
   },
   "id": "b3fba78fef5a832f"
  },
  {
   "cell_type": "markdown",
   "source": [
    "## Plot function"
   ],
   "metadata": {
    "collapsed": false
   },
   "id": "67a5517dd9e88bf0"
  },
  {
   "cell_type": "code",
   "outputs": [],
   "source": [
    "# Global configuration\n",
    "fig_path = Path(\"./20250811_top4_scaffolds_as_reference_for_not_top4\")\n",
    "fig_path.mkdir(parents=True, exist_ok=True)\n",
    "\n",
    "FIGNUM_GLOBAL = 0\n",
    "\n",
    "# def save_fig(fig, filename, dpi=200, suffix=\".pdf\"):\n",
    "#     \"\"\"Save the figure with a global figure number.\"\"\"\n",
    "#     global FIGNUM_GLOBAL\n",
    "#     FIGNUM_GLOBAL += 1\n",
    "#     figpath = Path(fig_path / f\"{filename}_{FIGNUM_GLOBAL:02d}\")\n",
    "#     fig.savefig(figpath.with_suffix(suffix), \n",
    "#                 bbox_inches=\"tight\", \n",
    "#                 dpi=dpi)\n",
    "\n",
    "def save_fig(fig, filename, dpi=200, suffix=\".pdf\"):\n",
    "    figpath = Path(fig_path / f\"{filename}\")\n",
    "    fig.savefig(figpath.with_suffix(suffix), \n",
    "                bbox_inches=\"tight\", \n",
    "                dpi=dpi)\n",
    "    \n",
    "\n",
    "sns.set_style(\"white\")\n",
    "label_map = {\n",
    "    \"Reference_Split\": \"Dataset Split Type\",\n",
    "    \"Score\": \"Scoring Method\",\n",
    "    \"RandomSplit\": \"Randomly Ordered\",\n",
    "    \"DateSplit\": \"Ordered by Date\",\n",
    "    \"RMSD\": \"RMSD (Positive Control)\",\n",
    "    \"POSIT_Probability\": \"POSIT Probability\",\n",
    "    \"ScaffoldDateSplit\": \"One Structure Per Scaffold\",\n",
    "    # \"N_Reference_Structures\": \"Number of Randomly Chosen Reference Structures\",\n",
    "    \"N_Reference_Structures\": \"Number of Reference Structures Available to Use \\n(Log Scale)\",\n",
    "    \"Fraction\": \"Fraction of Ligands Posed \\n<2Å from Reference\",\n",
    "    \"CI_Lower\": \"Confidence Interval Lower Bound\",\n",
    "    \"CI_Upper\": \"Confidence Interval Upper Bound\",\n",
    "    \"N_Refs_Per_Scaffold\": \"# Reference Structures Per Scaffold\",\n",
    "    \"Query_Scaffold\": \"Query Scaffold ID\"\n",
    "}\n",
    "for column in pdf.columns:\n",
    "    if not column in label_map:\n",
    "        label_map[column] = column\n",
    "        \n",
    "X_VAR = label_map[\"N_Reference_Structures\"]\n",
    "Y_VAR = label_map[\"Fraction\"]\n",
    "X_LABEL = label_map[\"N_Reference_Structures\"]\n",
    "Y_LABEL = label_map[\"Fraction\"]\n",
    "# QUERY_SCAFFOLD_ID = label_map[\"Query_Scaffold_ID_Subset_1\"]\n",
    "# REF_SCAFFOLD_ID = label_map[\"Reference_Scaffold_ID_Subset_1\"]\n",
    "COLOR_VAR = label_map[\"Reference_Split\"]\n",
    "STYLE_VAR = label_map[\"Score\"]\n",
    "CI_LOWER = label_map[\"CI_Lower\"]\n",
    "CI_UPPER = label_map[\"CI_Upper\"]\n",
    "LARGE_FIG_SIZE = (12, 8)\n",
    "SMALL_FIG_SIZE = (8, 6)\n",
    "FONT_SIZES = {\n",
    "    \"xlabel\": 24,\n",
    "    \"ylabel\": 24,\n",
    "    \"ticks\": 18,\n",
    "    \"legend_title\": 24,\n",
    "    \"legend_text\": 18,\n",
    "}\n",
    "ALPHA = 0.1\n",
    "n_refs = sorted(pdf[\"N_Reference_Structures\"].unique())"
   ],
   "metadata": {
    "collapsed": false
   },
   "id": "d355cc9a2a3f7e49",
   "execution_count": null
  },
  {
   "cell_type": "code",
   "outputs": [],
   "source": [
    "def plot_filled_in_error_bars(\n",
    "    raw_df,\n",
    "    x_var=X_VAR,\n",
    "    y_var=Y_VAR,\n",
    "    color_var=COLOR_VAR,\n",
    "    style_var=STYLE_VAR,\n",
    "    ci_lower=CI_LOWER,\n",
    "    ci_upper=CI_UPPER,\n",
    "    reverse_hue_order=False,\n",
    "    reverse_style_order=False,\n",
    "    n_refs= n_refs,\n",
    "    fill_between=True,\n",
    "    log_scale=True,\n",
    "    add_default_line=False,\n",
    "):\n",
    "    # Sort the dataframe\n",
    "    raw_df = raw_df.sort_values(by=[x_var, style_var, color_var])\n",
    "    plt.figure(figsize=(LARGE_FIG_SIZE[0], LARGE_FIG_SIZE[1]))\n",
    "    \n",
    "    # Define hue and style orders\n",
    "    hue_order = list(reversed(sorted(raw_df[color_var].unique()))) if reverse_hue_order else list(sorted(raw_df[color_var].unique()))\n",
    "    style_order = list(reversed(sorted(raw_df[style_var].unique()))) if reverse_style_order else list(sorted(raw_df[style_var].unique()))\n",
    "    \n",
    "    # Create color mapping\n",
    "    unique_colors = sns.color_palette(n_colors=len(raw_df[color_var].unique()))\n",
    "    color_map = dict(zip(hue_order, unique_colors))\n",
    "    \n",
    "    \n",
    "    \n",
    "    # Create the line plot\n",
    "    fig = sns.lineplot(\n",
    "        data=raw_df,\n",
    "        x=x_var,\n",
    "        y=y_var,\n",
    "        hue=color_var,\n",
    "        style=style_var,  # Keep style_var for line styles\n",
    "        palette=color_map,\n",
    "        hue_order=hue_order,\n",
    "        style_order= style_order,\n",
    "    )\n",
    "    \n",
    "    if add_default_line:\n",
    "        # add black line for pdsr RMSD DateSplit\n",
    "        sns.lineplot(pdsr, x=X_VAR, y=Y_VAR, color=\"black\", linestyle=\"--\", label=None)\n",
    "\n",
    "    if fill_between:\n",
    "        # Create fill between for each group using matched colors\n",
    "        for name, group in raw_df.groupby([color_var, style_var]):\n",
    "            color_name = name[0]  # First element is Score\n",
    "            fig.fill_between(\n",
    "                group[x_var],\n",
    "                group[ci_lower],\n",
    "                group[ci_upper],\n",
    "                color=color_map[color_name],\n",
    "                alpha=ALPHA,\n",
    "            )\n",
    "    \n",
    "    # Customize each subplot\n",
    "    if log_scale:\n",
    "        fig.set_xscale(\"log\")\n",
    "        fig.xaxis.set_major_formatter(ScalarFormatter())\n",
    "\n",
    "    custom_ticks = n_refs\n",
    "    fig.set_xticks(custom_ticks)\n",
    "    fig.set_xticklabels(custom_ticks, fontsize=FONT_SIZES[\"ticks\"])\n",
    "    fig.tick_params(axis='y', labelsize=FONT_SIZES[\"ticks\"])\n",
    "\n",
    "    fig.set_xlabel(X_LABEL, fontsize=FONT_SIZES[\"xlabel\"], fontweight=\"bold\")\n",
    "    fig.set_ylabel(Y_LABEL, fontsize=FONT_SIZES[\"ylabel\"], fontweight=\"bold\")\n",
    "\n",
    "    # Customize legend\n",
    "    legend = fig.legend()\n",
    "    plt.setp(legend.get_title(), fontsize=FONT_SIZES[\"legend_title\"], fontweight=\"bold\")\n",
    "    plt.setp(legend.get_texts(), fontsize=FONT_SIZES[\"legend_text\"])\n",
    "    return plt"
   ],
   "metadata": {
    "collapsed": false
   },
   "id": "587753bc29eb6046",
   "execution_count": null
  },
  {
   "cell_type": "markdown",
   "source": [
    "## update labels"
   ],
   "metadata": {
    "collapsed": false
   },
   "id": "b522b7141717aa78"
  },
  {
   "cell_type": "code",
   "outputs": [],
   "source": [
    "pdsr = pd.read_csv(\"/Users/alexpayne/Scientific_Projects/mers-drug-discovery/sars2-retrospective-analysis/full_cross_dock_v2_analyzed_results/ALL_1_poses_datesplit_combined_results.csv\")"
   ],
   "metadata": {
    "collapsed": false
   },
   "id": "85b348412250fd03",
   "execution_count": null
  },
  {
   "cell_type": "code",
   "outputs": [],
   "source": [
    "pdsr[\"Error_Lower\"] = pdsr[\"Fraction\"] - pdsr[\"CI_Lower\"]\n",
    "pdsr[\"Error_Lower\"] = pdsr[\"Error_Lower\"].apply(lambda x: 0 if x < 0 else x)\n",
    "pdsr[\"Error_Upper\"] = pdsr[\"CI_Upper\"] - pdsr[\"Fraction\"]\n",
    "pdsr[\"Error_Upper\"] = pdsr[\"Error_Upper\"].apply(lambda x: 0 if x < 0 else x)"
   ],
   "metadata": {
    "collapsed": false
   },
   "id": "f4049e5c8ca5c757",
   "execution_count": null
  },
  {
   "cell_type": "code",
   "outputs": [],
   "source": [
    "pdsr = pdsr.rename(columns=label_map)\n",
    "for column in pdsr.columns:\n",
    "    pdsr[column] = pdsr[column].apply(lambda x: label_map.get(x,x))"
   ],
   "metadata": {
    "collapsed": false
   },
   "id": "8d5212a91ca58e39",
   "execution_count": null
  },
  {
   "cell_type": "code",
   "outputs": [],
   "source": [
    "pdsr = pdsr[(pdsr[label_map[\"Score\"]] == label_map[\"POSIT_Probability\"]) & (pdsr[label_map[\"Reference_Split\"]] == label_map[\"DateSplit\"])]"
   ],
   "metadata": {
    "collapsed": false
   },
   "id": "df96cc90ba3f35db",
   "execution_count": null
  },
  {
   "cell_type": "code",
   "outputs": [],
   "source": [
    "df = pdf.copy()\n",
    "df = df.rename(columns=label_map)\n",
    "for column in df.columns:\n",
    "    df[column] = df[column].apply(lambda x: label_map.get(x, x))\n",
    "df.columns"
   ],
   "metadata": {
    "collapsed": false
   },
   "id": "44dc9fef1f2d3e2a",
   "execution_count": null
  },
  {
   "cell_type": "code",
   "outputs": [],
   "source": [
    "df.nunique()"
   ],
   "metadata": {
    "collapsed": false
   },
   "id": "c5b4e6f8ee2da93b",
   "execution_count": null
  },
  {
   "cell_type": "code",
   "outputs": [],
   "source": [
    "plot_df = df.copy()"
   ],
   "metadata": {
    "collapsed": false
   },
   "id": "da73b9e270e66c1c",
   "execution_count": null
  },
  {
   "cell_type": "code",
   "outputs": [],
   "source": [
    "fig = plot_filled_in_error_bars(plot_df, \n",
    "                                x_var=label_map[\"N_Reference_Structures\"],\n",
    "                                fill_between=True,\n",
    "                                n_refs= [1, 2, 5, 10, 20, 30, 40, 50, 100, 137, 200, 300, 403],\n",
    "                                add_default_line=True,\n",
    "                                reverse_hue_order=True)\n",
    "save_fig(fig, \"combined_top4_scaffolds_as_reference_for_not_top4\")"
   ],
   "metadata": {
    "collapsed": false
   },
   "id": "95667d906c5e32",
   "execution_count": null
  },
  {
   "cell_type": "code",
   "outputs": [],
   "source": [],
   "metadata": {
    "collapsed": false
   },
   "id": "5e4715dbff68b970"
  }
 ],
 "metadata": {
  "kernelspec": {
   "display_name": "Python 3",
   "language": "python",
   "name": "python3"
  },
  "language_info": {
   "codemirror_mode": {
    "name": "ipython",
    "version": 2
   },
   "file_extension": ".py",
   "mimetype": "text/x-python",
   "name": "python",
   "nbconvert_exporter": "python",
   "pygments_lexer": "ipython2",
   "version": "2.7.6"
  }
 },
 "nbformat": 4,
 "nbformat_minor": 5
}
