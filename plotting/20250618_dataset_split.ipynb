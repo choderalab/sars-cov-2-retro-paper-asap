{
 "cells": [
  {
   "cell_type": "markdown",
   "id": "70476c32-df8c-4c88-a11f-524a88dd47f7",
   "metadata": {},
   "source": [
    "# Imports"
   ]
  },
  {
   "cell_type": "code",
   "execution_count": null,
   "id": "2fe80f4e-ae3d-4d78-95a0-9a80d137d31f",
   "metadata": {},
   "outputs": [],
   "source": [
    "import matplotlib.pyplot as plt\n",
    "from matplotlib.ticker import ScalarFormatter\n",
    "import seaborn as sns\n",
    "import pandas as pd\n",
    "from pathlib import Path"
   ]
  },
  {
   "cell_type": "markdown",
   "id": "7ce52112-3d60-402d-ba40-f8192ac02e50",
   "metadata": {},
   "source": [
    "# Load Data"
   ]
  },
  {
   "cell_type": "code",
   "execution_count": null,
   "id": "502fc8de-90ef-4a66-a770-67907b5fd51c",
   "metadata": {},
   "outputs": [],
   "source": [
    "posit_results = Path(\"/Users/alexpayne/Scientific_Projects/mers-drug-discovery/sars2-retrospective-analysis/full_cross_dock_v2_analyzed_results/ALL_1_poses_datesplit_combined_results.csv\")\n",
    "pdf = pd.read_csv(posit_results)\n",
    "pdf[\"Error_Lower\"] = pdf[\"Fraction\"] - pdf[\"CI_Lower\"]\n",
    "pdf[\"Error_Lower\"] = pdf[\"Error_Lower\"].apply(lambda x: 0 if x < 0 else x)\n",
    "pdf[\"Error_Upper\"] = pdf[\"CI_Upper\"] - pdf[\"Fraction\"]\n",
    "pdf[\"Error_Upper\"] = pdf[\"Error_Upper\"].apply(lambda x: 0 if x < 0 else x)"
   ]
  },
  {
   "cell_type": "code",
   "execution_count": null,
   "id": "35c4a30b-f664-4ee7-af7a-23558f5ffcb2",
   "metadata": {},
   "outputs": [],
   "source": [
    "pdf.columns"
   ]
  },
  {
   "cell_type": "code",
   "outputs": [],
   "source": [
    "pdf.sort_values(\"Fraction\")"
   ],
   "metadata": {
    "collapsed": false
   },
   "id": "ebf04b70f43ece63",
   "execution_count": null
  },
  {
   "cell_type": "code",
   "outputs": [],
   "source": [
    "pdf.sort_values([\"N_Reference_Structures\", \"Score\", \"Reference_Split\"])"
   ],
   "metadata": {
    "collapsed": false
   },
   "id": "a52815c9ce5ab89d",
   "execution_count": null
  },
  {
   "cell_type": "markdown",
   "id": "101d4c5a-5dd6-49e8-9ff8-23da83c3672e",
   "metadata": {},
   "source": [
    "# Plotting Params"
   ]
  },
  {
   "cell_type": "code",
   "execution_count": null,
   "id": "cc0faf42-474d-40c3-bead-3e055566b3f0",
   "metadata": {},
   "outputs": [],
   "source": [
    "# Global configuration\n",
    "fig_path = Path(\"./20250618_dataset_split\")\n",
    "fig_path.mkdir(parents=True, exist_ok=True)\n",
    "\n",
    "FIGNUM_GLOBAL = 0\n",
    "\n",
    "# def save_fig(fig, filename, dpi=200, suffix=\".pdf\"):\n",
    "#     \"\"\"Save the figure with a global figure number.\"\"\"\n",
    "#     global FIGNUM_GLOBAL\n",
    "#     FIGNUM_GLOBAL += 1\n",
    "#     figpath = Path(fig_path / f\"{filename}_{FIGNUM_GLOBAL:02d}\")\n",
    "#     fig.savefig(figpath.with_suffix(suffix), \n",
    "#                 bbox_inches=\"tight\", \n",
    "#                 dpi=dpi)\n",
    "\n",
    "def save_fig(fig, filename, dpi=200, suffix=\".pdf\"):\n",
    "    figpath = Path(fig_path / f\"{filename}\")\n",
    "    fig.savefig(figpath.with_suffix(suffix), \n",
    "                bbox_inches=\"tight\", \n",
    "                dpi=dpi)\n",
    "    \n",
    "\n",
    "sns.set_style(\"white\")\n",
    "label_map = {\n",
    "    \"Reference_Split\": \"Dataset Split Type\",\n",
    "    \"Score\": \"Scoring Method\",\n",
    "    \"RandomSplit\": \"Randomly Ordered\",\n",
    "    \"DateSplit\": \"Ordered by Date\",\n",
    "    \"RMSD\": \"RMSD (Positive Control)\",\n",
    "    \"POSIT_Probability\": \"POSIT Probability\",\n",
    "    # \"N_Reference_Structures\": \"Number of Randomly Chosen Reference Structures\",\n",
    "    \"N_Reference_Structures\": \"Number of Reference Structures Available to Use \\n(Log Scale)\",\n",
    "    \"Fraction\": \"Fraction of Ligands Posed \\n<2Å from Reference\",\n",
    "    \"CI_Lower\": \"Confidence Interval Lower Bound\",\n",
    "    \"CI_Upper\": \"Confidence Interval Upper Bound\",\n",
    "    \n",
    "}\n",
    "for column in pdf.columns:\n",
    "    if not column in label_map:\n",
    "        label_map[column] = column\n",
    "        \n",
    "X_VAR = label_map[\"N_Reference_Structures\"]\n",
    "Y_VAR = label_map[\"Fraction\"]\n",
    "X_LABEL = label_map[\"N_Reference_Structures\"]\n",
    "Y_LABEL = label_map[\"Fraction\"]\n",
    "# QUERY_SCAFFOLD_ID = label_map[\"Query_Scaffold_ID_Subset_1\"]\n",
    "# REF_SCAFFOLD_ID = label_map[\"Reference_Scaffold_ID_Subset_1\"]\n",
    "COLOR_VAR = label_map[\"Reference_Split\"]\n",
    "STYLE_VAR = label_map[\"Score\"]\n",
    "CI_LOWER = label_map[\"CI_Lower\"]\n",
    "CI_UPPER = label_map[\"CI_Upper\"]\n",
    "LARGE_FIG_SIZE = (12, 8)\n",
    "SMALL_FIG_SIZE = (8, 6)\n",
    "FONT_SIZES = {\n",
    "    \"xlabel\": 24,\n",
    "    \"ylabel\": 24,\n",
    "    \"ticks\": 18,\n",
    "    \"legend_title\": 24,\n",
    "    \"legend_text\": 18,\n",
    "}\n",
    "ALPHA = 0.1"
   ]
  },
  {
   "cell_type": "markdown",
   "source": [
    "## update labels"
   ],
   "metadata": {
    "collapsed": false
   },
   "id": "619ed3e848d067dc"
  },
  {
   "cell_type": "code",
   "execution_count": null,
   "id": "256da9ab-eecc-42d8-83e4-c45354154d32",
   "metadata": {},
   "outputs": [],
   "source": [
    "df = pdf.copy()"
   ]
  },
  {
   "cell_type": "code",
   "outputs": [],
   "source": [
    "df = df.rename(columns=label_map)"
   ],
   "metadata": {
    "collapsed": false
   },
   "id": "699e67e30590f47b",
   "execution_count": null
  },
  {
   "cell_type": "code",
   "outputs": [],
   "source": [
    "for column in df.columns:\n",
    "    df[column] = df[column].apply(lambda x: label_map.get(x,x))"
   ],
   "metadata": {
    "collapsed": false
   },
   "id": "554f8050ffbda0ac",
   "execution_count": null
  },
  {
   "cell_type": "code",
   "outputs": [],
   "source": [
    "df.columns"
   ],
   "metadata": {
    "collapsed": false
   },
   "id": "f78ae18d8f49fffe",
   "execution_count": null
  },
  {
   "cell_type": "markdown",
   "id": "39d20f48-062f-4c2c-850a-da5b534cfa30",
   "metadata": {},
   "source": [
    "# Make Figure"
   ]
  },
  {
   "cell_type": "code",
   "outputs": [],
   "source": [
    "def plot_filled_in_error_bars(\n",
    "    raw_df,\n",
    "    x_var=X_VAR,\n",
    "    y_var=Y_VAR,\n",
    "    color_var=COLOR_VAR,\n",
    "    style_var=STYLE_VAR,\n",
    "    ci_lower=CI_LOWER,\n",
    "    ci_upper=CI_UPPER,\n",
    "    reverse_hue_order=False,\n",
    "    reverse_style_order=False,\n",
    "    n_refs= n_refs,\n",
    "    fill_between=True,\n",
    "        log_scale=True,\n",
    "):\n",
    "    # Sort the dataframe\n",
    "    raw_df = raw_df.sort_values(by=[x_var, style_var, color_var])\n",
    "    plt.figure(figsize=(LARGE_FIG_SIZE[0], LARGE_FIG_SIZE[1]))\n",
    "    \n",
    "    # Define hue and style orders\n",
    "    hue_order = list(reversed(sorted(raw_df[color_var].unique()))) if reverse_hue_order else list(sorted(raw_df[color_var].unique()))\n",
    "    style_order = list(reversed(sorted(raw_df[style_var].unique()))) if reverse_style_order else list(sorted(raw_df[style_var].unique()))\n",
    "    \n",
    "    # Create color mapping\n",
    "    unique_colors = sns.color_palette(n_colors=len(raw_df[color_var].unique()))\n",
    "    color_map = dict(zip(hue_order, unique_colors))\n",
    "    \n",
    "    \n",
    "    \n",
    "    # Create the line plot\n",
    "    fig = sns.lineplot(\n",
    "        data=raw_df,\n",
    "        x=x_var,\n",
    "        y=y_var,\n",
    "        hue=color_var,\n",
    "        style=style_var,  # Keep style_var for line styles\n",
    "        palette=color_map,\n",
    "        hue_order=hue_order,\n",
    "        style_order= style_order,\n",
    "    )\n",
    "\n",
    "    if fill_between:\n",
    "        # Create fill between for each group using matched colors\n",
    "        for name, group in raw_df.groupby([color_var, style_var]):\n",
    "            color_name = name[0]  # First element is Score\n",
    "            fig.fill_between(\n",
    "                group[x_var],\n",
    "                group[ci_lower],\n",
    "                group[ci_upper],\n",
    "                color=color_map[color_name],\n",
    "                alpha=ALPHA,\n",
    "            )\n",
    "    \n",
    "    # Customize each subplot\n",
    "    if log_scale:\n",
    "        fig.set_xscale(\"log\")\n",
    "        fig.xaxis.set_major_formatter(ScalarFormatter())\n",
    "\n",
    "    custom_ticks = n_refs\n",
    "    fig.set_xticks(custom_ticks)\n",
    "    fig.set_xticklabels(custom_ticks, fontsize=FONT_SIZES[\"ticks\"])\n",
    "    fig.tick_params(axis='y', labelsize=FONT_SIZES[\"ticks\"])\n",
    "\n",
    "    fig.set_xlabel(X_LABEL, fontsize=FONT_SIZES[\"xlabel\"], fontweight=\"bold\")\n",
    "    fig.set_ylabel(Y_LABEL, fontsize=FONT_SIZES[\"ylabel\"], fontweight=\"bold\")\n",
    "\n",
    "    # Customize legend\n",
    "    legend = fig.legend()\n",
    "    plt.setp(legend.get_title(), fontsize=FONT_SIZES[\"legend_title\"], fontweight=\"bold\")\n",
    "    plt.setp(legend.get_texts(), fontsize=FONT_SIZES[\"legend_text\"])\n",
    "    return plt"
   ],
   "metadata": {
    "collapsed": false
   },
   "id": "814c33b701a31165",
   "execution_count": null
  },
  {
   "cell_type": "code",
   "execution_count": null,
   "id": "64590e9f-6eec-4cc4-9f86-5de256eef4e8",
   "metadata": {},
   "outputs": [],
   "source": [
    "def plot_filled_in_error_bars_facet_col(\n",
    "    raw_df,\n",
    "    x_var=X_VAR,\n",
    "    y_var=Y_VAR,\n",
    "    color_var=COLOR_VAR,\n",
    "    style_var=STYLE_VAR,\n",
    "    facet_var=STYLE_VAR,\n",
    "    ci_lower=CI_LOWER,\n",
    "    ci_upper=CI_UPPER,\n",
    "    reverse_hue_order=False,\n",
    "    reverse_style_order=False,\n",
    "):\n",
    "    \"\"\"Plot filled-in error bars with facets by specified variable\"\"\"\n",
    "    # Use style_var as facet_var if none provided\n",
    "    facet_var = facet_var or style_var\n",
    "    style_var = style_var or color_var\n",
    "\n",
    "    # Sort the dataframe\n",
    "    raw_df = raw_df.sort_values(by=[x_var, style_var, color_var])\n",
    "\n",
    "    # Create subplot for each facet value\n",
    "    facets = raw_df[facet_var].unique()\n",
    "    fig, axes = plt.subplots(1, len(facets), figsize=(LARGE_FIG_SIZE[0]*len(facets), LARGE_FIG_SIZE[1]))\n",
    "    \n",
    "    # Define hue and style orders\n",
    "    hue_order = list(reversed(sorted(raw_df[color_var].unique()))) if reverse_hue_order else list(sorted(raw_df[color_var].unique()))\n",
    "    style_order = list(reversed(sorted(raw_df[style_var].unique()))) if reverse_style_order else list(sorted(raw_df[style_var].unique()))\n",
    "\n",
    "    # Create color mapping\n",
    "    unique_colors = sns.color_palette(n_colors=len(raw_df[color_var].unique()))\n",
    "    color_map = dict(zip(hue_order, unique_colors))\n",
    "\n",
    "    for ax, facet in zip(axes, facets):\n",
    "        facet_data = raw_df[raw_df[facet_var] == facet]\n",
    "\n",
    "        # Create fill between for each group using matched colors\n",
    "        for name, group in facet_data.groupby([color_var, style_var]):\n",
    "            color_name = name[0]  # First element is Score\n",
    "            ax.fill_between(\n",
    "                group[x_var],\n",
    "                group[ci_lower],\n",
    "                group[ci_upper],\n",
    "                color=color_map[color_name],\n",
    "                alpha=ALPHA,\n",
    "            )\n",
    "\n",
    "        # Create the line plot\n",
    "        sns.lineplot(\n",
    "            data=facet_data,\n",
    "            x=x_var,\n",
    "            y=y_var,\n",
    "            hue=color_var,\n",
    "            style=style_var,  # Keep style_var for line styles\n",
    "            ax=ax,\n",
    "            palette=color_map,\n",
    "            hue_order=hue_order,\n",
    "            style_order= style_order,\n",
    "        )\n",
    "        \n",
    "        # Customize each subplot\n",
    "        ax.set_xscale(\"log\")\n",
    "        ax.xaxis.set_major_formatter(ScalarFormatter())\n",
    "\n",
    "        custom_ticks = [1, 5, 10, 20, 50, 100, 200, raw_df[x_var].max()]\n",
    "        ax.set_xticks(custom_ticks)\n",
    "        ax.set_xticklabels(custom_ticks, fontsize=FONT_SIZES[\"ticks\"])\n",
    "        ax.tick_params(axis='y', labelsize=FONT_SIZES[\"ticks\"])\n",
    "\n",
    "        ax.set_xlabel(X_LABEL, fontsize=FONT_SIZES[\"xlabel\"], fontweight=\"bold\")\n",
    "        if ax == axes[0]:  # Only set ylabel for first subplot\n",
    "            ax.set_ylabel(Y_LABEL, fontsize=FONT_SIZES[\"ylabel\"], fontweight=\"bold\")\n",
    "        else:\n",
    "            ax.set_ylabel(\"\")\n",
    "\n",
    "        ax.set_title(f\"{facet}\", fontsize=FONT_SIZES[\"xlabel\"], fontweight=\"bold\")\n",
    "\n",
    "        # Customize legend\n",
    "        legend = ax.legend()\n",
    "        plt.setp(legend.get_title(), fontsize=FONT_SIZES[\"legend_title\"], fontweight=\"bold\")\n",
    "        plt.setp(legend.get_texts(), fontsize=FONT_SIZES[\"legend_text\"])\n",
    "    return plt"
   ]
  },
  {
   "cell_type": "code",
   "outputs": [],
   "source": [
    "fig = plot_filled_in_error_bars_facet_col(df, \n",
    "                                    x_var=label_map['N_Reference_Structures'], \n",
    "                                    y_var=label_map['Fraction'], \n",
    "                                    color_var=label_map['Reference_Split'], \n",
    "                                    style_var=label_map['Score'], \n",
    "                                    ci_lower=label_map['CI_Lower'], \n",
    "                                    ci_upper=label_map['CI_Upper'],\n",
    "                                          reverse_hue_order=True)\n",
    "save_fig(fig, \"dataset_split_horizontal_facet_col\")"
   ],
   "metadata": {
    "collapsed": false
   },
   "id": "a1e8681ee5394c18",
   "execution_count": null
  },
  {
   "cell_type": "code",
   "outputs": [],
   "source": [
    "fig = plot_filled_in_error_bars(df, \n",
    "                                    x_var=label_map['N_Reference_Structures'], \n",
    "                                    y_var=label_map['Fraction'], \n",
    "                                    color_var=label_map['Reference_Split'], \n",
    "                                    style_var=label_map['Score'], \n",
    "                                    ci_lower=label_map['CI_Lower'], \n",
    "                                    ci_upper=label_map['CI_Upper'],\n",
    "                                    reverse_hue_order=True,\n",
    "                                    )\n",
    "save_fig(fig, \"dataset_split_combined\")\n",
    "save_fig(fig, \"dataset_split_combined\", suffix=\".png\")"
   ],
   "metadata": {
    "collapsed": false
   },
   "id": "191f257d32d35558",
   "execution_count": null
  },
  {
   "cell_type": "code",
   "outputs": [],
   "source": [
    "fig = plot_filled_in_error_bars(df, \n",
    "                                    x_var=label_map['N_Reference_Structures'], \n",
    "                                    y_var=label_map['Fraction'], \n",
    "                                    color_var=label_map['Reference_Split'], \n",
    "                                    style_var=label_map['Score'], \n",
    "                                    ci_lower=label_map['CI_Lower'], \n",
    "                                    ci_upper=label_map['CI_Upper'],\n",
    "                                    reverse_hue_order=True,\n",
    "                                \n",
    "                                    )\n",
    "save_fig(fig, \"dataset_split_combined\")\n",
    "save_fig(fig, \"dataset_split_combined\", suffix=\".png\")"
   ],
   "metadata": {
    "collapsed": false
   },
   "id": "e1f24732635e9171"
  },
  {
   "cell_type": "markdown",
   "source": [
    "# Make Figure for Fred"
   ],
   "metadata": {
    "collapsed": false
   },
   "id": "6b1474f6959d68b1"
  },
  {
   "cell_type": "code",
   "outputs": [],
   "source": [
    "fred_results = Path(\"/Users/alexpayne/Scientific_Projects/mers-drug-discovery/sars2-retrospective-analysis/full_cross_dock_v2_analyzed_results/FRED_1_poses_datesplit_combined_results.csv\")\n",
    "fdf = pd.read_csv(fred_results)\n",
    "fdf[\"Error_Lower\"] = fdf[\"Fraction\"] - fdf[\"CI_Lower\"]\n",
    "fdf[\"Error_Lower\"] = fdf[\"Error_Lower\"].apply(lambda x: 0 if x < 0 else x)\n",
    "fdf[\"Error_Upper\"] = fdf[\"CI_Upper\"] - fdf[\"Fraction\"]\n",
    "fdf[\"Error_Upper\"] = fdf[\"Error_Upper\"].apply(lambda x: 0 if x < 0 else x)"
   ],
   "metadata": {
    "collapsed": false
   },
   "id": "8d4314481073b0f",
   "execution_count": null
  },
  {
   "cell_type": "code",
   "outputs": [],
   "source": [
    "df = fdf.copy()"
   ],
   "metadata": {
    "collapsed": false
   },
   "id": "b9d805164b3b3092",
   "execution_count": null
  },
  {
   "cell_type": "code",
   "outputs": [],
   "source": [
    "df = df.rename(columns=label_map)"
   ],
   "metadata": {
    "collapsed": false
   },
   "id": "e3e5f608bc2ed30c",
   "execution_count": null
  },
  {
   "cell_type": "code",
   "outputs": [],
   "source": [
    "for column in df.columns:\n",
    "    df[column] = df[column].apply(lambda x: label_map.get(x,x))"
   ],
   "metadata": {
    "collapsed": false
   },
   "id": "2590a3af7b17f327",
   "execution_count": null
  },
  {
   "cell_type": "code",
   "outputs": [],
   "source": [
    "fig = plot_filled_in_error_bars(df, \n",
    "                                    x_var=label_map['N_Reference_Structures'], \n",
    "                                    y_var=label_map['Fraction'], \n",
    "                                    color_var=label_map['Reference_Split'], \n",
    "                                    style_var=label_map['Score'], \n",
    "                                    ci_lower=label_map['CI_Lower'], \n",
    "                                    ci_upper=label_map['CI_Upper'],\n",
    "                                    reverse_hue_order=True,\n",
    "                                    )\n",
    "save_fig(fig, \"dataset_split_combined_fred\")\n",
    "save_fig(fig, \"dataset_split_combined_fred\", suffix=\".png\")"
   ],
   "metadata": {
    "collapsed": false
   },
   "id": "4f8269d3a4665a46",
   "execution_count": null
  },
  {
   "cell_type": "code",
   "outputs": [],
   "source": [],
   "metadata": {
    "collapsed": false
   },
   "id": "27985cb3d4a9476e",
   "execution_count": null
  }
 ],
 "metadata": {
  "kernelspec": {
   "name": "python3",
   "language": "python",
   "display_name": "Python 3 (ipykernel)"
  },
  "language_info": {
   "codemirror_mode": {
    "name": "ipython",
    "version": 3
   },
   "file_extension": ".py",
   "mimetype": "text/x-python",
   "name": "python",
   "nbconvert_exporter": "python",
   "pygments_lexer": "ipython3",
   "version": "3.11.12"
  }
 },
 "nbformat": 4,
 "nbformat_minor": 5
}
