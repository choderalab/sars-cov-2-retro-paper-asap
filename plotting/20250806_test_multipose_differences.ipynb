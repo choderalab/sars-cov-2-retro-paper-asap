{
 "cells": [
  {
   "cell_type": "markdown",
   "source": [
    "# Problem"
   ],
   "metadata": {
    "collapsed": false
   },
   "id": "f19d7405d6da643f"
  },
  {
   "cell_type": "markdown",
   "source": [
    "The multipose results are worse than the single pose results. Why?"
   ],
   "metadata": {
    "collapsed": false
   },
   "id": "1ae122f049ef6307"
  },
  {
   "cell_type": "markdown",
   "source": [
    "# Imports"
   ],
   "metadata": {
    "collapsed": false
   },
   "id": "2b55ca1ba6d91384"
  },
  {
   "cell_type": "code",
   "outputs": [],
   "source": [
    "import harbor.analysis.cross_docking as cd\n",
    "from pathlib import Path\n",
    "from importlib import reload\n",
    "import pandas as pd\n",
    "import json\n",
    "import matplotlib.pyplot as plt\n",
    "import seaborn as sns"
   ],
   "metadata": {
    "collapsed": false
   },
   "id": "896d43649750dc3f",
   "execution_count": null
  },
  {
   "cell_type": "code",
   "outputs": [],
   "source": [],
   "metadata": {
    "collapsed": false
   },
   "id": "def1533449f6c23c",
   "execution_count": null
  },
  {
   "cell_type": "code",
   "outputs": [],
   "source": [
    "sp =  cd.DockingDataModel.deserialize(\"/Users/alexpayne/Scientific_Projects/mers-drug-discovery/sars2-retrospective-analysis/full_cross_dock_v2_combined_results/ALL_1_poses.parquet\")"
   ],
   "metadata": {
    "collapsed": false
   },
   "id": "180a058150151e73",
   "execution_count": null
  },
  {
   "cell_type": "code",
   "outputs": [],
   "source": [
    "mp = cd.DockingDataModel.deserialize(\"/Users/alexpayne/Scientific_Projects/mers-drug-discovery/sars2-retrospective-analysis/full_cross_dock_v2_combined_results/ALL_50_poses.parquet\")"
   ],
   "metadata": {
    "collapsed": false
   },
   "id": "e24421abffa7e26e",
   "execution_count": null
  },
  {
   "cell_type": "code",
   "outputs": [],
   "source": [
    "mpdf = mp.dataframe"
   ],
   "metadata": {
    "collapsed": false
   },
   "id": "77479818d7ca4e38",
   "execution_count": null
  },
  {
   "cell_type": "code",
   "outputs": [],
   "source": [
    "spdf = sp.dataframe"
   ],
   "metadata": {
    "collapsed": false
   },
   "id": "8f3e4591dc6706a8",
   "execution_count": null
  },
  {
   "cell_type": "code",
   "outputs": [],
   "source": [
    "ev = cd.Evaluator(**json.loads('{\"type_\":\"Evaluator\",\"name\":\"Evaluator\",\"pose_selector\":{\"type_\":\"PoseSelector\",\"name\":\"Default\",\"category\":\"PoseSelection\",\"variable\":\"Pose_ID\",\"ascending\":true,\"number_to_return\":1},\"dataset_split\":{\"type_\":\"DateSplit\",\"name\":\"DateSplit\",\"deterministic\":false,\"split_level\":0,\"reference_structure_column\":\"Reference_Structure\",\"n_reference_structures\":10,\"date_column\":\"RefData_Date\",\"randomize_by_n_days\":1},\"similarity_split\":null,\"scorer\":{\"type_\":\"RMSDScorer\",\"name\":\"RMSD\",\"category\":\"Score\",\"variable\":\"PoseData_RMSD\",\"ascending\":true,\"number_to_return\":1},\"evaluator\":{\"type_\":\"BinaryEvaluation\",\"name\":\"BinaryEvaluation\",\"variable\":\"PoseData_RMSD\",\"cutoff\":2.0,\"below_cutoff_is_good\":true},\"n_bootstraps\":1000,\"dataset_before_similarity\":true}'))\n",
    "ev.n_bootstraps = 3"
   ],
   "metadata": {
    "collapsed": false
   },
   "id": "87d07e37b7f55fa9",
   "execution_count": null
  },
  {
   "cell_type": "code",
   "outputs": [],
   "source": [
    "sp_results = cd.Results.calculate_results(sp, [ev])"
   ],
   "metadata": {
    "collapsed": false
   },
   "id": "1e7ec28c5ee6daea",
   "execution_count": null
  },
  {
   "cell_type": "code",
   "outputs": [],
   "source": [
    "mp_results = cd.Results.calculate_results(mp, [ev])"
   ],
   "metadata": {
    "collapsed": false
   },
   "id": "f04ab54ebc273a3b",
   "execution_count": null
  },
  {
   "cell_type": "code",
   "outputs": [],
   "source": [
    "sp_results_df = cd.Results.df_from_results(sp_results)\n",
    "sp_results_df[\"Source\"] = \"Single Pose\"\n",
    "mp_results_df = cd.Results.df_from_results(mp_results)\n",
    "mp_results_df[\"Source\"] = \"Multi Pose\""
   ],
   "metadata": {
    "collapsed": false
   },
   "id": "618c48cfb0877b4b",
   "execution_count": null
  },
  {
   "cell_type": "code",
   "outputs": [],
   "source": [
    "combined = pd.concat([sp_results_df, mp_results_df], axis=0)"
   ],
   "metadata": {
    "collapsed": false
   },
   "id": "303582d5d274b462",
   "execution_count": null
  },
  {
   "cell_type": "code",
   "outputs": [],
   "source": [
    "combined"
   ],
   "metadata": {
    "collapsed": false
   },
   "id": "2b62dcc7c7641f3b",
   "execution_count": null
  },
  {
   "cell_type": "code",
   "outputs": [],
   "source": [
    "sp1 = ev.run_pose_selector([sp])"
   ],
   "metadata": {
    "collapsed": false
   },
   "id": "da278f1e25e2a0a5",
   "execution_count": null
  },
  {
   "cell_type": "code",
   "outputs": [],
   "source": [
    "mp1 = ev.run_pose_selector([mp])"
   ],
   "metadata": {
    "collapsed": false
   },
   "id": "a53e35db7e4322e9",
   "execution_count": null
  },
  {
   "cell_type": "code",
   "outputs": [],
   "source": [
    "sp1 == mp1"
   ],
   "metadata": {
    "collapsed": false
   },
   "id": "9ec60a6a1e6605c3",
   "execution_count": null
  },
  {
   "cell_type": "code",
   "outputs": [],
   "source": [
    "sp1[0].dataframe.nunique()"
   ],
   "metadata": {
    "collapsed": false
   },
   "id": "ae7fa53364c6bac2",
   "execution_count": null
  },
  {
   "cell_type": "code",
   "outputs": [],
   "source": [
    "mp1[0].dataframe.nunique()"
   ],
   "metadata": {
    "collapsed": false
   },
   "id": "e512a30b8d7d4688",
   "execution_count": null
  },
  {
   "cell_type": "code",
   "outputs": [],
   "source": [
    "def extract_and_combine(sp, mp):\n",
    "    sp_df = sp.dataframe\n",
    "    mp_df = mp.dataframe\n",
    "    sp_df[\"Source\"] = \"Single Pose\"\n",
    "    mp_df[\"Source\"] = \"Multi Pose\"\n",
    "    combined_df = pd.concat([sp_df, mp_df], axis=0)\n",
    "    return combined_df"
   ],
   "metadata": {
    "collapsed": false
   },
   "id": "8322c7128ad2eae",
   "execution_count": null
  },
  {
   "cell_type": "code",
   "outputs": [],
   "source": [
    "def plot(df, x=\"PoseData_RMSD\", hue=\"Source\"):\n",
    "    plot_df = df[\n",
    "    # (plot_df[\"Query_Ligand\"].isin(spdf[\"Query_Ligand\"].unique()[:100]))&\n",
    "    # (plot_df[\"Reference_Structure\"].isin(spdf[\"Reference_Structure\"].unique()[:100]))\n",
    "        (df[\"TanimotoComboData_Aligned\"] == True)&\n",
    "        (df[\"ECFPData_radius\"] == 2)\n",
    "    ].reset_index()\n",
    "    fig = sns.displot(plot_df, x=x, hue=hue, kind=\"ecdf\")\n",
    "    plt.xlim(0, 10)\n",
    "    return fig"
   ],
   "metadata": {
    "collapsed": false
   },
   "id": "9c65b6f248408660",
   "execution_count": null
  },
  {
   "cell_type": "code",
   "outputs": [],
   "source": [
    "plot_df = extract_and_combine(sp1[0], mp1[0])\n",
    "plot_df = plot_df[\n",
    "    # (plot_df[\"Query_Ligand\"].isin(spdf[\"Query_Ligand\"].unique()[:100]))&\n",
    "    # (plot_df[\"Reference_Structure\"].isin(spdf[\"Reference_Structure\"].unique()[:100]))\n",
    "    (plot_df[\"TanimotoComboData_Aligned\"] == True)&\n",
    "    (plot_df[\"ECFPData_radius\"] == 2)\n",
    "].reset_index()"
   ],
   "metadata": {
    "collapsed": false
   },
   "id": "449a240d1ea410aa",
   "execution_count": null
  },
  {
   "cell_type": "code",
   "outputs": [],
   "source": [
    "fig = sns.displot(plot_df, x=\"PoseData_RMSD\", hue=\"Source\", kind=\"ecdf\")\n",
    "# set x axis limits\n",
    "plt.xlim(0, 10)"
   ],
   "metadata": {
    "collapsed": false
   },
   "id": "fa23025aa7874e3a",
   "execution_count": null
  },
  {
   "cell_type": "code",
   "outputs": [],
   "source": [
    "mp2 = ev.run_dataset_split(mp1)\n",
    "sp2 = ev.run_dataset_split(sp1)"
   ],
   "metadata": {
    "collapsed": false
   },
   "id": "b56d83e5a9199c9",
   "execution_count": null
  },
  {
   "cell_type": "code",
   "outputs": [],
   "source": [
    "df2 = extract_and_combine(sp2[0], mp2[0])"
   ],
   "metadata": {
    "collapsed": false
   },
   "id": "51343bc7104e34c4",
   "execution_count": null
  },
  {
   "cell_type": "code",
   "outputs": [],
   "source": [
    "df2.groupby(\"Source\").nunique()"
   ],
   "metadata": {
    "collapsed": false
   },
   "id": "66f7bff5793ec27d",
   "execution_count": null
  },
  {
   "cell_type": "code",
   "outputs": [],
   "source": [
    "plot(df2)"
   ],
   "metadata": {
    "collapsed": false
   },
   "id": "98b29258099a862e",
   "execution_count": null
  },
  {
   "cell_type": "code",
   "outputs": [],
   "source": [
    "mp3 = ev.run_scorer(mp2)\n",
    "sp3 = ev.run_scorer(sp2)"
   ],
   "metadata": {
    "collapsed": false
   },
   "id": "5f3bbd492230b313",
   "execution_count": null
  },
  {
   "cell_type": "code",
   "outputs": [],
   "source": [
    "df3 = extract_and_combine(sp3[0], mp3[0])"
   ],
   "metadata": {
    "collapsed": false
   },
   "id": "cdc88ac247990d38",
   "execution_count": null
  },
  {
   "cell_type": "code",
   "outputs": [],
   "source": [
    "plot(df3)"
   ],
   "metadata": {
    "collapsed": false
   },
   "id": "40f849e18c611925",
   "execution_count": null
  },
  {
   "cell_type": "code",
   "outputs": [],
   "source": [
    "df3.groupby(\"Source\").nunique()"
   ],
   "metadata": {
    "collapsed": false
   },
   "id": "86c7be72b4ce07d7",
   "execution_count": null
  },
  {
   "cell_type": "code",
   "outputs": [],
   "source": [
    "mp4 = ev.calculate_results(mp3)\n",
    "sp4 = ev.calculate_results(sp3)"
   ],
   "metadata": {
    "collapsed": false
   },
   "id": "9a630fd7ce84204a",
   "execution_count": null
  },
  {
   "cell_type": "code",
   "outputs": [],
   "source": [
    "mp4"
   ],
   "metadata": {
    "collapsed": false
   },
   "id": "f6f785b0af66a033",
   "execution_count": null
  },
  {
   "cell_type": "code",
   "outputs": [],
   "source": [
    "sp4"
   ],
   "metadata": {
    "collapsed": false
   },
   "id": "5d9306cb829f215d",
   "execution_count": null
  },
  {
   "cell_type": "markdown",
   "source": [
    "# Ok I don't think it's a flaw with my analysis. I *think* it's just because I've changed the settings"
   ],
   "metadata": {
    "collapsed": false
   },
   "id": "fcc3263b2e9f739a"
  },
  {
   "cell_type": "markdown",
   "source": [
    "These are the settings for the multipose docking:\n",
    "asap-docking cross-docking \\\n",
    "    --target SARS-CoV-2-Mpro \\\n",
    "    --use-omega \\\n",
    "    --omega-dense \\\n",
    "    --allow-final-clash \\\n",
    "    --posit-method \"${posit_method}\" \\\n",
    "    --structure-selector \"${selector}\" \\\n",
    "    --fragalysis-dir ${input_dir} \\\n",
    "    --ligands \"${ligandFile2d}\" \\\n",
    "    --cache-dir \"${prepped_dir}\" \\\n",
    "    --output-dir \"${compound_name}_docked\" \\\n",
    "    --overwrite \\\n",
    "    --no-save-to-cache \\\n",
    "    --use-only-cache \\\n",
    "    --num-poses \"${num_poses}\" \\"
   ],
   "metadata": {
    "collapsed": false
   },
   "id": "ae58edbc8ba212f0"
  },
  {
   "cell_type": "markdown",
   "source": [
    "These are the settings for the single pose docking:\n",
    "asap-docking cross-docking \\\n",
    "    --target SARS-CoV-2-Mpro \\\n",
    "    --use-omega \\\n",
    "    --omega-dense \\\n",
    "    --allow-retries \\\n",
    "    --allow-final-clash \\\n",
    "    --relax-mode clash \\\n",
    "    --posit-method \"${posit_method}\" \\\n",
    "    --structure-selector \"${selector}\" \\\n",
    "    --fragalysis-dir ${input_dir} \\\n",
    "    --ligands \"${ligandFile2d}\" \\\n",
    "    --cache-dir \"${prepped_dir}\" \\\n",
    "    --output-dir \"${compound_name}_docked\" \\\n",
    "    --overwrite \\\n",
    "    --no-save-to-cache \\\n",
    "    --use-only-cache \\\n",
    "    --num-poses \"${num_poses}\" \\"
   ],
   "metadata": {
    "collapsed": false
   },
   "id": "ec14a9cf5c11a8bf"
  }
 ],
 "metadata": {
  "kernelspec": {
   "display_name": "Python 3",
   "language": "python",
   "name": "python3"
  },
  "language_info": {
   "codemirror_mode": {
    "name": "ipython",
    "version": 2
   },
   "file_extension": ".py",
   "mimetype": "text/x-python",
   "name": "python",
   "nbconvert_exporter": "python",
   "pygments_lexer": "ipython2",
   "version": "2.7.6"
  }
 },
 "nbformat": 4,
 "nbformat_minor": 5
}
