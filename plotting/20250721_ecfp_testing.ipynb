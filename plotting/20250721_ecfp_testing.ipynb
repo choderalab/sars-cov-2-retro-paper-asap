{
 "cells": [
  {
   "cell_type": "markdown",
   "source": [
    "# Imports"
   ],
   "metadata": {
    "collapsed": false
   },
   "id": "c7d6225bc7718ada"
  },
  {
   "cell_type": "code",
   "outputs": [],
   "source": [
    "import matplotlib.pyplot as plt\n",
    "from matplotlib.ticker import ScalarFormatter\n",
    "import seaborn as sns\n",
    "import pandas as pd\n",
    "from pathlib import Path\n",
    "from harbor.analysis import cross_docking as cd"
   ],
   "metadata": {
    "collapsed": false
   },
   "id": "df70e017ab81fc6d",
   "execution_count": null
  },
  {
   "cell_type": "markdown",
   "source": [
    "# Load Data"
   ],
   "metadata": {
    "collapsed": false
   },
   "id": "1dbbe89dc6e638a3"
  },
  {
   "cell_type": "code",
   "outputs": [],
   "source": [
    "results_path = Path(\"/Users/alexpayne/Scientific_Projects/mers-drug-discovery/sars2-retrospective-analysis/full_cross_dock_v2_analyzed_results/\")\n",
    "posit_results = results_path / \"ALL_1_poses_ecfp4_combined_results.csv\"\n",
    "df = pd.read_csv(posit_results)"
   ],
   "metadata": {
    "collapsed": false
   },
   "id": "ca796c141716dbd7",
   "execution_count": null
  },
  {
   "cell_type": "code",
   "outputs": [],
   "source": [
    "pose_data_path = Path(\"/Users/alexpayne/Scientific_Projects/mers-drug-discovery/sars2-retrospective-analysis/full_cross_dock_v2_combined_results/ALL_1_poses.parquet\")\n",
    "pose_data = cd.DockingDataModel.deserialize(pose_data_path) "
   ],
   "metadata": {
    "collapsed": false
   },
   "id": "dcd6b2ef40ac4b9f",
   "execution_count": null
  },
  {
   "cell_type": "code",
   "outputs": [],
   "source": [
    "pose_data.dataframe"
   ],
   "metadata": {
    "collapsed": false
   },
   "id": "dd91710f88b4b49c",
   "execution_count": null
  },
  {
   "cell_type": "code",
   "outputs": [],
   "source": [
    "ref_structure_column = \"Reference_Structure\"\n",
    "sim_split = cd.EvaluatorFactory(name=\"ecfp_split\")\n",
    "sim_split.success_rate_evaluator_settings.use = True\n",
    "sim_split.success_rate_evaluator_settings.success_rate_column = \"PoseData_RMSD\"\n",
    "\n",
    "sim_split.scorer_settings.rmsd_scorer_settings.use = True\n",
    "sim_split.scorer_settings.rmsd_scorer_settings.rmsd_column_name = \"PoseData_RMSD\"\n",
    "\n",
    "sim_split.scorer_settings.posit_scorer_settings.use = True\n",
    "sim_split.scorer_settings.posit_scorer_settings.posit_score_column_name = (\n",
    "    \"PoseData_docking-confidence-POSIT\"\n",
    ")\n",
    "sim_split.name = \"increasing_similarity_ecfp4\"\n",
    "sim_split.pairwise_split_settings.use = True\n",
    "sim_split.pairwise_split_settings.similarity_split_settings.use = True\n",
    "sim_split.pairwise_split_settings.similarity_split_settings.include_similar = False\n",
    "sim_split.pairwise_split_settings.similarity_split_settings.similarity_column_name = (\n",
    "    \"ECFPData_Tanimoto\"\n",
    ")\n",
    "sim_split.pairwise_split_settings.similarity_split_settings.similarity_groupby_dict = {\n",
    "    \"ECFPData_fingerprint\": \"ECFP4_2048\"\n",
    "}\n",
    "sim_split.pairwise_split_settings.similarity_split_settings.update_reference_settings.use = (\n",
    "    True\n",
    ")\n",
    "sim_split.pairwise_split_settings.similarity_split_settings.update_reference_settings.use_logarithmic_scaling = (\n",
    "    True\n",
    ")\n",
    "sim_split.n_bootstraps = 10"
   ],
   "metadata": {
    "collapsed": false
   },
   "id": "67db84b5cdd12449",
   "execution_count": null
  },
  {
   "cell_type": "code",
   "outputs": [],
   "source": [
    "evs = sim_split.create_evaluators(pose_data)"
   ],
   "metadata": {
    "collapsed": false
   },
   "id": "24de3d521603572",
   "execution_count": null
  },
  {
   "cell_type": "code",
   "outputs": [],
   "source": [
    "len(evs)"
   ],
   "metadata": {
    "collapsed": false
   },
   "id": "9ef69e381d99578",
   "execution_count": null
  },
  {
   "cell_type": "code",
   "outputs": [],
   "source": [
    "evs[50]"
   ],
   "metadata": {
    "collapsed": false
   },
   "id": "fe570e24cee4e1e0",
   "execution_count": null
  },
  {
   "cell_type": "code",
   "outputs": [],
   "source": [
    "results = cd.Results.calculate_results(pose_data, evs[50:51])"
   ],
   "metadata": {
    "collapsed": false
   },
   "id": "ad32667f77f2cac8",
   "execution_count": null
  },
  {
   "cell_type": "code",
   "outputs": [],
   "source": [
    "results_df = cd.Results.df_from_results(results)"
   ],
   "metadata": {
    "collapsed": false
   },
   "id": "4c069bf3c5a99978",
   "execution_count": null
  },
  {
   "cell_type": "code",
   "outputs": [],
   "source": [
    "ev = evs[50]"
   ],
   "metadata": {
    "collapsed": false
   },
   "id": "5857c2546801bf1b",
   "execution_count": null
  },
  {
   "cell_type": "code",
   "outputs": [],
   "source": [
    "d1 = ev.run_pose_selector([pose_data])"
   ],
   "metadata": {
    "collapsed": false
   },
   "id": "c4ccc642d6498a71",
   "execution_count": null
  },
  {
   "cell_type": "code",
   "outputs": [],
   "source": [
    "d2 = ev.run_similarity_split(d1)"
   ],
   "metadata": {
    "collapsed": false
   },
   "id": "3230368b89c4b007",
   "execution_count": null
  },
  {
   "cell_type": "code",
   "outputs": [],
   "source": [
    "ss = ev.similarity_split\n",
    "ss_dict = ss.model_dump()"
   ],
   "metadata": {
    "collapsed": false
   },
   "id": "2b95e27f97692659",
   "execution_count": null
  },
  {
   "cell_type": "code",
   "outputs": [],
   "source": [
    "ss_dict"
   ],
   "metadata": {
    "collapsed": false
   },
   "id": "3cba4b0005a0f5e1",
   "execution_count": null
  },
  {
   "cell_type": "code",
   "outputs": [],
   "source": [
    "from importlib import reload\n",
    "reload(cd)\n",
    "ss = cd.SimilaritySplit(**ss_dict)\n",
    "ss.run(pose_data)"
   ],
   "metadata": {
    "collapsed": false
   },
   "id": "285180ae1e80458d",
   "execution_count": null
  },
  {
   "cell_type": "code",
   "outputs": [],
   "source": [
    "data = pose_data.model_copy()\n",
    "self = ss\n",
    "bootstraps = 1\n",
    "df = data.dataframe"
   ],
   "metadata": {
    "collapsed": false
   },
   "id": "839453b980614957",
   "execution_count": null
  },
  {
   "cell_type": "code",
   "outputs": [],
   "source": [
    "# first just get the necessary data\n",
    "for key, value in self.groupby.items():\n",
    "    df = df[df[key] == value]"
   ],
   "metadata": {
    "collapsed": false
   },
   "id": "be7c796432f2475f",
   "execution_count": null
  },
  {
   "cell_type": "code",
   "outputs": [],
   "source": [
    "ss.groupby"
   ],
   "metadata": {
    "collapsed": false
   },
   "id": "b82b2a7e8379b196",
   "execution_count": null
  },
  {
   "cell_type": "code",
   "outputs": [],
   "source": [
    "data.dataframe.columns"
   ],
   "metadata": {
    "collapsed": false
   },
   "id": "f759c7bd8abf27cb",
   "execution_count": null
  },
  {
   "cell_type": "code",
   "outputs": [],
   "source": [
    "data.dataframe"
   ],
   "metadata": {
    "collapsed": false
   },
   "id": "dd999221f0282056",
   "execution_count": null
  },
  {
   "cell_type": "code",
   "outputs": [],
   "source": [],
   "metadata": {
    "collapsed": false
   },
   "id": "a4fa3a510633383e"
  },
  {
   "cell_type": "code",
   "outputs": [],
   "source": [
    "# if include similar True and higher is MORE similar, or if similar False and higher is LESS similar\n",
    "if self.include_similar == self.higher_is_more_similar:\n",
    "    df = df[df[self.similarity_column] >= self.threshold]\n",
    "\n",
    "# if include similar True and higher is LESS similar, or if similar False and higher is MORE similar\n",
    "elif self.include_similar != self.higher_is_more_similar:\n",
    "    df = df[df[self.similarity_column] <= self.threshold]\n",
    "\n",
    "if self.n_reference_structures is None:\n",
    "    filtered = [cd.DockingDataModel(dataframe=df, **data.model_dump())]\n",
    "else:\n",
    "    filtered = [\n",
    "        cd.DockingDataModel(\n",
    "            dataframe=(\n",
    "                df.groupby(self.query_ligand_column)\n",
    "                .apply(\n",
    "                    lambda x: (\n",
    "                        x\n",
    "                        if len(x) <= self.n_reference_structures\n",
    "                        else x.sample(n=self.n_reference_structures)\n",
    "                    )\n",
    "                )\n",
    "                .reset_index(drop=True)\n",
    "            ),\n",
    "            **data.model_dump(),\n",
    "        )\n",
    "        for _ in range(bootstraps)\n",
    "    ]"
   ],
   "metadata": {
    "collapsed": false
   },
   "id": "bda51ff554b14052"
  }
 ],
 "metadata": {
  "kernelspec": {
   "display_name": "Python 3",
   "language": "python",
   "name": "python3"
  },
  "language_info": {
   "codemirror_mode": {
    "name": "ipython",
    "version": 2
   },
   "file_extension": ".py",
   "mimetype": "text/x-python",
   "name": "python",
   "nbconvert_exporter": "python",
   "pygments_lexer": "ipython2",
   "version": "2.7.6"
  }
 },
 "nbformat": 4,
 "nbformat_minor": 5
}
