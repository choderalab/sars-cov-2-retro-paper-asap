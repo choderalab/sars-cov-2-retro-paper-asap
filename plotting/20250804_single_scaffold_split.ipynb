{
 "cells": [
  {
   "cell_type": "markdown",
   "source": [
    "# Imports"
   ],
   "metadata": {
    "collapsed": false
   },
   "id": "f01be5fd5fc246f7"
  },
  {
   "cell_type": "code",
   "outputs": [],
   "source": [
    "import pandas as pd\n",
    "import json\n",
    "from datetime import datetime\n",
    "import plotly.express as px\n",
    "from pathlib import Path\n",
    "import sys\n",
    "from matplotlib.pyplot import ScalarFormatter\n",
    "from asapdiscovery.data.readers.molfile import MolFileFactory\n",
    "from harbor.analysis.cross_docking import DockingDataModel\n",
    "import harbor.analysis.cross_docking as cd\n",
    "import seaborn as sns\n",
    "from matplotlib import pyplot as plt"
   ],
   "metadata": {
    "collapsed": false
   },
   "id": "e05bfb8caa847df0",
   "execution_count": null
  },
  {
   "cell_type": "code",
   "outputs": [],
   "source": [
    "data = cd.DockingDataModel.deserialize(\"/Users/alexpayne/Scientific_Projects/mers-drug-discovery/sars2-retrospective-analysis/full_cross_dock_v2_combined_results/ALL_1_poses.parquet\")"
   ],
   "metadata": {
    "collapsed": false
   },
   "id": "4340cc7cc2bf2d4",
   "execution_count": null
  },
  {
   "cell_type": "code",
   "outputs": [],
   "source": [
    "s1_df = data.dataframe[data.dataframe['QueryData_Scaffold_ID'] == 0]"
   ],
   "metadata": {
    "collapsed": false
   },
   "id": "d2c0b581bab39d17",
   "execution_count": null
  },
  {
   "cell_type": "code",
   "outputs": [],
   "source": [
    "s1 = cd.DockingDataModel(dataframe=s1_df, **data.model_dump())"
   ],
   "metadata": {
    "collapsed": false
   },
   "id": "773a0218c1714b1d",
   "execution_count": null
  },
  {
   "cell_type": "code",
   "outputs": [],
   "source": [
    "# update default settings\n",
    "default = cd.EvaluatorFactory(name=\"default\")\n",
    "\n",
    "default.success_rate_evaluator_settings.use = True\n",
    "default.success_rate_evaluator_settings.success_rate_column = \"PoseData_RMSD\"\n",
    "\n",
    "default.scorer_settings.rmsd_scorer_settings.use = True\n",
    "default.scorer_settings.rmsd_scorer_settings.rmsd_column_name = \"PoseData_RMSD\"\n",
    "\n",
    "default.scorer_settings.posit_scorer_settings.use = True\n",
    "default.scorer_settings.posit_scorer_settings.posit_score_column_name = (\n",
    "    \"PoseData_docking-confidence-POSIT\"\n",
    ")\n",
    "\n",
    "# basic date split cross docking\n",
    "evf = default.__deepcopy__()\n",
    "evf.name = \"reference_split_comparison\"\n",
    "evf.reference_split_settings.use = True\n",
    "evf.reference_split_settings.date_split_settings.use = True\n",
    "evf.reference_split_settings.date_split_settings.reference_structure_date_column = (\n",
    "    \"RefData_Date\"\n",
    ")\n",
    "evf.reference_split_settings.random_split_settings.use = True\n",
    "evf.reference_split_settings.update_reference_settings.use = True\n",
    "evf.reference_split_settings.update_reference_settings.use_logarithmic_scaling = (\n",
    "    True\n",
    ")"
   ],
   "metadata": {
    "collapsed": false
   },
   "id": "e94c4aef2f2e39ac",
   "execution_count": null
  },
  {
   "cell_type": "code",
   "outputs": [],
   "source": [
    "evs = evf.create_evaluators(s1)"
   ],
   "metadata": {
    "collapsed": false
   },
   "id": "1e13120d23398bab",
   "execution_count": null
  },
  {
   "cell_type": "code",
   "outputs": [],
   "source": [
    "len(evs)"
   ],
   "metadata": {
    "collapsed": false
   },
   "id": "f5bb24e7aed48b37",
   "execution_count": null
  },
  {
   "cell_type": "code",
   "outputs": [],
   "source": [
    "# evaluate"
   ],
   "metadata": {
    "collapsed": false
   },
   "id": "39bfc327de8f96f7",
   "execution_count": null
  },
  {
   "cell_type": "code",
   "outputs": [],
   "source": [
    "results = cd.Results.calculate_results(s1, evs)"
   ],
   "metadata": {
    "collapsed": false
   },
   "id": "b1479b161b6ba0a8",
   "execution_count": null
  },
  {
   "cell_type": "markdown",
   "source": [
    "# scaffold 2"
   ],
   "metadata": {
    "collapsed": false
   },
   "id": "d69ee36ad94b3a35"
  },
  {
   "cell_type": "code",
   "outputs": [],
   "source": [
    "s2_df = data.dataframe[data.dataframe['QueryData_Scaffold_ID'] == 1]\n",
    "s2 = cd.DockingDataModel(dataframe=s2_df, **data.model_dump())"
   ],
   "metadata": {
    "collapsed": false
   },
   "id": "1871e1b9ca21bc83",
   "execution_count": null
  },
  {
   "cell_type": "code",
   "outputs": [],
   "source": [
    "evs2 = evf.create_evaluators(s2)\n",
    "results2 = cd.Results.calculate_results(s2, evs2)"
   ],
   "metadata": {
    "collapsed": false
   },
   "id": "bf9d90bb58bbfb64",
   "execution_count": null
  },
  {
   "cell_type": "markdown",
   "source": [
    "# Scaffold 3"
   ],
   "metadata": {
    "collapsed": false
   },
   "id": "97b64668f553673e"
  },
  {
   "cell_type": "code",
   "outputs": [],
   "source": [
    "s3_df = data.dataframe[data.dataframe['QueryData_Scaffold_ID'] == 2]\n",
    "s3 = cd.DockingDataModel(dataframe=s3_df, **data.model_dump())"
   ],
   "metadata": {
    "collapsed": false
   },
   "id": "c6f47979e74ba675",
   "execution_count": null
  },
  {
   "cell_type": "code",
   "outputs": [],
   "source": [
    "evs3 = evf.create_evaluators(s3)\n",
    "results3 = cd.Results.calculate_results(s3, evs3)"
   ],
   "metadata": {
    "collapsed": false
   },
   "id": "5af37858ac032431",
   "execution_count": null
  },
  {
   "cell_type": "markdown",
   "source": [
    "# Scaffold 4"
   ],
   "metadata": {
    "collapsed": false
   },
   "id": "83d9a552f805241a"
  },
  {
   "cell_type": "code",
   "outputs": [],
   "source": [
    "s4_df = data.dataframe[data.dataframe['QueryData_Scaffold_ID'] == 3]\n",
    "s4 = cd.DockingDataModel(dataframe=s4_df, **data.model_dump())"
   ],
   "metadata": {
    "collapsed": false
   },
   "id": "1f7606e474ce7af0",
   "execution_count": null
  },
  {
   "cell_type": "code",
   "outputs": [],
   "source": [
    "evs4 = evf.create_evaluators(s4)\n",
    "results4 = cd.Results.calculate_results(s4, evs4)"
   ],
   "metadata": {
    "collapsed": false
   },
   "id": "628492dde846b9e3",
   "execution_count": null
  },
  {
   "cell_type": "code",
   "outputs": [],
   "source": [],
   "metadata": {
    "collapsed": false
   },
   "id": "27f9ea753ca11fe9"
  },
  {
   "cell_type": "markdown",
   "source": [
    "# Save Results"
   ],
   "metadata": {
    "collapsed": false
   },
   "id": "6ff57ef930a23466"
  },
  {
   "cell_type": "code",
   "outputs": [],
   "source": [
    "r1 = cd.Results.df_from_results(results)\n",
    "r2 = cd.Results.df_from_results(results2)\n",
    "r3 = cd.Results.df_from_results(results3)\n",
    "r4 = cd.Results.df_from_results(results4)"
   ],
   "metadata": {
    "collapsed": false
   },
   "id": "3829d5f3fc968d8a",
   "execution_count": null
  },
  {
   "cell_type": "markdown",
   "source": [
    "## combine results"
   ],
   "metadata": {
    "collapsed": false
   },
   "id": "335d64a14b3b33ad"
  },
  {
   "cell_type": "code",
   "outputs": [],
   "source": [
    "r1[\"Query_Scaffold\"] = \"Scaffold 1\"\n",
    "r2[\"Query_Scaffold\"] = \"Scaffold 2\"\n",
    "r3[\"Query_Scaffold\"] = \"Scaffold 3\"\n",
    "r4[\"Query_Scaffold\"] = \"Scaffold 4\""
   ],
   "metadata": {
    "collapsed": false
   },
   "id": "ee6d9f656ca781d2",
   "execution_count": null
  },
  {
   "cell_type": "code",
   "outputs": [],
   "source": [
    "df = pd.concat([r1, r2, r3, r4], ignore_index=True)"
   ],
   "metadata": {
    "collapsed": false
   },
   "id": "8fb16a8ebcdb07df",
   "execution_count": null
  },
  {
   "cell_type": "code",
   "outputs": [],
   "source": [
    "df.to_csv(\"single_scaffold_split_results.csv\")"
   ],
   "metadata": {
    "collapsed": false
   },
   "id": "4c65d0cc2c2a72d8",
   "execution_count": null
  },
  {
   "cell_type": "markdown",
   "source": [
    "# Plot"
   ],
   "metadata": {
    "collapsed": false
   },
   "id": "2eda67e6036d78f2"
  },
  {
   "cell_type": "code",
   "outputs": [],
   "source": [
    "posit_results = Path(\"single_scaffold_split_results.csv\")\n",
    "pdf = pd.read_csv(posit_results)\n",
    "pdf[\"Error_Lower\"] = pdf[\"Fraction\"] - pdf[\"CI_Lower\"]\n",
    "pdf[\"Error_Lower\"] = pdf[\"Error_Lower\"].apply(lambda x: 0 if x < 0 else x)\n",
    "pdf[\"Error_Upper\"] = pdf[\"CI_Upper\"] - pdf[\"Fraction\"]\n",
    "pdf[\"Error_Upper\"] = pdf[\"Error_Upper\"].apply(lambda x: 0 if x < 0 else x)"
   ],
   "metadata": {
    "collapsed": false
   },
   "id": "a2aed6cd81cf1fb0",
   "execution_count": null
  },
  {
   "cell_type": "markdown",
   "source": [
    "# Plotting"
   ],
   "metadata": {
    "collapsed": false
   },
   "id": "97f20a3cdcf6f99"
  },
  {
   "cell_type": "markdown",
   "source": [
    "## Plot function"
   ],
   "metadata": {
    "collapsed": false
   },
   "id": "806747f7f3a75ea9"
  },
  {
   "cell_type": "code",
   "outputs": [],
   "source": [
    "# Global configuration\n",
    "fig_path = Path(\"./20250804_single_scaffold_split\")\n",
    "fig_path.mkdir(parents=True, exist_ok=True)\n",
    "\n",
    "FIGNUM_GLOBAL = 0\n",
    "\n",
    "# def save_fig(fig, filename, dpi=200, suffix=\".pdf\"):\n",
    "#     \"\"\"Save the figure with a global figure number.\"\"\"\n",
    "#     global FIGNUM_GLOBAL\n",
    "#     FIGNUM_GLOBAL += 1\n",
    "#     figpath = Path(fig_path / f\"{filename}_{FIGNUM_GLOBAL:02d}\")\n",
    "#     fig.savefig(figpath.with_suffix(suffix), \n",
    "#                 bbox_inches=\"tight\", \n",
    "#                 dpi=dpi)\n",
    "\n",
    "def save_fig(fig, filename, dpi=200, suffix=\".pdf\"):\n",
    "    figpath = Path(fig_path / f\"{filename}\")\n",
    "    fig.savefig(figpath.with_suffix(suffix), \n",
    "                bbox_inches=\"tight\", \n",
    "                dpi=dpi)\n",
    "    \n",
    "\n",
    "sns.set_style(\"white\")\n",
    "label_map = {\n",
    "    \"Reference_Split\": \"Dataset Split Type\",\n",
    "    \"Score\": \"Scoring Method\",\n",
    "    \"RandomSplit\": \"Randomly Ordered\",\n",
    "    \"DateSplit\": \"Ordered by Date\",\n",
    "    \"RMSD\": \"RMSD (Positive Control)\",\n",
    "    \"POSIT_Probability\": \"POSIT Probability\",\n",
    "    \"ScaffoldDateSplit\": \"One Structure Per Scaffold\",\n",
    "    # \"N_Reference_Structures\": \"Number of Randomly Chosen Reference Structures\",\n",
    "    \"N_Reference_Structures\": \"Number of Reference Structures Available to Use \\n(Log Scale)\",\n",
    "    \"Fraction\": \"Fraction of Ligands Posed \\n<2Å from Reference\",\n",
    "    \"CI_Lower\": \"Confidence Interval Lower Bound\",\n",
    "    \"CI_Upper\": \"Confidence Interval Upper Bound\",\n",
    "    \"N_Refs_Per_Scaffold\": \"# Reference Structures Per Scaffold\",\n",
    "    \"Query_Scaffold\": \"Query Scaffold ID\"\n",
    "}\n",
    "for column in pdf.columns:\n",
    "    if not column in label_map:\n",
    "        label_map[column] = column\n",
    "        \n",
    "X_VAR = label_map[\"N_Reference_Structures\"]\n",
    "Y_VAR = label_map[\"Fraction\"]\n",
    "X_LABEL = label_map[\"N_Reference_Structures\"]\n",
    "Y_LABEL = label_map[\"Fraction\"]\n",
    "# QUERY_SCAFFOLD_ID = label_map[\"Query_Scaffold_ID_Subset_1\"]\n",
    "# REF_SCAFFOLD_ID = label_map[\"Reference_Scaffold_ID_Subset_1\"]\n",
    "COLOR_VAR = label_map[\"Reference_Split\"]\n",
    "STYLE_VAR = label_map[\"Score\"]\n",
    "CI_LOWER = label_map[\"CI_Lower\"]\n",
    "CI_UPPER = label_map[\"CI_Upper\"]\n",
    "LARGE_FIG_SIZE = (12, 8)\n",
    "SMALL_FIG_SIZE = (8, 6)\n",
    "FONT_SIZES = {\n",
    "    \"xlabel\": 24,\n",
    "    \"ylabel\": 24,\n",
    "    \"ticks\": 18,\n",
    "    \"legend_title\": 24,\n",
    "    \"legend_text\": 18,\n",
    "}\n",
    "ALPHA = 0.1\n",
    "n_refs = sorted(pdf[\"N_Reference_Structures\"].unique())"
   ],
   "metadata": {
    "collapsed": false
   },
   "id": "870644d5a2022c08",
   "execution_count": null
  },
  {
   "cell_type": "code",
   "outputs": [
    {
     "ename": "NameError",
     "evalue": "name 'X_VAR' is not defined",
     "output_type": "error",
     "traceback": [
      "\u001B[31m---------------------------------------------------------------------------\u001B[39m",
      "\u001B[31mNameError\u001B[39m                                 Traceback (most recent call last)",
      "\u001B[36mCell\u001B[39m\u001B[36m \u001B[39m\u001B[32mIn[1]\u001B[39m\u001B[32m, line 3\u001B[39m\n\u001B[32m      1\u001B[39m \u001B[38;5;28;01mdef\u001B[39;00m\u001B[38;5;250m \u001B[39m\u001B[34mplot_filled_in_error_bars\u001B[39m(\n\u001B[32m      2\u001B[39m     raw_df,\n\u001B[32m----> \u001B[39m\u001B[32m3\u001B[39m     x_var=\u001B[43mX_VAR\u001B[49m,\n\u001B[32m      4\u001B[39m     y_var=Y_VAR,\n\u001B[32m      5\u001B[39m     color_var=COLOR_VAR,\n\u001B[32m      6\u001B[39m     style_var=STYLE_VAR,\n\u001B[32m      7\u001B[39m     ci_lower=CI_LOWER,\n\u001B[32m      8\u001B[39m     ci_upper=CI_UPPER,\n\u001B[32m      9\u001B[39m     reverse_hue_order=\u001B[38;5;28;01mFalse\u001B[39;00m,\n\u001B[32m     10\u001B[39m     reverse_style_order=\u001B[38;5;28;01mFalse\u001B[39;00m,\n\u001B[32m     11\u001B[39m     n_refs= n_refs,\n\u001B[32m     12\u001B[39m     fill_between=\u001B[38;5;28;01mTrue\u001B[39;00m,\n\u001B[32m     13\u001B[39m         log_scale=\u001B[38;5;28;01mTrue\u001B[39;00m,\n\u001B[32m     14\u001B[39m     y_ticks=[\u001B[32m0.0\u001B[39m, \u001B[32m0.2\u001B[39m, \u001B[32m0.4\u001B[39m, \u001B[32m0.6\u001B[39m, \u001B[32m0.8\u001B[39m, \u001B[32m1.0\u001B[39m],\n\u001B[32m     15\u001B[39m ):\n\u001B[32m     16\u001B[39m     \u001B[38;5;66;03m# Sort the dataframe\u001B[39;00m\n\u001B[32m     17\u001B[39m     raw_df = raw_df.sort_values(by=[x_var, style_var, color_var])\n\u001B[32m     18\u001B[39m     plt.figure(figsize=(LARGE_FIG_SIZE[\u001B[32m0\u001B[39m], LARGE_FIG_SIZE[\u001B[32m1\u001B[39m]))\n",
      "\u001B[31mNameError\u001B[39m: name 'X_VAR' is not defined"
     ]
    }
   ],
   "source": [
    "def plot_filled_in_error_bars(\n",
    "    raw_df,\n",
    "    x_var=X_VAR,\n",
    "    y_var=Y_VAR,\n",
    "    color_var=COLOR_VAR,\n",
    "    style_var=STYLE_VAR,\n",
    "    ci_lower=CI_LOWER,\n",
    "    ci_upper=CI_UPPER,\n",
    "    reverse_hue_order=False,\n",
    "    reverse_style_order=False,\n",
    "    n_refs= n_refs,\n",
    "    fill_between=True,\n",
    "        log_scale=True,\n",
    "):\n",
    "    # Sort the dataframe\n",
    "    raw_df = raw_df.sort_values(by=[x_var, style_var, color_var])\n",
    "    plt.figure(figsize=(LARGE_FIG_SIZE[0], LARGE_FIG_SIZE[1]))\n",
    "    \n",
    "    # Define hue and style orders\n",
    "    hue_order = list(reversed(sorted(raw_df[color_var].unique()))) if reverse_hue_order else list(sorted(raw_df[color_var].unique()))\n",
    "    style_order = list(reversed(sorted(raw_df[style_var].unique()))) if reverse_style_order else list(sorted(raw_df[style_var].unique()))\n",
    "    \n",
    "    # Create color mapping\n",
    "    unique_colors = sns.color_palette(n_colors=len(raw_df[color_var].unique()))\n",
    "    color_map = dict(zip(hue_order, unique_colors))\n",
    "    \n",
    "    \n",
    "    \n",
    "    # Create the line plot\n",
    "    fig = sns.lineplot(\n",
    "        data=raw_df,\n",
    "        x=x_var,\n",
    "        y=y_var,\n",
    "        hue=color_var,\n",
    "        style=style_var,  # Keep style_var for line styles\n",
    "        palette=color_map,\n",
    "        hue_order=hue_order,\n",
    "        style_order= style_order,\n",
    "    )\n",
    "\n",
    "    if fill_between:\n",
    "        # Create fill between for each group using matched colors\n",
    "        for name, group in raw_df.groupby([color_var, style_var]):\n",
    "            color_name = name[0]  # First element is Score\n",
    "            fig.fill_between(\n",
    "                group[x_var],\n",
    "                group[ci_lower],\n",
    "                group[ci_upper],\n",
    "                color=color_map[color_name],\n",
    "                alpha=ALPHA,\n",
    "            )\n",
    "    \n",
    "    # Customize each subplot\n",
    "    if log_scale:\n",
    "        fig.set_xscale(\"log\")\n",
    "        fig.xaxis.set_major_formatter(ScalarFormatter())\n",
    "\n",
    "    custom_ticks = n_refs\n",
    "    fig.set_xticks(custom_ticks)\n",
    "    fig.set_xticklabels(custom_ticks, fontsize=FONT_SIZES[\"ticks\"])\n",
    "    fig.tick_params(axis='y', labelsize=FONT_SIZES[\"ticks\"])\n",
    "    \n",
    "    fig.set_yticks(y_ticks)\n",
    "    fig.set_yticklabels(y_ticks, fontsize=FONT_SIZES[\"ticks\"])\n",
    "\n",
    "    fig.set_xlabel(X_LABEL, fontsize=FONT_SIZES[\"xlabel\"], fontweight=\"bold\")\n",
    "    fig.set_ylabel(Y_LABEL, fontsize=FONT_SIZES[\"ylabel\"], fontweight=\"bold\")\n",
    "\n",
    "    # Customize legend\n",
    "    legend = fig.legend()\n",
    "    plt.setp(legend.get_title(), fontsize=FONT_SIZES[\"legend_title\"], fontweight=\"bold\")\n",
    "    plt.setp(legend.get_texts(), fontsize=FONT_SIZES[\"legend_text\"])\n",
    "    return plt"
   ],
   "metadata": {
    "collapsed": false,
    "ExecuteTime": {
     "end_time": "2025-08-11T20:07:33.771985Z",
     "start_time": "2025-08-11T20:07:33.449910Z"
    }
   },
   "id": "fb4eeee37066043c",
   "execution_count": 1
  },
  {
   "cell_type": "markdown",
   "source": [
    "## update labels"
   ],
   "metadata": {
    "collapsed": false
   },
   "id": "17ea019bc5774fd7"
  },
  {
   "cell_type": "code",
   "outputs": [],
   "source": [
    "df = pdf.copy()\n",
    "df = df.rename(columns=label_map)\n",
    "for column in df.columns:\n",
    "    df[column] = df[column].apply(lambda x: label_map.get(x, x))\n",
    "df.columns"
   ],
   "metadata": {
    "collapsed": false
   },
   "id": "3410702f8784b52c",
   "execution_count": null
  },
  {
   "cell_type": "code",
   "outputs": [],
   "source": [
    "plot_df = df[df[label_map[\"Reference_Split\"]] == label_map[\"DateSplit\"]]"
   ],
   "metadata": {
    "collapsed": false
   },
   "id": "e2bd02fb24ee744",
   "execution_count": null
  },
  {
   "cell_type": "code",
   "outputs": [],
   "source": [
    "fig = plot_filled_in_error_bars(plot_df, x_var=label_map[\"N_Reference_Structures\"], color_var=label_map[\"Query_Scaffold\"],fill_between=False)\n",
    "save_fig(fig, \"scaffolds_by_color\")"
   ],
   "metadata": {
    "collapsed": false
   },
   "id": "bc6b2543ac3cd90",
   "execution_count": null
  },
  {
   "cell_type": "code",
   "outputs": [],
   "source": [
    "for s in [1,2,3,4]:\n",
    "    plot_df = df[df[label_map[\"Query_Scaffold\"]] == f\"Scaffold {s}\"]\n",
    "    plot_df.sort_values([label_map[\"Reference_Split\"], label_map[\"Score\"], label_map[\"N_Reference_Structures\"]])\n",
    "    fig = plot_filled_in_error_bars(plot_df, x_var=label_map[\"N_Reference_Structures\"], color_var=label_map[\"Reference_Split\"], reverse_hue_order=True)\n",
    "    save_fig(fig, f\"date_split_by_scaffold_{s}\")    "
   ],
   "metadata": {
    "collapsed": false
   },
   "id": "a06cb696f97347cb",
   "execution_count": null
  },
  {
   "cell_type": "code",
   "outputs": [],
   "source": [],
   "metadata": {
    "collapsed": false
   },
   "id": "83af46a335a32fcb"
  }
 ],
 "metadata": {
  "kernelspec": {
   "display_name": "Python 3",
   "language": "python",
   "name": "python3"
  },
  "language_info": {
   "codemirror_mode": {
    "name": "ipython",
    "version": 2
   },
   "file_extension": ".py",
   "mimetype": "text/x-python",
   "name": "python",
   "nbconvert_exporter": "python",
   "pygments_lexer": "ipython2",
   "version": "2.7.6"
  }
 },
 "nbformat": 4,
 "nbformat_minor": 5
}
