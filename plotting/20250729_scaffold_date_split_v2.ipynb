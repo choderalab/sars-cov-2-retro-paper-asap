{
 "cells": [
  {
   "cell_type": "markdown",
   "source": [
    "# Imports"
   ],
   "metadata": {
    "collapsed": false
   },
   "id": "a3c48639e79eeea2"
  },
  {
   "cell_type": "code",
   "outputs": [],
   "source": [
    "import matplotlib.pyplot as plt\n",
    "import numpy as np\n",
    "from matplotlib.ticker import ScalarFormatter\n",
    "import seaborn as sns\n",
    "import pandas as pd\n",
    "from pathlib import Path\n",
    "import json"
   ],
   "metadata": {
    "collapsed": false
   },
   "id": "f53a1a255defd0bc",
   "execution_count": null
  },
  {
   "cell_type": "markdown",
   "source": [
    "# Load Data"
   ],
   "metadata": {
    "collapsed": false
   },
   "id": "f91ca6b79e75d53d"
  },
  {
   "cell_type": "code",
   "outputs": [],
   "source": [
    "posit_results = Path(\"/Users/alexpayne/Scientific_Projects/mers-drug-discovery/sars2-retrospective-analysis/full_cross_dock_v2_analyzed_results/posit_scaffold_date_split_combined_results.csv\")\n",
    "pdf = pd.read_csv(posit_results)\n",
    "pdf[\"Error_Lower\"] = pdf[\"Fraction\"] - pdf[\"CI_Lower\"]\n",
    "pdf[\"Error_Lower\"] = pdf[\"Error_Lower\"].apply(lambda x: 0 if x < 0 else x)\n",
    "pdf[\"Error_Upper\"] = pdf[\"CI_Upper\"] - pdf[\"Fraction\"]\n",
    "pdf[\"Error_Upper\"] = pdf[\"Error_Upper\"].apply(lambda x: 0 if x < 0 else x)"
   ],
   "metadata": {
    "collapsed": false
   },
   "id": "5b4775a3bc9ae3de",
   "execution_count": null
  },
  {
   "cell_type": "code",
   "outputs": [],
   "source": [
    "pdf"
   ],
   "metadata": {
    "collapsed": false
   },
   "id": "2b340c43b9abae2f",
   "execution_count": null
  },
  {
   "cell_type": "markdown",
   "source": [
    "# Plotting"
   ],
   "metadata": {
    "collapsed": false
   },
   "id": "1cfc68ce4fe0a68b"
  },
  {
   "cell_type": "markdown",
   "source": [
    "## Plot function"
   ],
   "metadata": {
    "collapsed": false
   },
   "id": "1c926b993d0b8d86"
  },
  {
   "cell_type": "code",
   "outputs": [],
   "source": [
    "# Global configuration\n",
    "fig_path = Path(\"./20250729_scaffold_date_split_v2\")\n",
    "fig_path.mkdir(parents=True, exist_ok=True)\n",
    "\n",
    "FIGNUM_GLOBAL = 0\n",
    "\n",
    "# def save_fig(fig, filename, dpi=200, suffix=\".pdf\"):\n",
    "#     \"\"\"Save the figure with a global figure number.\"\"\"\n",
    "#     global FIGNUM_GLOBAL\n",
    "#     FIGNUM_GLOBAL += 1\n",
    "#     figpath = Path(fig_path / f\"{filename}_{FIGNUM_GLOBAL:02d}\")\n",
    "#     fig.savefig(figpath.with_suffix(suffix), \n",
    "#                 bbox_inches=\"tight\", \n",
    "#                 dpi=dpi)\n",
    "\n",
    "def save_fig(fig, filename, dpi=200, suffix=\".pdf\"):\n",
    "    figpath = Path(fig_path / f\"{filename}\")\n",
    "    fig.savefig(figpath.with_suffix(suffix), \n",
    "                bbox_inches=\"tight\", \n",
    "                dpi=dpi)\n",
    "    \n",
    "\n",
    "sns.set_style(\"white\")\n",
    "label_map = {\n",
    "    \"Reference_Split\": \"Dataset Split Type\",\n",
    "    \"Score\": \"Scoring Method\",\n",
    "    \"RandomSplit\": \"Randomly Ordered\",\n",
    "    \"DateSplit\": \"Ordered by Date\",\n",
    "    \"RMSD\": \"RMSD (Positive Control)\",\n",
    "    \"POSIT_Probability\": \"POSIT Probability\",\n",
    "    \"ScaffoldDateSplit\": \"One Structure Per Scaffold\",\n",
    "    # \"N_Reference_Structures\": \"Number of Randomly Chosen Reference Structures\",\n",
    "    \"N_Reference_Structures\": \"Number of Reference Structures Available to Use \\n(Log Scale)\",\n",
    "    \"Fraction\": \"Fraction of Ligands Posed \\n<2Å from Reference\",\n",
    "    \"CI_Lower\": \"Confidence Interval Lower Bound\",\n",
    "    \"CI_Upper\": \"Confidence Interval Upper Bound\",\n",
    "    \"N_Refs_Per_Scaffold\": \"# Reference Structures Per Scaffold\",\n",
    "}\n",
    "for column in pdf.columns:\n",
    "    if not column in label_map:\n",
    "        label_map[column] = column\n",
    "        \n",
    "X_VAR = label_map[\"N_Reference_Structures\"]\n",
    "Y_VAR = label_map[\"Fraction\"]\n",
    "X_LABEL = label_map[\"N_Reference_Structures\"]\n",
    "Y_LABEL = label_map[\"Fraction\"]\n",
    "# QUERY_SCAFFOLD_ID = label_map[\"Query_Scaffold_ID_Subset_1\"]\n",
    "# REF_SCAFFOLD_ID = label_map[\"Reference_Scaffold_ID_Subset_1\"]\n",
    "COLOR_VAR = label_map[\"Reference_Split\"]\n",
    "STYLE_VAR = label_map[\"Score\"]\n",
    "CI_LOWER = label_map[\"CI_Lower\"]\n",
    "CI_UPPER = label_map[\"CI_Upper\"]\n",
    "LARGE_FIG_SIZE = (12, 8)\n",
    "SMALL_FIG_SIZE = (8, 6)\n",
    "FONT_SIZES = {\n",
    "    \"xlabel\": 24,\n",
    "    \"ylabel\": 24,\n",
    "    \"ticks\": 18,\n",
    "    \"legend_title\": 24,\n",
    "    \"legend_text\": 18,\n",
    "}\n",
    "ALPHA = 0.1\n",
    "n_refs = sorted(pdf[\"N_Reference_Structures\"].unique())"
   ],
   "metadata": {
    "collapsed": false
   },
   "id": "8bd6ea4a74b7e6b4",
   "execution_count": null
  },
  {
   "cell_type": "code",
   "outputs": [],
   "source": [
    "def plot_filled_in_error_bars(\n",
    "    raw_df,\n",
    "    x_var=X_VAR,\n",
    "    y_var=Y_VAR,\n",
    "    color_var=COLOR_VAR,\n",
    "    style_var=STYLE_VAR,\n",
    "    ci_lower=CI_LOWER,\n",
    "    ci_upper=CI_UPPER,\n",
    "    reverse_hue_order=False,\n",
    "    reverse_style_order=False,\n",
    "    n_refs= n_refs,\n",
    "    fill_between=True,\n",
    "        log_scale=True,\n",
    "):\n",
    "    # Sort the dataframe\n",
    "    raw_df = raw_df.sort_values(by=[x_var, style_var, color_var])\n",
    "    plt.figure(figsize=(LARGE_FIG_SIZE[0], LARGE_FIG_SIZE[1]))\n",
    "    \n",
    "    # Define hue and style orders\n",
    "    hue_order = list(reversed(sorted(raw_df[color_var].unique()))) if reverse_hue_order else list(sorted(raw_df[color_var].unique()))\n",
    "    style_order = list(reversed(sorted(raw_df[style_var].unique()))) if reverse_style_order else list(sorted(raw_df[style_var].unique()))\n",
    "    \n",
    "    # Create color mapping\n",
    "    unique_colors = sns.color_palette(n_colors=len(raw_df[color_var].unique()))\n",
    "    color_map = dict(zip(hue_order, unique_colors))\n",
    "    \n",
    "    \n",
    "    \n",
    "    # Create the line plot\n",
    "    fig = sns.lineplot(\n",
    "        data=raw_df,\n",
    "        x=x_var,\n",
    "        y=y_var,\n",
    "        hue=color_var,\n",
    "        style=style_var,  # Keep style_var for line styles\n",
    "        palette=color_map,\n",
    "        hue_order=hue_order,\n",
    "        style_order= style_order,\n",
    "    )\n",
    "\n",
    "    if fill_between:\n",
    "        # Create fill between for each group using matched colors\n",
    "        for name, group in raw_df.groupby([color_var, style_var]):\n",
    "            color_name = name[0]  # First element is Score\n",
    "            fig.fill_between(\n",
    "                group[x_var],\n",
    "                group[ci_lower],\n",
    "                group[ci_upper],\n",
    "                color=color_map[color_name],\n",
    "                alpha=ALPHA,\n",
    "            )\n",
    "    \n",
    "    # Customize each subplot\n",
    "    if log_scale:\n",
    "        fig.set_xscale(\"log\")\n",
    "        fig.xaxis.set_major_formatter(ScalarFormatter())\n",
    "\n",
    "    custom_ticks = n_refs\n",
    "    fig.set_xticks(custom_ticks)\n",
    "    fig.set_xticklabels(custom_ticks, fontsize=FONT_SIZES[\"ticks\"])\n",
    "    fig.tick_params(axis='y', labelsize=FONT_SIZES[\"ticks\"])\n",
    "\n",
    "    fig.set_xlabel(X_LABEL, fontsize=FONT_SIZES[\"xlabel\"], fontweight=\"bold\")\n",
    "    fig.set_ylabel(Y_LABEL, fontsize=FONT_SIZES[\"ylabel\"], fontweight=\"bold\")\n",
    "\n",
    "    # Customize legend\n",
    "    legend = fig.legend()\n",
    "    plt.setp(legend.get_title(), fontsize=FONT_SIZES[\"legend_title\"], fontweight=\"bold\")\n",
    "    plt.setp(legend.get_texts(), fontsize=FONT_SIZES[\"legend_text\"])\n",
    "    return plt"
   ],
   "metadata": {
    "collapsed": false
   },
   "id": "3a3adea55215b893",
   "execution_count": null
  },
  {
   "cell_type": "markdown",
   "source": [
    "## update labels"
   ],
   "metadata": {
    "collapsed": false
   },
   "id": "72112345c0facc6b"
  },
  {
   "cell_type": "code",
   "outputs": [],
   "source": [
    "df = pdf.copy()\n",
    "df = df.rename(columns=label_map)\n",
    "for column in df.columns:\n",
    "    df[column] = df[column].apply(lambda x: label_map.get(x, x))\n",
    "df.columns"
   ],
   "metadata": {
    "collapsed": false
   },
   "id": "87659fd27ce762a3",
   "execution_count": null
  },
  {
   "cell_type": "code",
   "outputs": [],
   "source": [
    "# if ScaffoldDateSplit, only include if n_refs_per_scaffold is 1\n",
    "plot_df = df[(df[label_map['Reference_Split']] != 'One Structure Per Scaffold') | (df[label_map['N_Refs_Per_Scaffold']] == 1)]"
   ],
   "metadata": {
    "collapsed": false
   },
   "id": "6decfa3120c7e486",
   "execution_count": null
  },
  {
   "cell_type": "code",
   "outputs": [],
   "source": [
    "fig = plot_filled_in_error_bars(plot_df, \n",
    "                                    x_var=label_map['N_Reference_Structures'], \n",
    "                                    y_var=label_map['Fraction'], \n",
    "                                    color_var=label_map['Reference_Split'], \n",
    "                                    style_var=label_map['Score'], \n",
    "                                    ci_lower=label_map['CI_Lower'], \n",
    "                                    ci_upper=label_map['CI_Upper'],\n",
    "                                    reverse_hue_order=True,\n",
    "                                    )\n",
    "save_fig(fig, \"scaffold_date_split_results\")\n",
    "save_fig(fig, \"scaffold_date_split_results\", suffix=\".png\", dpi=300)"
   ],
   "metadata": {
    "collapsed": false
   },
   "id": "590997c41d1294c7",
   "execution_count": null
  },
  {
   "cell_type": "code",
   "outputs": [],
   "source": [
    "# only include the ordered by date + POSIT result and both results for One Structure Per Scaffold\n",
    "simplified_df = df[(df[label_map['Reference_Split']].isin(['Ordered by Date', 'One Structure Per Scaffold'])) & \n",
    "                    (df[label_map['Score']].isin(['POSIT Probability', 'RMSD (Positive Control)']))]\n",
    "\n",
    "fig = plot_filled_in_error_bars(simplified_df, \n",
    "                                    x_var=label_map['N_Reference_Structures'], \n",
    "                                    y_var=label_map['Fraction'], \n",
    "                                    color_var=label_map['Reference_Split'], \n",
    "                                    style_var=label_map['Score'], \n",
    "                                    ci_lower=label_map['CI_Lower'], \n",
    "                                    ci_upper=label_map['CI_Upper'],\n",
    "                                    reverse_hue_order=True,\n",
    "                                    )\n",
    "save_fig(fig, \"scaffold_date_split_results_simple\")\n",
    "save_fig(fig, \"scaffold_date_split_results_simple\", suffix=\".png\", dpi=300)"
   ],
   "metadata": {
    "collapsed": false
   },
   "id": "f9d2c31a85a19704",
   "execution_count": null
  },
  {
   "cell_type": "code",
   "outputs": [],
   "source": [
    "# only include the ordered by date + POSIT result and both results for One Structure Per Scaffold\n",
    "simplified_df = df[(df[label_map['Reference_Split']].isin(['Ordered by Date', 'One Structure Per Scaffold'])) & \n",
    "                    (df[label_map['Score']].isin(['POSIT Probability', 'RMSD (Positive Control)']))]\n",
    "for n in simplified_df[label_map['N_Refs_Per_Scaffold']].unique():\n",
    "    plot_df = simplified_df[(simplified_df[label_map['Reference_Split']] != 'One Structure Per Scaffold') | (simplified_df[label_map['N_Refs_Per_Scaffold']] == n)]\n",
    "    \n",
    "    fig = plot_filled_in_error_bars(plot_df, \n",
    "                                        x_var=label_map['N_Reference_Structures'], \n",
    "                                        y_var=label_map['Fraction'], \n",
    "                                        color_var=label_map['Reference_Split'], \n",
    "                                        style_var=label_map['Score'], \n",
    "                                        ci_lower=label_map['CI_Lower'], \n",
    "                                        ci_upper=label_map['CI_Upper'],\n",
    "                                        reverse_hue_order=True,\n",
    "                                        )\n",
    "    name = f\"scaffold_date_split_results_simple_{n}_refs_per_scaffold\"\n",
    "    save_fig(fig, name)\n",
    "    save_fig(fig, name, suffix=\".png\", dpi=300)"
   ],
   "metadata": {
    "collapsed": false
   },
   "id": "110f90fc4cc181a6",
   "execution_count": null
  },
  {
   "cell_type": "markdown",
   "source": [
    "# Color by N Refs Per Scaffold"
   ],
   "metadata": {
    "collapsed": false
   },
   "id": "1c5659ca974e11e5"
  },
  {
   "cell_type": "code",
   "outputs": [],
   "source": [
    "# only include the ordered by date + POSIT result and both results for One Structure Per Scaffold\n",
    "plot_df = df[(df[label_map['Reference_Split']] == 'One Structure Per Scaffold')&(df[label_map['N_Refs_Per_Scaffold']] > 0)]\n",
    "\n",
    "fig = plot_filled_in_error_bars(plot_df, \n",
    "                                    x_var=label_map['N_Reference_Structures'], \n",
    "                                    y_var=label_map['Fraction'], \n",
    "                                    color_var=label_map['N_Refs_Per_Scaffold'], \n",
    "                                    style_var=label_map['Score'], \n",
    "                                    ci_lower=label_map['CI_Lower'], \n",
    "                                    ci_upper=label_map['CI_Upper'],\n",
    "                                    reverse_hue_order=True,\n",
    "                                fill_between=False,\n",
    "                                    )\n",
    "name = f\"scaffold_date_split_results_n_refs_per_scaffold_colorised\"\n",
    "save_fig(fig, name)\n",
    "save_fig(fig, name, suffix=\".png\", dpi=300)"
   ],
   "metadata": {
    "collapsed": false
   },
   "id": "390ad8d8b736d612",
   "execution_count": null
  },
  {
   "cell_type": "code",
   "outputs": [],
   "source": [],
   "metadata": {
    "collapsed": false
   },
   "id": "9f0d355170b5819d",
   "execution_count": null
  },
  {
   "cell_type": "code",
   "outputs": [],
   "source": [],
   "metadata": {
    "collapsed": false
   },
   "id": "986e7f2788ad21a0",
   "execution_count": null
  },
  {
   "cell_type": "markdown",
   "source": [
    "# Plot on linear scale"
   ],
   "metadata": {
    "collapsed": false
   },
   "id": "9adeb52b8a9c8262"
  },
  {
   "cell_type": "code",
   "outputs": [],
   "source": [
    "# if ScaffoldDateSplit, only include if n_refs_per_scaffold is 1\n",
    "plot_df = df[(df[label_map['Reference_Split']].isin(['Ordered by Date', 'One Structure Per Scaffold'])) & \n",
    "                    (df[label_map['Score']].isin(['POSIT Probability', 'RMSD (Positive Control)']))]\n",
    "plot_df = plot_df[(plot_df[label_map['Reference_Split']] != 'One Structure Per Scaffold') | (plot_df[label_map['N_Refs_Per_Scaffold']] == 1)]"
   ],
   "metadata": {
    "collapsed": false
   },
   "id": "feb8539cc17b9b82",
   "execution_count": null
  },
  {
   "cell_type": "code",
   "outputs": [],
   "source": [
    "fig = plot_filled_in_error_bars(plot_df, \n",
    "                                    x_var=label_map['N_Reference_Structures'], \n",
    "                                    y_var=label_map['Fraction'], \n",
    "                                    color_var=label_map['Reference_Split'], \n",
    "                                    style_var=label_map['Score'], \n",
    "                                    ci_lower=label_map['CI_Lower'], \n",
    "                                    ci_upper=label_map['CI_Upper'],\n",
    "                                    reverse_hue_order=True,\n",
    "                                log_scale=False,\n",
    "                                n_refs=[1, 50, 100, 137, 200, 300, 403]\n",
    "                                    )\n",
    "save_fig(fig, \"scaffold_date_split_results_linear\")\n",
    "save_fig(fig, \"scaffold_date_split_results_linear\", suffix=\".png\", dpi=300)"
   ],
   "metadata": {
    "collapsed": false
   },
   "id": "575d5abe1461728b",
   "execution_count": null
  },
  {
   "cell_type": "code",
   "outputs": [],
   "source": [],
   "metadata": {
    "collapsed": false
   },
   "id": "c9dc7b44321097cd",
   "execution_count": null
  }
 ],
 "metadata": {
  "kernelspec": {
   "display_name": "Python 3",
   "language": "python",
   "name": "python3"
  },
  "language_info": {
   "codemirror_mode": {
    "name": "ipython",
    "version": 2
   },
   "file_extension": ".py",
   "mimetype": "text/x-python",
   "name": "python",
   "nbconvert_exporter": "python",
   "pygments_lexer": "ipython2",
   "version": "2.7.6"
  }
 },
 "nbformat": 4,
 "nbformat_minor": 5
}
