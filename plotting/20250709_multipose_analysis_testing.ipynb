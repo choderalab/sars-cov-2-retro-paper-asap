{
 "cells": [
  {
   "cell_type": "markdown",
   "source": [
    "# Imports"
   ],
   "metadata": {
    "collapsed": false
   },
   "id": "bfcfc3b729d986"
  },
  {
   "cell_type": "code",
   "outputs": [],
   "source": [
    "import pandas as pd\n",
    "import json\n",
    "from datetime import datetime\n",
    "import plotly.express as px\n",
    "from pathlib import Path\n",
    "import sys\n",
    "from matplotlib.pyplot import ScalarFormatter\n",
    "from asapdiscovery.data.readers.molfile import MolFileFactory\n",
    "from harbor.analysis.cross_docking import DockingDataModel\n",
    "import harbor.analysis.cross_docking as cd\n",
    "import seaborn as sns\n",
    "from matplotlib import pyplot as plt"
   ],
   "metadata": {
    "collapsed": false
   },
   "id": "53d71c219be8ceeb",
   "execution_count": null
  },
  {
   "cell_type": "code",
   "outputs": [],
   "source": [
    "data = cd.DockingDataModel.deserialize(\"/Users/alexpayne/Scientific_Projects/mers-drug-discovery/sars2-retrospective-analysis/full_cross_dock_v2_combined_results/ALL_50_poses.parquet\")"
   ],
   "metadata": {
    "collapsed": false
   },
   "id": "78a4459bd86e1ce6",
   "execution_count": null
  },
  {
   "cell_type": "markdown",
   "source": [
    "# Run analysis"
   ],
   "metadata": {
    "collapsed": false
   },
   "id": "936f70d73942520c"
  },
  {
   "cell_type": "code",
   "outputs": [],
   "source": [
    "from importlib import reload\n",
    "reload(cd)\n",
    "# n_refs = cd.generate_logarithmic_scale(len(refs_to_use))\n",
    "evs = []\n",
    "ref_structure_column = \"Reference_Structure\"\n",
    "scorers = [cd.POSITScorer(variable='PoseData_docking-confidence-POSIT'),\n",
    "           cd.RMSDScorer(variable='PoseData_RMSD', cutoff=2),]\n",
    "dataset_splits = [cd.DateSplit(date_column=\"RefData_Date\",\n",
    "                               randomize_by_n_days=1,\n",
    "                               reference_structure_column=ref_structure_column),\n",
    "                  cd.RandomSplit(reference_structure_column=ref_structure_column,)]  "
   ],
   "metadata": {
    "collapsed": false
   },
   "id": "d742397f076478d1",
   "execution_count": null
  },
  {
   "cell_type": "code",
   "outputs": [],
   "source": [
    "n_refs = cd.generate_logarithmic_scale(403, )"
   ],
   "metadata": {
    "collapsed": false
   },
   "id": "14c5d2a368040536",
   "execution_count": null
  },
  {
   "cell_type": "code",
   "outputs": [],
   "source": [
    "n_refs"
   ],
   "metadata": {
    "collapsed": false
   },
   "id": "50051144bf757a5a",
   "execution_count": null
  },
  {
   "cell_type": "code",
   "outputs": [],
   "source": [
    "# for scorer in scorers:\n",
    "#     for dataset_split in dataset_splits:\n",
    "#         for n in n_refs:\n",
    "#             ev = cd.Evaluator(\n",
    "#                           scorer=scorer,\n",
    "#                           evaluator=cd.BinaryEvaluation(variable=\"PoseData_RMSD\", cutoff=2),\n",
    "#                 n_bootstraps=1,)\n",
    "#             ev.dataset_split = dataset_split\n",
    "#             ev.dataset_split.n_reference_structures = n\n",
    "#             evs.append(ev)  "
   ],
   "metadata": {
    "collapsed": false
   },
   "id": "fa2b5d10b75186c5",
   "execution_count": null
  },
  {
   "cell_type": "code",
   "outputs": [],
   "source": [
    "# results = cd.Results.calculate_results(data, evs)"
   ],
   "metadata": {
    "collapsed": false
   },
   "id": "4e6701ff00e9d222",
   "execution_count": null
  },
  {
   "cell_type": "markdown",
   "source": [
    "# Try just one pose comparison"
   ],
   "metadata": {
    "collapsed": false
   },
   "id": "37e4d7ac5ba9697c"
  },
  {
   "cell_type": "code",
   "outputs": [],
   "source": [
    "reload(cd)\n",
    "evs = []\n",
    "for n_poses in [1, 25, 50]:\n",
    "    for n_ref in n_refs:\n",
    "        ev = cd.Evaluator(\n",
    "            pose_selector = cd.PoseSelector(name=\"PoseSelector\", variable=\"Pose_ID\", number_to_return=n_poses),\n",
    "            dataset_split = cd.DateSplit(\n",
    "                date_column=\"RefData_Date\",\n",
    "                randomize_by_n_days=1,\n",
    "                reference_structure_column=ref_structure_column,\n",
    "            ),\n",
    "            scorer=cd.RMSDScorer(variable='PoseData_RMSD', cutoff=2),\n",
    "            evaluator=cd.BinaryEvaluation(variable=\"PoseData_RMSD\", cutoff=2),\n",
    "            n_bootstraps=1,\n",
    "        )\n",
    "        ev.dataset_split.n_reference_structures = n_ref\n",
    "        evs.append(ev)"
   ],
   "metadata": {
    "collapsed": false
   },
   "id": "3579b20c606299aa",
   "execution_count": null
  },
  {
   "cell_type": "code",
   "outputs": [],
   "source": [
    "evs[0]"
   ],
   "metadata": {
    "collapsed": false
   },
   "id": "f3b50f6823245552",
   "execution_count": null
  },
  {
   "cell_type": "code",
   "outputs": [],
   "source": [
    "evs[0].to_json_file(\"test_evaluator.json\")"
   ],
   "metadata": {
    "collapsed": false
   },
   "id": "e18415cc2935662d",
   "execution_count": null
  },
  {
   "cell_type": "code",
   "outputs": [],
   "source": [],
   "metadata": {
    "collapsed": false
   },
   "id": "e8919ba02754bda2",
   "execution_count": null
  },
  {
   "cell_type": "code",
   "outputs": [],
   "source": [
    "bytes_to_gigabytes_factor = 1024 ** 3"
   ],
   "metadata": {
    "collapsed": false
   },
   "id": "cd7b733969edb119",
   "execution_count": null
  },
  {
   "cell_type": "code",
   "outputs": [
    {
     "name": "stdout",
     "output_type": "stream",
     "text": [
      "Data size: 3.130316970869899 GB\n"
     ]
    }
   ],
   "source": [
    "print(f\"Data size: {sys.getsizeof(data.dataframe) / bytes_to_gigabytes_factor} GB\")"
   ],
   "metadata": {
    "collapsed": false,
    "ExecuteTime": {
     "end_time": "2025-07-21T19:23:02.694105Z",
     "start_time": "2025-07-21T19:22:57.321591Z"
    }
   },
   "id": "a63584649e59a575",
   "execution_count": 13
  },
  {
   "cell_type": "code",
   "outputs": [
    {
     "name": "stderr",
     "output_type": "stream",
     "text": [
      "100%|██████████| 27/27 [04:44<00:00, 10.52s/it]\n"
     ]
    }
   ],
   "source": [
    "results = cd.Results.calculate_results(data, evs)"
   ],
   "metadata": {
    "collapsed": false,
    "ExecuteTime": {
     "end_time": "2025-07-21T19:28:44.299406Z",
     "start_time": "2025-07-21T19:23:02.697101Z"
    }
   },
   "id": "ed29d74df35c507a",
   "execution_count": 14
  },
  {
   "cell_type": "code",
   "outputs": [],
   "source": [
    "results_df = cd.Results.df_from_results(results)"
   ],
   "metadata": {
    "collapsed": false,
    "ExecuteTime": {
     "end_time": "2025-07-21T19:28:44.534470Z",
     "start_time": "2025-07-21T19:28:44.333596Z"
    }
   },
   "id": "83876ab8476e5485",
   "execution_count": 15
  },
  {
   "cell_type": "code",
   "outputs": [
    {
     "data": {
      "text/plain": "[<matplotlib.axis.XTick at 0x165b328d0>,\n <matplotlib.axis.XTick at 0x165b41210>,\n <matplotlib.axis.XTick at 0x165b3f190>,\n <matplotlib.axis.XTick at 0x165b3cb10>,\n <matplotlib.axis.XTick at 0x165b3c410>,\n <matplotlib.axis.XTick at 0x165b83fd0>,\n <matplotlib.axis.XTick at 0x165b3e590>,\n <matplotlib.axis.XTick at 0x165b8b990>,\n <matplotlib.axis.XTick at 0x165b91fd0>]"
     },
     "execution_count": 16,
     "metadata": {},
     "output_type": "execute_result"
    },
    {
     "data": {
      "text/plain": "<Figure size 640x480 with 1 Axes>",
      "image/png": "[encoded data removed]"
     },
     "metadata": {},
     "output_type": "display_data"
    }
   ],
   "source": [
    "fig = sns.scatterplot(data=results_df, \n",
    "                     x=\"N_Reference_Structures\", \n",
    "                     y=\"Fraction\", \n",
    "                     hue=\"PoseSelection_Choose_N\",\n",
    "                     )\n",
    "# Customize each subplot\n",
    "fig.set_xscale(\"log\")\n",
    "fig.xaxis.set_major_formatter(ScalarFormatter())\n",
    "\n",
    "custom_ticks = n_refs\n",
    "fig.set_xticks(custom_ticks)"
   ],
   "metadata": {
    "collapsed": false,
    "ExecuteTime": {
     "end_time": "2025-07-21T19:28:45.236096Z",
     "start_time": "2025-07-21T19:28:44.539554Z"
    }
   },
   "id": "1f9b330138992083",
   "execution_count": 16
  },
  {
   "cell_type": "code",
   "outputs": [],
   "source": [
    "reload(cd)\n",
    "evs = []\n",
    "for n_poses in [50]:\n",
    "    for n_ref in [403]:\n",
    "        ev = cd.Evaluator(\n",
    "            pose_selector = cd.PoseSelector(name=\"PoseSelector\", variable=\"Pose_ID\", number_to_return=n_poses),\n",
    "            dataset_split = cd.DateSplit(\n",
    "                date_column=\"RefData_Date\",\n",
    "                randomize_by_n_days=1,\n",
    "                reference_structure_column=ref_structure_column,\n",
    "            ),\n",
    "            scorer=cd.RMSDScorer(variable='PoseData_RMSD', cutoff=2),\n",
    "            evaluator=cd.BinaryEvaluation(variable=\"PoseData_RMSD\", cutoff=2),\n",
    "            n_bootstraps=100,\n",
    "        )\n",
    "        ev.dataset_split.n_reference_structures = n_ref\n",
    "        evs.append(ev)"
   ],
   "metadata": {
    "collapsed": false,
    "ExecuteTime": {
     "end_time": "2025-07-21T19:28:45.316129Z",
     "start_time": "2025-07-21T19:28:45.239757Z"
    }
   },
   "id": "9e12979b63703f9a",
   "execution_count": 17
  },
  {
   "cell_type": "code",
   "outputs": [
    {
     "data": {
      "text/plain": "'test_evaluator.json'"
     },
     "execution_count": 18,
     "metadata": {},
     "output_type": "execute_result"
    }
   ],
   "source": [
    "evs[0].to_json_file(\"test_evaluator.json\")"
   ],
   "metadata": {
    "collapsed": false,
    "ExecuteTime": {
     "end_time": "2025-07-21T19:28:45.331178Z",
     "start_time": "2025-07-21T19:28:45.317577Z"
    }
   },
   "id": "c6fa973e94e0afb8",
   "execution_count": 18
  },
  {
   "cell_type": "code",
   "outputs": [],
   "source": [],
   "metadata": {
    "collapsed": false,
    "ExecuteTime": {
     "end_time": "2025-07-21T19:28:45.335575Z",
     "start_time": "2025-07-21T19:28:45.333195Z"
    }
   },
   "id": "eda63508ba816f91",
   "execution_count": 18
  }
 ],
 "metadata": {
  "kernelspec": {
   "display_name": "Python 3",
   "language": "python",
   "name": "python3"
  },
  "language_info": {
   "codemirror_mode": {
    "name": "ipython",
    "version": 2
   },
   "file_extension": ".py",
   "mimetype": "text/x-python",
   "name": "python",
   "nbconvert_exporter": "python",
   "pygments_lexer": "ipython2",
   "version": "2.7.6"
  }
 },
 "nbformat": 4,
 "nbformat_minor": 5
}
