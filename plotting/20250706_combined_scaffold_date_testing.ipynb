{
 "cells": [
  {
   "cell_type": "code",
   "outputs": [],
   "source": [
    "import pandas as pd\n",
    "import json\n",
    "from datetime import datetime\n",
    "import plotly.express as px\n",
    "from pathlib import Path\n",
    "from matplotlib.pyplot import ScalarFormatter\n",
    "from asapdiscovery.data.readers.molfile import MolFileFactory\n",
    "from harbor.analysis.cross_docking import DockingDataModel\n",
    "import seaborn as sns\n",
    "from matplotlib import pyplot as plt"
   ],
   "metadata": {
    "collapsed": false
   },
   "id": "d6fa860f4ce4a156",
   "execution_count": null
  },
  {
   "cell_type": "code",
   "outputs": [],
   "source": [
    "data = DockingDataModel.deserialize(\"/Users/alexpayne/Scientific_Projects/mers-drug-discovery/sars2-retrospective-analysis/full_cross_dock_v2_combined_results/ALL_1_poses.parquet\")"
   ],
   "metadata": {
    "collapsed": false
   },
   "id": "6f541b501476ca52",
   "execution_count": null
  },
  {
   "cell_type": "code",
   "outputs": [],
   "source": [
    "ligand_data = pd.read_csv(\"ligand_scaffold_data.csv\") # generated in 20250703_scaffolds_over_time.ipynb"
   ],
   "metadata": {
    "collapsed": false
   },
   "id": "b2f7806e80754dd9",
   "execution_count": null
  },
  {
   "cell_type": "code",
   "outputs": [],
   "source": [
    "scaff_data = ligand_data.groupby(\"scaffold_orig_id\").head(1)[[\"scaffold_orig_id\", \"scaffold_smarts\", \"scaffold_count\", \"scaffold_first_date\"]]\n",
    "scaff_data[\"scaffold_first_date\"] = pd.to_datetime(scaff_data[\"scaffold_first_date\"])"
   ],
   "metadata": {
    "collapsed": false
   },
   "id": "1fa6ce6fd740280b",
   "execution_count": null
  },
  {
   "cell_type": "code",
   "outputs": [],
   "source": [
    "scaff_data"
   ],
   "metadata": {
    "collapsed": false
   },
   "id": "33187cddac9f2d9c",
   "execution_count": null
  },
  {
   "cell_type": "markdown",
   "source": [
    "Need to make an algorithm that\n",
    "1. only docks molecules to structures collected before it was collected\n",
    "2. only uses the first structure collect for each scaffold"
   ],
   "metadata": {
    "collapsed": false
   },
   "id": "59303da26a1b515c"
  },
  {
   "cell_type": "code",
   "outputs": [],
   "source": [
    "scaff_ids = scaff_data[\"scaffold_orig_id\"].tolist()"
   ],
   "metadata": {
    "collapsed": false
   },
   "id": "141132f9dd85dd3d",
   "execution_count": null
  },
  {
   "cell_type": "code",
   "outputs": [],
   "source": [
    "from itertools import product"
   ],
   "metadata": {
    "collapsed": false
   },
   "id": "acb516f90526c560",
   "execution_count": null
  },
  {
   "cell_type": "code",
   "outputs": [],
   "source": [
    "pairs = [(query, ref) for query, ref in product(scaff_ids, scaff_ids)]"
   ],
   "metadata": {
    "collapsed": false
   },
   "id": "73ce56d37fad9ffd",
   "execution_count": null
  },
  {
   "cell_type": "code",
   "outputs": [],
   "source": [
    "len(pairs)"
   ],
   "metadata": {
    "collapsed": false
   },
   "id": "f60794af1c05bbe7",
   "execution_count": null
  },
  {
   "cell_type": "code",
   "outputs": [],
   "source": [
    "ref_data = data.dataframe.groupby([\"Reference_Ligand\"]).head(1)"
   ],
   "metadata": {
    "collapsed": false
   },
   "id": "541386d572b4cc29",
   "execution_count": null
  },
  {
   "cell_type": "markdown",
   "source": [
    "## get first collected structure for each scaffold"
   ],
   "metadata": {
    "collapsed": false
   },
   "id": "45dccbf239adfac1"
  },
  {
   "cell_type": "code",
   "outputs": [],
   "source": [
    "ref_ligs = ref_data.sort_values(\"RefData_Date\").groupby(\"RefData_Scaffold_ID\").head(1).reset_index(drop=True)"
   ],
   "metadata": {
    "collapsed": false
   },
   "id": "d03957d4494b5351",
   "execution_count": null
  },
  {
   "cell_type": "code",
   "outputs": [],
   "source": [
    "from harbor.analysis.cross_docking import get_unique_structures_randomized_by_date"
   ],
   "metadata": {
    "collapsed": false
   },
   "id": "f81a67544346d512",
   "execution_count": null
  },
  {
   "cell_type": "code",
   "outputs": [],
   "source": [
    "refs_to_use = []\n",
    "for n in range(len(ref_ligs)):\n",
    "    refs_to_use.append(get_unique_structures_randomized_by_date(ref_ligs, \"Reference_Structure\", \"RefData_Date\", n+1, 1))  "
   ],
   "metadata": {
    "collapsed": false
   },
   "id": "7071c5bc33e7700",
   "execution_count": null
  },
  {
   "cell_type": "code",
   "outputs": [],
   "source": [
    "import harbor.analysis.cross_docking as cd"
   ],
   "metadata": {
    "collapsed": false
   },
   "id": "7a91b9e9f0e71f1c",
   "execution_count": null
  },
  {
   "cell_type": "code",
   "outputs": [],
   "source": [
    "from pydantic import Field\n",
    "class ScaffoldDateSplit(cd.ReferenceStructureSplitBase):\n",
    "    \"\"\"\n",
    "    Returns results stuch that query structures are only docked to the first structure for each scaffold.\n",
    "    \"\"\"\n",
    "\n",
    "    name: str = \"ScaffoldDateSplit\"\n",
    "    type_: str = \"ScaffoldDateSplit\"\n",
    "    date_column: str = Field(\n",
    "        ...,\n",
    "        description=\"Column corresponding to date deposition\",\n",
    "    )\n",
    "    scaffold_id_column: str = Field(..., description=\"Column corresponding to the scaffold ID of the ligand\")\n",
    "    randomize_by_n_days: int = Field(\n",
    "        0,\n",
    "        description=\"Randomize the structures by n days. If 0 no randomization is done. If 1 or greater, for each structure, it can be randomly replaced by any other structure collected on that day or n-1 days from it's collection date.\",\n",
    "    )\n",
    "\n",
    "    def get_records(self) -> dict:\n",
    "        records = super().get_records()\n",
    "        records.update(\n",
    "            {\n",
    "                \"Randomize_by_N_Days\": self.randomize_by_n_days,\n",
    "                \"Date_Column\": self.date_column,\n",
    "                \"Scaffold_ID_Column\": self.scaffold_id_column,\n",
    "            }\n",
    "        )\n",
    "        return records\n",
    "\n",
    "    def run(self, data: DockingDataModel, bootstraps=1) -> [DockingDataModel]:\n",
    "        unique_refs = data.dataframe.sort_values(self.date_column).groupby(self.scaffold_id_column).head(1)[self.reference_structure_column].unique()\n",
    "        \n",
    "        filtered_df = data.dataframe[data.dataframe[self.reference_structure_column].isin(unique_refs)]\n",
    "        \n",
    "        if self.n_reference_structures is None:\n",
    "            self.n_reference_structures = len(unique_refs)\n",
    "        \n",
    "        ref_lists = cd.get_unique_structures_randomized_by_date(\n",
    "            filtered_df,\n",
    "            self.reference_structure_column,\n",
    "            self.date_column,\n",
    "            self.n_reference_structures,\n",
    "            self.randomize_by_n_days,\n",
    "            bootstraps=bootstraps,\n",
    "        )\n",
    "        return [\n",
    "            DockingDataModel(\n",
    "                dataframe=data.dataframe[\n",
    "                    data.dataframe[self.reference_structure_column].isin(ref_list)\n",
    "                ],\n",
    "                **data.model_dump(),\n",
    "            )\n",
    "            for ref_list in ref_lists\n",
    "        ]\n",
    "\n",
    "class ScaffoldSizeSplit(cd.ReferenceStructureSplitBase):\n",
    "    \"\"\"\n",
    "    Returns results stuch that query structures are only docked to the first structure for each scaffold. If multiple scaffolds were deposited on the same day, pick the larger one.\n",
    "    \"\"\"\n",
    "\n",
    "    name: str = \"ScaffoldDateSplit\"\n",
    "    type_: str = \"ScaffoldDateSplit\"\n",
    "    smiles_column: str = Field(\n",
    "        ...,\n",
    "        description=\"Column corresponding to reference ligand scaffold smiles column.\",\n",
    "    )\n",
    "    scaffold_id_column: str = Field(..., description=\"Column corresponding to the scaffold ID of the ligand\")\n",
    "\n",
    "    def get_records(self) -> dict:\n",
    "        records = super().get_records()\n",
    "        records.update(\n",
    "            {\n",
    "                \"Randomize_by_N_Days\": self.randomize_by_n_days,\n",
    "                \"SMILES_Column\": self.smiles_column,\n",
    "                \"Scaffold_ID_Column\": self.scaffold_id_column,\n",
    "            }\n",
    "        )\n",
    "        return records\n",
    "\n",
    "    def run(self, data: DockingDataModel, bootstraps=1) -> [DockingDataModel]:\n",
    "        unique_refs = data.dataframe.sort_values(self.date_column).groupby(self.scaffold_id_column).head(1)\n",
    "        \n",
    "        \n",
    "        filtered_df = data.dataframe[data.dataframe[self.reference_structure_column].isin(unique_refs)]\n",
    "        \n",
    "        if self.n_reference_structures is None:\n",
    "            self.n_reference_structures = len(unique_refs)\n",
    "        \n",
    "        ref_lists = cd.get_unique_structures_randomized_by_date(\n",
    "            filtered_df,\n",
    "            self.reference_structure_column,\n",
    "            self.date_column,\n",
    "            self.n_reference_structures,\n",
    "            self.randomize_by_n_days,\n",
    "            bootstraps=bootstraps,\n",
    "        )\n",
    "        return [\n",
    "            DockingDataModel(\n",
    "                dataframe=data.dataframe[\n",
    "                    data.dataframe[self.reference_structure_column].isin(ref_list)\n",
    "                ],\n",
    "                **data.model_dump(),\n",
    "            )\n",
    "            for ref_list in ref_lists\n",
    "        ]"
   ],
   "metadata": {
    "collapsed": false
   },
   "id": "725b06dca5dfe988",
   "execution_count": null
  },
  {
   "cell_type": "code",
   "outputs": [],
   "source": [
    "data.dataframe.columns"
   ],
   "metadata": {
    "collapsed": false
   },
   "id": "f7632db21277572f",
   "execution_count": null
  },
  {
   "cell_type": "code",
   "outputs": [],
   "source": [
    "data.dataframe"
   ],
   "metadata": {
    "collapsed": false
   },
   "id": "9e2ed8fa761db180",
   "execution_count": null
  },
  {
   "cell_type": "code",
   "outputs": [],
   "source": [
    "from importlib import reload\n",
    "reload(cd)\n",
    "# n_refs = cd.generate_logarithmic_scale(len(refs_to_use))\n",
    "n_refs = [1, 2, 5, 10, 20, 30, 40, 50, 75, 100, 137]\n",
    "evs = []\n",
    "scorers = [cd.POSITScorer(variable='PoseData_docking-confidence-POSIT'),\n",
    "           cd.RMSDScorer(variable='PoseData_RMSD', cutoff=2),]\n",
    "for scorer in scorers:\n",
    "    for n in n_refs:\n",
    "        ev = cd.Evaluator(\n",
    "                      scorer=scorer,\n",
    "                      evaluator=cd.BinaryEvaluation(variable=\"PoseData_RMSD\", cutoff=2),\n",
    "        n_bootstraps=100,)\n",
    "        ev.dataset_split = ScaffoldDateSplit(date_column=\"RefData_Date\",\n",
    "                                                      scaffold_id_column=\"RefData_Scaffold_ID\",\n",
    "                                                      randomize_by_n_days=1,\n",
    "                                                      reference_structure_column=\"Reference_Structure\")\n",
    "        ev.dataset_split.n_reference_structures = n\n",
    "        evs.append(ev)    "
   ],
   "metadata": {
    "collapsed": false
   },
   "id": "bbfc488752ce7cdf",
   "execution_count": null
  },
  {
   "cell_type": "code",
   "outputs": [],
   "source": [
    "print([ev.dataset_split.n_reference_structures for ev in evs])"
   ],
   "metadata": {
    "collapsed": false
   },
   "id": "16a42efd5f494aef",
   "execution_count": null
  },
  {
   "cell_type": "code",
   "outputs": [],
   "source": [
    "results = cd.Results.calculate_results(data, evs)"
   ],
   "metadata": {
    "collapsed": false
   },
   "id": "20a0b1d74c9fe85a",
   "execution_count": null
  },
  {
   "cell_type": "code",
   "outputs": [],
   "source": [
    "results_df = cd.Results.df_from_results(results)"
   ],
   "metadata": {
    "collapsed": false
   },
   "id": "c161af135f82ac95",
   "execution_count": null
  },
  {
   "cell_type": "markdown",
   "source": [
    "# Write results to file"
   ],
   "metadata": {
    "collapsed": false
   },
   "id": "52936718e03ab965"
  },
  {
   "cell_type": "code",
   "outputs": [],
   "source": [
    "results_df.to_csv(\"scaffold_date_split_results.csv\", index=False)"
   ],
   "metadata": {
    "collapsed": false
   },
   "id": "38111d76950f027f",
   "execution_count": null
  },
  {
   "cell_type": "markdown",
   "source": [
    "# Load results from file"
   ],
   "metadata": {
    "collapsed": false
   },
   "id": "ad5e22b1523741b7"
  },
  {
   "cell_type": "markdown",
   "source": [
    "## imports"
   ],
   "metadata": {
    "collapsed": false
   },
   "id": "77b4a81608b09a1c"
  },
  {
   "cell_type": "code",
   "outputs": [],
   "source": [
    "import pandas as pd\n",
    "from pathlib import Path\n",
    "import seaborn as sns\n",
    "from matplotlib import pyplot as plt\n",
    "from matplotlib.pyplot import ScalarFormatter"
   ],
   "metadata": {
    "collapsed": false
   },
   "id": "698e1ad4df3e1df2",
   "execution_count": null
  },
  {
   "cell_type": "code",
   "outputs": [],
   "source": [
    "n_refs = [1, 2, 5, 10, 20, 30, 40, 50, 75, 100, 137]"
   ],
   "metadata": {
    "collapsed": false
   },
   "id": "a15879e5086d75d2",
   "execution_count": null
  },
  {
   "cell_type": "code",
   "outputs": [],
   "source": [
    "results_df = pd.read_csv(\"scaffold_date_split_results.csv\")\n",
    "ligand_data = pd.read_csv(\"ligand_scaffold_data.csv\") # generated in 20250703_scaffolds_over_time.ipynb"
   ],
   "metadata": {
    "collapsed": false
   },
   "id": "ae9f464ff0fccaf8",
   "execution_count": null
  },
  {
   "cell_type": "markdown",
   "source": [
    "# Plot Results"
   ],
   "metadata": {
    "collapsed": false
   },
   "id": "86199bcdd2b09cfd"
  },
  {
   "cell_type": "code",
   "outputs": [],
   "source": [
    "# make 3 decimal points\n",
    "results_df[\"Error_Lower\"] = results_df[\"Fraction\"] - results_df[\"CI_Lower\"]\n",
    "results_df[\"Error_Lower\"] = results_df[\"Error_Lower\"].clip(lower=0.0)\n",
    "results_df[\"Error_Upper\"] = results_df[\"CI_Upper\"] - results_df[\"Fraction\"]\n",
    "results_df[\"Error_Upper\"] = results_df[\"Error_Upper\"].clip(lower=0.0)"
   ],
   "metadata": {
    "collapsed": false
   },
   "id": "67c324611407c248",
   "execution_count": null
  },
  {
   "cell_type": "code",
   "outputs": [],
   "source": [],
   "metadata": {
    "collapsed": false
   },
   "id": "148809dd7c2dd27e",
   "execution_count": null
  },
  {
   "cell_type": "markdown",
   "source": [
    "# Plot function"
   ],
   "metadata": {
    "collapsed": false
   },
   "id": "da34f8582d3a39eb"
  },
  {
   "cell_type": "code",
   "outputs": [],
   "source": [
    "# Global configuration\n",
    "fig_path = Path(\"./20250706_combined_scaffold_date_split\")\n",
    "fig_path.mkdir(parents=True, exist_ok=True)\n",
    "\n",
    "FIGNUM_GLOBAL = 0\n",
    "\n",
    "# def save_fig(fig, filename, dpi=200, suffix=\".pdf\"):\n",
    "#     \"\"\"Save the figure with a global figure number.\"\"\"\n",
    "#     global FIGNUM_GLOBAL\n",
    "#     FIGNUM_GLOBAL += 1\n",
    "#     figpath = Path(fig_path / f\"{filename}_{FIGNUM_GLOBAL:02d}\")\n",
    "#     fig.savefig(figpath.with_suffix(suffix), \n",
    "#                 bbox_inches=\"tight\", \n",
    "#                 dpi=dpi)\n",
    "\n",
    "def save_fig(fig, filename, dpi=200, suffix=\".pdf\"):\n",
    "    figpath = Path(fig_path / f\"{filename}\")\n",
    "    fig.savefig(figpath.with_suffix(suffix), \n",
    "                bbox_inches=\"tight\", \n",
    "                dpi=dpi)\n",
    "    \n",
    "\n",
    "sns.set_style(\"white\")\n",
    "label_map = {\n",
    "    \"Reference_Split\": \"Dataset Split Type\",\n",
    "    \"Score\": \"Scoring Method\",\n",
    "    \"RandomSplit\": \"Randomly Ordered\",\n",
    "    \"DateSplit\": \"Ordered by Date\",\n",
    "    \"RMSD\": \"RMSD (Positive Control)\",\n",
    "    \"POSIT_Probability\": \"POSIT Probability\",\n",
    "    \"ScaffoldDateSplit\": \"One Structure Per Scaffold\",\n",
    "    # \"N_Reference_Structures\": \"Number of Randomly Chosen Reference Structures\",\n",
    "    \"N_Reference_Structures\": \"Number of Reference Structures Available to Use \\n(Log Scale)\",\n",
    "    \"Fraction\": \"Fraction of Ligands Posed \\n<2Å from Reference\",\n",
    "    \"CI_Lower\": \"Confidence Interval Lower Bound\",\n",
    "    \"CI_Upper\": \"Confidence Interval Upper Bound\",\n",
    "}\n",
    "for column in results_df.columns:\n",
    "    if not column in label_map:\n",
    "        label_map[column] = column\n",
    "        \n",
    "X_VAR = label_map[\"N_Reference_Structures\"]\n",
    "Y_VAR = label_map[\"Fraction\"]\n",
    "X_LABEL = label_map[\"N_Reference_Structures\"]\n",
    "Y_LABEL = label_map[\"Fraction\"]\n",
    "# QUERY_SCAFFOLD_ID = label_map[\"Query_Scaffold_ID_Subset_1\"]\n",
    "# REF_SCAFFOLD_ID = label_map[\"Reference_Scaffold_ID_Subset_1\"]\n",
    "COLOR_VAR = label_map[\"Reference_Split\"]\n",
    "STYLE_VAR = label_map[\"Score\"]\n",
    "CI_LOWER = label_map[\"CI_Lower\"]\n",
    "CI_UPPER = label_map[\"CI_Upper\"]\n",
    "LARGE_FIG_SIZE = (12, 8)\n",
    "SMALL_FIG_SIZE = (8, 6)\n",
    "FONT_SIZES = {\n",
    "    \"xlabel\": 24,\n",
    "    \"ylabel\": 24,\n",
    "    \"ticks\": 18,\n",
    "    \"legend_title\": 24,\n",
    "    \"legend_text\": 18,\n",
    "}\n",
    "ALPHA = 0.1"
   ],
   "metadata": {
    "collapsed": false
   },
   "id": "9f14cd954921908e",
   "execution_count": null
  },
  {
   "cell_type": "code",
   "outputs": [],
   "source": [
    "def plot_filled_in_error_bars(\n",
    "    raw_df,\n",
    "    x_var=X_VAR,\n",
    "    y_var=Y_VAR,\n",
    "    color_var=COLOR_VAR,\n",
    "    style_var=STYLE_VAR,\n",
    "    ci_lower=CI_LOWER,\n",
    "    ci_upper=CI_UPPER,\n",
    "    reverse_hue_order=False,\n",
    "    reverse_style_order=False,\n",
    "    n_refs= n_refs,\n",
    "):\n",
    "    # Sort the dataframe\n",
    "    raw_df = raw_df.sort_values(by=[x_var, style_var, color_var])\n",
    "    plt.figure(figsize=(LARGE_FIG_SIZE[0], LARGE_FIG_SIZE[1]))\n",
    "    \n",
    "    # Define hue and style orders\n",
    "    hue_order = list(reversed(sorted(raw_df[color_var].unique()))) if reverse_hue_order else list(sorted(raw_df[color_var].unique()))\n",
    "    style_order = list(reversed(sorted(raw_df[style_var].unique()))) if reverse_style_order else list(sorted(raw_df[style_var].unique()))\n",
    "    \n",
    "    # Create color mapping\n",
    "    unique_colors = sns.color_palette(n_colors=len(raw_df[color_var].unique()))\n",
    "    color_map = dict(zip(hue_order, unique_colors))\n",
    "    \n",
    "    \n",
    "    \n",
    "    # Create the line plot\n",
    "    fig = sns.lineplot(\n",
    "        data=raw_df,\n",
    "        x=x_var,\n",
    "        y=y_var,\n",
    "        hue=color_var,\n",
    "        style=style_var,  # Keep style_var for line styles\n",
    "        palette=color_map,\n",
    "        hue_order=hue_order,\n",
    "        style_order= style_order,\n",
    "    )\n",
    "\n",
    "\n",
    "    # Create fill between for each group using matched colors\n",
    "    for name, group in raw_df.groupby([color_var, style_var]):\n",
    "        color_name = name[0]  # First element is Score\n",
    "        fig.fill_between(\n",
    "            group[x_var],\n",
    "            group[ci_lower],\n",
    "            group[ci_upper],\n",
    "            color=color_map[color_name],\n",
    "            alpha=ALPHA,\n",
    "        )\n",
    "    \n",
    "    # Customize each subplot\n",
    "    fig.set_xscale(\"log\")\n",
    "    fig.xaxis.set_major_formatter(ScalarFormatter())\n",
    "\n",
    "    custom_ticks = n_refs\n",
    "    fig.set_xticks(custom_ticks)\n",
    "    fig.set_xticklabels(custom_ticks, fontsize=FONT_SIZES[\"ticks\"])\n",
    "    fig.tick_params(axis='y', labelsize=FONT_SIZES[\"ticks\"])\n",
    "\n",
    "    fig.set_xlabel(X_LABEL, fontsize=FONT_SIZES[\"xlabel\"], fontweight=\"bold\")\n",
    "    fig.set_ylabel(Y_LABEL, fontsize=FONT_SIZES[\"ylabel\"], fontweight=\"bold\")\n",
    "\n",
    "    # Customize legend\n",
    "    legend = fig.legend()\n",
    "    plt.setp(legend.get_title(), fontsize=FONT_SIZES[\"legend_title\"], fontweight=\"bold\")\n",
    "    plt.setp(legend.get_texts(), fontsize=FONT_SIZES[\"legend_text\"])\n",
    "    return plt"
   ],
   "metadata": {
    "collapsed": false
   },
   "id": "95c51ae5ee5ae7fa",
   "execution_count": null
  },
  {
   "cell_type": "markdown",
   "source": [
    "## update labels"
   ],
   "metadata": {
    "collapsed": false
   },
   "id": "9bef4ba57ddd9b46"
  },
  {
   "cell_type": "code",
   "outputs": [],
   "source": [
    "df = results_df.copy()\n",
    "df = df.rename(columns=label_map)\n",
    "for column in df.columns:\n",
    "    df[column] = df[column].apply(lambda x: label_map.get(x, x))\n",
    "df.columns"
   ],
   "metadata": {
    "collapsed": false
   },
   "id": "31edb295da88bf4f",
   "execution_count": null
  },
  {
   "cell_type": "code",
   "outputs": [],
   "source": [
    "fig = plot_filled_in_error_bars(df, \n",
    "                                    x_var=label_map['N_Reference_Structures'], \n",
    "                                    y_var=label_map['Fraction'], \n",
    "                                    color_var=label_map['Reference_Split'], \n",
    "                                    style_var=label_map['Score'], \n",
    "                                    ci_lower=label_map['CI_Lower'], \n",
    "                                    ci_upper=label_map['CI_Upper'],\n",
    "                                    reverse_hue_order=True,\n",
    "                                    )\n",
    "save_fig(fig, \"scaffold_date_split_results\")\n",
    "save_fig(fig, \"scaffold_date_split_results\", suffix=\".png\", dpi=300)"
   ],
   "metadata": {
    "collapsed": false
   },
   "id": "211a83ffbbf2fb36",
   "execution_count": null
  },
  {
   "cell_type": "markdown",
   "source": [
    "# How different is \"first structure for each scaffold\" vs \"first 50 structures\"?"
   ],
   "metadata": {
    "collapsed": false
   },
   "id": "6072bd88d3892573"
  },
  {
   "cell_type": "code",
   "outputs": [],
   "source": [
    "scaffolds_from_first_50_ligs = set(ligand_data.sort_values(\"compound_date\").head(50)[\"scaffold_orig_id\"].unique().tolist())"
   ],
   "metadata": {
    "collapsed": false
   },
   "id": "2702407c5fb638c3",
   "execution_count": null
  },
  {
   "cell_type": "code",
   "outputs": [],
   "source": [
    "first_50_scaffolds = set(scaff_data.sort_values(\"scaffold_first_date\").head(50)[\"scaffold_orig_id\"].unique().tolist())"
   ],
   "metadata": {
    "collapsed": false
   },
   "id": "7920c0adece48572",
   "execution_count": null
  },
  {
   "cell_type": "code",
   "outputs": [],
   "source": [
    "scaffolds_from_first_50_ligs - first_50_scaffolds"
   ],
   "metadata": {
    "collapsed": false
   },
   "id": "a181c541d69bab16",
   "execution_count": null
  },
  {
   "cell_type": "code",
   "outputs": [],
   "source": [
    "len(first_50_scaffolds - scaffolds_from_first_50_ligs)"
   ],
   "metadata": {
    "collapsed": false
   },
   "id": "e0324784d11497f3",
   "execution_count": null
  },
  {
   "cell_type": "code",
   "outputs": [],
   "source": [
    "len(scaffolds_from_first_50_ligs)"
   ],
   "metadata": {
    "collapsed": false
   },
   "id": "f35f8134b28ddf83",
   "execution_count": null
  },
  {
   "cell_type": "code",
   "outputs": [],
   "source": [
    "missing_scaffolds = first_50_scaffolds - scaffolds_from_first_50_ligs"
   ],
   "metadata": {
    "collapsed": false
   },
   "id": "e681b8d226b6cb9d",
   "execution_count": null
  },
  {
   "cell_type": "code",
   "outputs": [],
   "source": [
    "missing_scaffolds"
   ],
   "metadata": {
    "collapsed": false
   },
   "id": "921cd57663bea9e1",
   "execution_count": null
  },
  {
   "cell_type": "code",
   "outputs": [],
   "source": [
    "first_26_scaffolds = set(scaff_data.sort_values(\"scaffold_first_date\").head(26)[\"scaffold_orig_id\"].unique().tolist())"
   ],
   "metadata": {
    "collapsed": false
   },
   "id": "d9036fc3e7e27519",
   "execution_count": null
  },
  {
   "cell_type": "code",
   "outputs": [],
   "source": [
    "first_26_scaffolds - scaffolds_from_first_50_ligs"
   ],
   "metadata": {
    "collapsed": false
   },
   "id": "a3f47811b4f3ff8a",
   "execution_count": null
  },
  {
   "cell_type": "code",
   "outputs": [],
   "source": [
    "scaffolds_from_first_50_ligs - first_26_scaffolds"
   ],
   "metadata": {
    "collapsed": false
   },
   "id": "696b630304573cbc",
   "execution_count": null
  },
  {
   "cell_type": "code",
   "outputs": [],
   "source": [
    "# first 26 minus first 20"
   ],
   "metadata": {
    "collapsed": false
   },
   "id": "bebaefb55b783d02",
   "execution_count": null
  },
  {
   "cell_type": "code",
   "outputs": [],
   "source": [
    "first_26_scaffolds - set(scaff_data.sort_values(\"scaffold_first_date\").head(20)[\"scaffold_orig_id\"].unique().tolist())"
   ],
   "metadata": {
    "collapsed": false
   },
   "id": "306ae57395257c34",
   "execution_count": null
  },
  {
   "cell_type": "markdown",
   "source": [
    "the scaffolds that result in the big jump are wierd big ones "
   ],
   "metadata": {
    "collapsed": false
   },
   "id": "bb8498141e5a700c"
  },
  {
   "cell_type": "markdown",
   "source": [
    "# Remake plot with date split posit probability result"
   ],
   "metadata": {
    "collapsed": false
   },
   "id": "b9482d1e4bf3efe8"
  },
  {
   "cell_type": "code",
   "outputs": [],
   "source": [
    "datesplit_results = Path(\n",
    "    \"/Users/alexpayne/Scientific_Projects/mers-drug-discovery/sars2-retrospective-analysis/full_cross_dock_v2_analyzed_results/ALL_1_poses_datesplit_combined_results.csv\")\n",
    "pdf = pd.read_csv(datesplit_results)\n",
    "pdf[\"Error_Lower\"] = pdf[\"Fraction\"] - pdf[\"CI_Lower\"]\n",
    "pdf[\"Error_Lower\"] = pdf[\"Error_Lower\"].apply(lambda x: 0 if x < 0 else x)\n",
    "pdf[\"Error_Upper\"] = pdf[\"CI_Upper\"] - pdf[\"Fraction\"]\n",
    "pdf[\"Error_Upper\"] = pdf[\"Error_Upper\"].apply(lambda x: 0 if x < 0 else x)"
   ],
   "metadata": {
    "collapsed": false
   },
   "id": "6d6080ae19f1c0b0",
   "execution_count": null
  },
  {
   "cell_type": "code",
   "outputs": [],
   "source": [
    "pdf"
   ],
   "metadata": {
    "collapsed": false
   },
   "id": "1a704550543d3e16",
   "execution_count": null
  },
  {
   "cell_type": "code",
   "outputs": [],
   "source": [
    "df2 = pdf.copy()\n",
    "df2 = df2.rename(columns=label_map)\n",
    "for column in df2.columns:\n",
    "    df2[column] = df2[column].apply(lambda x: label_map.get(x, x))\n",
    "df2.columns"
   ],
   "metadata": {
    "collapsed": false
   },
   "id": "22d47b343eab63cf",
   "execution_count": null
  },
  {
   "cell_type": "code",
   "outputs": [],
   "source": [
    "df2_plot_df = df2[(df2[label_map['Score']] == label_map['POSIT_Probability'])&(df2[label_map['Reference_Split']] == label_map['DateSplit'])].copy()"
   ],
   "metadata": {
    "collapsed": false
   },
   "id": "b0bbcc78c2fa5429",
   "execution_count": null
  },
  {
   "cell_type": "code",
   "outputs": [],
   "source": [
    "plot_df = pd.concat([df, df2_plot_df])"
   ],
   "metadata": {
    "collapsed": false
   },
   "id": "65bb40bfb6ebe5f6",
   "execution_count": null
  },
  {
   "cell_type": "code",
   "outputs": [],
   "source": [
    "df2_plot_df"
   ],
   "metadata": {
    "collapsed": false
   },
   "id": "f62cbb48abec4066",
   "execution_count": null
  },
  {
   "cell_type": "code",
   "outputs": [],
   "source": [
    "fig = plot_filled_in_error_bars(plot_df, \n",
    "                                    x_var=label_map['N_Reference_Structures'], \n",
    "                                    y_var=label_map['Fraction'], \n",
    "                                    color_var=label_map['Reference_Split'], \n",
    "                                    style_var=label_map['Score'], \n",
    "                                    ci_lower=label_map['CI_Lower'], \n",
    "                                    ci_upper=label_map['CI_Upper'],\n",
    "                                    reverse_hue_order=True,\n",
    "                                # n_refs = sorted(plot_df[label_map[\"N_Reference_Structures\"]].unique().tolist())\n",
    "                                    n_refs = [1, 2, 5, 20, 50, 100, 250, 403],\n",
    "                                    )\n",
    "save_fig(fig, \"scaffold_date_split_results_with_date_split\", suffix=\".pdf\")\n",
    "save_fig(fig, \"scaffold_date_split_results_with_date_split\", suffix=\".png\", dpi=300)"
   ],
   "metadata": {
    "collapsed": false
   },
   "id": "183c424ed69b199b",
   "execution_count": null
  },
  {
   "cell_type": "code",
   "outputs": [],
   "source": [],
   "metadata": {
    "collapsed": false
   },
   "id": "54a9abf8fea0f120"
  }
 ],
 "metadata": {
  "kernelspec": {
   "display_name": "Python 3",
   "language": "python",
   "name": "python3"
  },
  "language_info": {
   "codemirror_mode": {
    "name": "ipython",
    "version": 2
   },
   "file_extension": ".py",
   "mimetype": "text/x-python",
   "name": "python",
   "nbconvert_exporter": "python",
   "pygments_lexer": "ipython2",
   "version": "2.7.6"
  }
 },
 "nbformat": 4,
 "nbformat_minor": 5
}
