{
 "cells": [
  {
   "cell_type": "markdown",
   "source": [
    "# Imports"
   ],
   "metadata": {
    "collapsed": false
   },
   "id": "13a60f83c81fab24"
  },
  {
   "cell_type": "code",
   "outputs": [],
   "source": [
    "import pandas as pd\n",
    "import json\n",
    "from datetime import datetime\n",
    "import plotly.express as px\n",
    "from pathlib import Path\n",
    "import sys\n",
    "from matplotlib.pyplot import ScalarFormatter\n",
    "from asapdiscovery.data.readers.molfile import MolFileFactory\n",
    "from harbor.analysis.cross_docking import DockingDataModel\n",
    "import harbor.analysis.cross_docking as cd\n",
    "import seaborn as sns\n",
    "from matplotlib import pyplot as plt"
   ],
   "metadata": {
    "collapsed": false
   },
   "id": "1db8e317c47db128",
   "execution_count": null
  },
  {
   "cell_type": "markdown",
   "source": [
    "# Load Data"
   ],
   "metadata": {
    "collapsed": false
   },
   "id": "7c54c98592777dee"
  },
  {
   "cell_type": "code",
   "outputs": [],
   "source": [
    "fred_results = Path(\"/Users/alexpayne/Scientific_Projects/mers-drug-discovery/sars2-retrospective-analysis/full_cross_dock_v2_analyzed_results/fred_multipose_analysis_combined_results.csv\")\n",
    "posit_results = Path(\"/Users/alexpayne/Scientific_Projects/mers-drug-discovery/sars2-retrospective-analysis/full_cross_dock_v2_analyzed_results/posit_multipose_analysis_combined_results.csv\")\n",
    "\n",
    "df1 = pd.read_csv(posit_results)\n",
    "df1[\"Method\"] = \"POSIT\"\n",
    "df2 = pd.read_csv(fred_results)\n",
    "df2[\"Method\"] = \"FRED\"\n",
    "pdf = pd.concat([df1, df2], ignore_index=True)\n",
    "pdf[\"Error_Lower\"] = pdf[\"Fraction\"] - pdf[\"CI_Lower\"]\n",
    "pdf[\"Error_Lower\"] = pdf[\"Error_Lower\"].apply(lambda x: 0 if x < 0 else x)\n",
    "pdf[\"Error_Upper\"] = pdf[\"CI_Upper\"] - pdf[\"Fraction\"]\n",
    "pdf[\"Error_Upper\"] = pdf[\"Error_Upper\"].apply(lambda x: 0 if x < 0 else x)"
   ],
   "metadata": {
    "collapsed": false
   },
   "id": "61216ce9ddc5b037",
   "execution_count": null
  },
  {
   "cell_type": "code",
   "outputs": [],
   "source": [
    "pdsr = pd.read_csv(\"/Users/alexpayne/Scientific_Projects/mers-drug-discovery/sars2-retrospective-analysis/full_cross_dock_v2_analyzed_results/ALL_1_poses_datesplit_combined_results.csv\")"
   ],
   "metadata": {
    "collapsed": false
   },
   "id": "4b9360384ff757f5",
   "execution_count": null
  },
  {
   "cell_type": "code",
   "outputs": [],
   "source": [
    "pdsr[\"Error_Lower\"] = pdsr[\"Fraction\"] - pdsr[\"CI_Lower\"]\n",
    "pdsr[\"Error_Lower\"] = pdsr[\"Error_Lower\"].apply(lambda x: 0 if x < 0 else x)\n",
    "pdsr[\"Error_Upper\"] = pdsr[\"CI_Upper\"] - pdsr[\"Fraction\"]\n",
    "pdsr[\"Error_Upper\"] = pdsr[\"Error_Upper\"].apply(lambda x: 0 if x < 0 else x)"
   ],
   "metadata": {
    "collapsed": false
   },
   "id": "c46cc6745de5d0d0",
   "execution_count": null
  },
  {
   "cell_type": "markdown",
   "source": [
    "# Plotting Params"
   ],
   "metadata": {
    "collapsed": false
   },
   "id": "c9bb485a948c46dd"
  },
  {
   "cell_type": "code",
   "outputs": [],
   "source": [
    "# Global configuration\n",
    "fig_path = Path(\"./20250806_fred_multipose_analysis\")\n",
    "fig_path.mkdir(parents=True, exist_ok=True)\n",
    "\n",
    "FIGNUM_GLOBAL = 0\n",
    "\n",
    "# def save_fig(fig, filename, dpi=200, suffix=\".pdf\"):\n",
    "#     \"\"\"Save the figure with a global figure number.\"\"\"\n",
    "#     global FIGNUM_GLOBAL\n",
    "#     FIGNUM_GLOBAL += 1\n",
    "#     figpath = Path(fig_path / f\"{filename}_{FIGNUM_GLOBAL:02d}\")\n",
    "#     fig.savefig(figpath.with_suffix(suffix), \n",
    "#                 bbox_inches=\"tight\", \n",
    "#                 dpi=dpi)\n",
    "\n",
    "def save_fig(fig, filename, dpi=200, suffix=\".pdf\"):\n",
    "    figpath = Path(fig_path / f\"{filename}\")\n",
    "    fig.savefig(figpath.with_suffix(suffix), \n",
    "                bbox_inches=\"tight\", \n",
    "                dpi=dpi)\n",
    "    \n",
    "\n",
    "sns.set_style(\"white\")\n",
    "label_map = {\n",
    "    \"Reference_Split\": \"Dataset Split Type\",\n",
    "    \"Score\": \"Scoring Method\",\n",
    "    \"RandomSplit\": \"Randomly Ordered\",\n",
    "    \"DateSplit\": \"Ordered by Date\",\n",
    "    \"RMSD\": \"RMSD (Positive Control)\",\n",
    "    \"POSIT_Probability\": \"POSIT Probability\",\n",
    "    # \"N_Reference_Structures\": \"Number of Randomly Chosen Reference Structures\",\n",
    "    \"N_Reference_Structures\": \"Number of Reference Structures Available to Use \\n(Log Scale)\",\n",
    "    \"Fraction\": \"Fraction of Ligands Posed \\n<2Å from Reference\",\n",
    "    \"CI_Lower\": \"Confidence Interval Lower Bound\",\n",
    "    \"CI_Upper\": \"Confidence Interval Upper Bound\",\n",
    "    \"PoseSelection_Choose_N\": \"Number of Ligand Poses\",\n",
    "    \n",
    "}\n",
    "for column in pdf.columns:\n",
    "    if not column in label_map:\n",
    "        label_map[column] = column\n",
    "\n",
    "X_VAR = label_map[\"N_Reference_Structures\"]\n",
    "Y_VAR = label_map[\"Fraction\"]\n",
    "X_LABEL = label_map[\"N_Reference_Structures\"]\n",
    "Y_LABEL = label_map[\"Fraction\"]\n",
    "# QUERY_SCAFFOLD_ID = label_map[\"Query_Scaffold_ID_Subset_1\"]\n",
    "# REF_SCAFFOLD_ID = label_map[\"Reference_Scaffold_ID_Subset_1\"]\n",
    "COLOR_VAR = label_map[\"PoseSelection_Choose_N\"]\n",
    "STYLE_VAR = label_map[\"Reference_Split\"]\n",
    "CI_LOWER = label_map[\"CI_Lower\"]\n",
    "CI_UPPER = label_map[\"CI_Upper\"]\n",
    "LARGE_FIG_SIZE = (12, 8)\n",
    "SMALL_FIG_SIZE = (8, 6)\n",
    "FONT_SIZES = {\n",
    "    \"xlabel\": 24,\n",
    "    \"ylabel\": 24,\n",
    "    \"ticks\": 18,\n",
    "    \"legend_title\": 24,\n",
    "    \"legend_text\": 18,\n",
    "}\n",
    "ALPHA = 0.1"
   ],
   "metadata": {
    "collapsed": false
   },
   "id": "19cdde3e581531ae",
   "execution_count": null
  },
  {
   "cell_type": "markdown",
   "source": [
    "## update labels"
   ],
   "metadata": {
    "collapsed": false
   },
   "id": "728bc88ccee7bc0b"
  },
  {
   "cell_type": "code",
   "outputs": [],
   "source": [
    "df = pdf.copy()"
   ],
   "metadata": {
    "collapsed": false
   },
   "id": "b847d5c7fb268101",
   "execution_count": null
  },
  {
   "cell_type": "code",
   "outputs": [],
   "source": [
    "df = df.rename(columns=label_map)"
   ],
   "metadata": {
    "collapsed": false
   },
   "id": "c8022a04fd9bca12",
   "execution_count": null
  },
  {
   "cell_type": "code",
   "outputs": [],
   "source": [
    "for column in df.columns:\n",
    "    df[column] = df[column].apply(lambda x: label_map.get(x,x))"
   ],
   "metadata": {
    "collapsed": false
   },
   "id": "b61b811f98c0c67c",
   "execution_count": null
  },
  {
   "cell_type": "code",
   "outputs": [],
   "source": [
    "df.columns"
   ],
   "metadata": {
    "collapsed": false
   },
   "id": "2466b015834f6bdb",
   "execution_count": null
  },
  {
   "cell_type": "code",
   "outputs": [],
   "source": [
    "pdsr = pdsr.rename(columns=label_map)\n",
    "for column in pdsr.columns:\n",
    "    pdsr[column] = pdsr[column].apply(lambda x: label_map.get(x,x))"
   ],
   "metadata": {
    "collapsed": false
   },
   "id": "c2e1a63cb4c9f271",
   "execution_count": null
  },
  {
   "cell_type": "code",
   "outputs": [],
   "source": [
    "pdsr = pdsr[(pdsr[label_map[\"Score\"]] == label_map[\"RMSD\"]) & (pdsr[label_map[\"Reference_Split\"]] == label_map[\"DateSplit\"])]"
   ],
   "metadata": {
    "collapsed": false
   },
   "id": "beb6f67363dce7f2",
   "execution_count": null
  },
  {
   "cell_type": "code",
   "outputs": [],
   "source": [
    "df[(df[label_map[\"Method\"]] == \"POSIT\") & (df[label_map[\"Reference_Split\"]] == label_map[\"DateSplit\"]) & (df[label_map[\"N_Reference_Structures\"]] == 10)]"
   ],
   "metadata": {
    "collapsed": false
   },
   "id": "bb1d44b16d97cf7e",
   "execution_count": null
  },
  {
   "cell_type": "code",
   "outputs": [],
   "source": [
    "pdsr[(pdsr[label_map[\"N_Reference_Structures\"]] == 10) & \n",
    "     (pdsr[label_map[\"Reference_Split\"]] == label_map[\"DateSplit\"]) & \n",
    "     (pdsr[label_map[\"Score\"]] == label_map[\"RMSD\"])]"
   ],
   "metadata": {
    "collapsed": false
   },
   "id": "bf8f69caa129d2bf",
   "execution_count": null
  },
  {
   "cell_type": "markdown",
   "source": [
    "# Make Figure"
   ],
   "metadata": {
    "collapsed": false
   },
   "id": "1e96b924bb7c2c54"
  },
  {
   "cell_type": "code",
   "outputs": [],
   "source": [
    "def plot_filled_in_error_bars(\n",
    "    raw_df,\n",
    "    x_var=X_VAR,\n",
    "    y_var=Y_VAR,\n",
    "    color_var=COLOR_VAR,\n",
    "    style_var=STYLE_VAR,\n",
    "    ci_lower=CI_LOWER,\n",
    "    ci_upper=CI_UPPER,\n",
    "    reverse_hue_order=False,\n",
    "    reverse_style_order=False,\n",
    "        add_default_line=False,\n",
    "):\n",
    "    # Sort the dataframe\n",
    "    raw_df = raw_df.sort_values(by=[x_var, style_var, color_var])\n",
    "    plt.figure(figsize=(LARGE_FIG_SIZE[0], LARGE_FIG_SIZE[1]))\n",
    "    \n",
    "    # Define hue and style orders\n",
    "    hue_order = list(reversed(sorted(raw_df[color_var].unique()))) if reverse_hue_order else list(sorted(raw_df[color_var].unique()))\n",
    "    style_order = list(reversed(sorted(raw_df[style_var].unique()))) if reverse_style_order else list(sorted(raw_df[style_var].unique()))\n",
    "    \n",
    "    # Create color mapping\n",
    "    unique_colors = sns.color_palette(n_colors=len(raw_df[color_var].unique()))\n",
    "    color_map = dict(zip(hue_order, unique_colors))\n",
    "    \n",
    "    \n",
    "    \n",
    "    # Create the line plot\n",
    "    fig = sns.lineplot(\n",
    "        data=raw_df,\n",
    "        x=x_var,\n",
    "        y=y_var,\n",
    "        hue=color_var,\n",
    "        style=style_var,  # Keep style_var for line styles\n",
    "        palette=color_map,\n",
    "        hue_order=hue_order,\n",
    "        style_order= style_order,\n",
    "    )\n",
    "    \n",
    "    if add_default_line:\n",
    "        # add black line for pdsr RMSD DateSplit\n",
    "        sns.lineplot(pdsr, x=X_VAR, y=Y_VAR, color=\"black\", linestyle=\"--\", label=None)\n",
    "\n",
    "\n",
    "    # Create fill between for each group using matched colors\n",
    "    for name, group in raw_df.groupby([color_var, style_var]):\n",
    "        color_name = name[0]  # First element is Score\n",
    "        fig.fill_between(\n",
    "            group[x_var],\n",
    "            group[ci_lower],\n",
    "            group[ci_upper],\n",
    "            color=color_map[color_name],\n",
    "            alpha=ALPHA,\n",
    "        )\n",
    "    \n",
    "    # Customize each subplot\n",
    "    fig.set_xscale(\"log\")\n",
    "    fig.xaxis.set_major_formatter(ScalarFormatter())\n",
    "\n",
    "    custom_ticks = [1, 5, 10, 20, 50, 100, 200, raw_df[x_var].max()]\n",
    "    fig.set_xticks(custom_ticks)\n",
    "    fig.set_xticklabels(custom_ticks, fontsize=FONT_SIZES[\"ticks\"])\n",
    "    fig.tick_params(axis='y', labelsize=FONT_SIZES[\"ticks\"])\n",
    "\n",
    "    fig.set_xlabel(X_LABEL, fontsize=FONT_SIZES[\"xlabel\"], fontweight=\"bold\")\n",
    "    fig.set_ylabel(Y_LABEL, fontsize=FONT_SIZES[\"ylabel\"], fontweight=\"bold\")\n",
    "\n",
    "    # Customize legend\n",
    "    legend = fig.legend()\n",
    "    plt.setp(legend.get_title(), fontsize=FONT_SIZES[\"legend_title\"], fontweight=\"bold\")\n",
    "    plt.setp(legend.get_texts(), fontsize=FONT_SIZES[\"legend_text\"])\n",
    "    return plt"
   ],
   "metadata": {
    "collapsed": false
   },
   "id": "10c2fefa7cbfc1a7",
   "execution_count": null
  },
  {
   "cell_type": "code",
   "outputs": [],
   "source": [
    "plot_df = df.copy()\n",
    "plot_df = plot_df[plot_df[\"Method\"] == \"FRED\"]\n",
    "fig = plot_filled_in_error_bars(plot_df, add_default_line=True)\n",
    "save_fig(fig, \"fred_multipose_colored_by_n_poses\")"
   ],
   "metadata": {
    "collapsed": false
   },
   "id": "47497752648f733e",
   "execution_count": null
  },
  {
   "cell_type": "code",
   "outputs": [],
   "source": [
    "def v2(df, add_default_line=False):\n",
    "    raw_df = df.copy()\n",
    "    x_var = X_VAR\n",
    "    y_var = Y_VAR\n",
    "    color_var = COLOR_VAR\n",
    "    style_var = STYLE_VAR\n",
    "    reverse_hue_order = False\n",
    "    reverse_style_order = False\n",
    "    \n",
    "    \n",
    "    # Sort the dataframe\n",
    "    raw_df = raw_df.sort_values(by=[x_var, style_var, color_var])\n",
    "    plt.figure(figsize=(LARGE_FIG_SIZE[0], LARGE_FIG_SIZE[1]))\n",
    "    \n",
    "    # Define hue and style orders\n",
    "    hue_order = list(reversed(sorted(raw_df[color_var].unique()))) if reverse_hue_order else list(sorted(raw_df[color_var].unique()))\n",
    "    style_order = list(reversed(sorted(raw_df[style_var].unique()))) if reverse_style_order else list(sorted(raw_df[style_var].unique()))\n",
    "    \n",
    "    # Create color mapping\n",
    "    # unique_colors = sns.color_palette(n_colors=len(raw_df[color_var].unique()))\n",
    "    # color_map = dict(zip(hue_order, unique_colors))\n",
    "    \n",
    "    # use continuous color map\n",
    "    color_map = sns.color_palette(\"viridis\", n_colors=len(hue_order))\n",
    "    \n",
    "    \n",
    "    # Create the line plot\n",
    "    fig = sns.lineplot(\n",
    "        data=raw_df,\n",
    "        x=x_var,\n",
    "        y=y_var,\n",
    "        hue=color_var,\n",
    "        style=style_var,  # Keep style_var for line styles\n",
    "        palette=color_map,\n",
    "        hue_order=hue_order,\n",
    "        style_order= style_order,\n",
    "    )\n",
    "    \n",
    "    if add_default_line:\n",
    "        # add black line for pdsr RMSD DateSplit\n",
    "        sns.lineplot(pdsr, x=X_VAR, y=Y_VAR, color=\"black\", linestyle=\"--\", label=None)\n",
    "        \n",
    "    # Customize each subplot\n",
    "    fig.set_xscale(\"log\")\n",
    "    fig.xaxis.set_major_formatter(ScalarFormatter())\n",
    "    \n",
    "    custom_ticks = [1, 5, 10, 20, 50, 100, 200, raw_df[x_var].max()]\n",
    "    fig.set_xticks(custom_ticks)\n",
    "    fig.set_xticklabels(custom_ticks, fontsize=FONT_SIZES[\"ticks\"])\n",
    "    fig.tick_params(axis='y', labelsize=FONT_SIZES[\"ticks\"])\n",
    "    \n",
    "    fig.set_xlabel(X_LABEL, fontsize=FONT_SIZES[\"xlabel\"], fontweight=\"bold\")\n",
    "    fig.set_ylabel(Y_LABEL, fontsize=FONT_SIZES[\"ylabel\"], fontweight=\"bold\")\n",
    "    \n",
    "    # Customize legend\n",
    "    legend = fig.legend()\n",
    "    plt.setp(legend.get_title(), fontsize=FONT_SIZES[\"legend_title\"], fontweight=\"bold\")\n",
    "    plt.setp(legend.get_texts(), fontsize=FONT_SIZES[\"legend_text\"])\n",
    "    return plt"
   ],
   "metadata": {
    "collapsed": false
   },
   "id": "ac10185a5df214bf",
   "execution_count": null
  },
  {
   "cell_type": "code",
   "outputs": [],
   "source": [
    "plot_df = df.copy()\n",
    "plot_df = plot_df[plot_df[\"Method\"] == \"FRED\"]\n",
    "fig = v2(plot_df, add_default_line=True)\n",
    "save_fig(fig, \"fred_multipose_no_error_bars_with_single_pose_posit_comparison\")\n",
    "save_fig(fig, \"fred_multipose_no_error_bars_with_single_pose_posit_comparison\", suffix=\".png\", dpi=300)\n",
    "fig = v2(plot_df, add_default_line=False)\n",
    "save_fig(fig, \"fred_multipose_no_error_bars\")\n",
    "save_fig(fig, \"fred_multipose_no_error_bars\", suffix=\".png\", dpi=300)"
   ],
   "metadata": {
    "collapsed": false
   },
   "id": "91056ab5325ac529",
   "execution_count": null
  },
  {
   "cell_type": "code",
   "outputs": [],
   "source": [
    "plot_df = df.copy()\n",
    "plot_df = plot_df[plot_df[\"Method\"] == \"POSIT\"]\n",
    "fig = v2(plot_df, add_default_line=True)\n",
    "save_fig(fig, \"posit_multipose_no_error_bars_with_single_pose_posit_comparison\")\n",
    "fig = v2(plot_df, add_default_line=False)\n",
    "save_fig(fig, \"posit_multipose_no_error_bars\")\n",
    "save_fig(fig, \"posit_multipose_no_error_bars\", suffix=\".png\", dpi=300)"
   ],
   "metadata": {
    "collapsed": false
   },
   "id": "5bd32e5a6e62670",
   "execution_count": null
  },
  {
   "cell_type": "markdown",
   "source": [
    "# Compare to POSIT"
   ],
   "metadata": {
    "collapsed": false
   },
   "id": "e29f5bde779a8f29"
  },
  {
   "cell_type": "code",
   "outputs": [],
   "source": [
    "for i in df[label_map[\"PoseSelection_Choose_N\"]].unique():\n",
    "    plot_df = df.copy()\n",
    "    plot_df = plot_df[plot_df[label_map[\"PoseSelection_Choose_N\"]] == i]\n",
    "    fig = plot_filled_in_error_bars(plot_df, \n",
    "                                    color_var=\"Method\", \n",
    "                                    style_var=label_map[\"Reference_Split\"], \n",
    "                                    reverse_hue_order=True, \n",
    "                                    # add_default_line=True\n",
    "                                    )\n",
    "    save_fig(fig, f\"fred_vs_posit_{i}_poses\")"
   ],
   "metadata": {
    "collapsed": false
   },
   "id": "7a8ca0199c6d5ce3",
   "execution_count": null
  },
  {
   "cell_type": "markdown",
   "source": [
    "# Compare Failure Rates"
   ],
   "metadata": {
    "collapsed": false
   },
   "id": "2a48d03ce5734a78"
  },
  {
   "cell_type": "code",
   "outputs": [],
   "source": [],
   "metadata": {
    "collapsed": false
   },
   "id": "cb7d0ae2beb5f780",
   "execution_count": null
  }
 ],
 "metadata": {
  "kernelspec": {
   "display_name": "Python 3",
   "language": "python",
   "name": "python3"
  },
  "language_info": {
   "codemirror_mode": {
    "name": "ipython",
    "version": 2
   },
   "file_extension": ".py",
   "mimetype": "text/x-python",
   "name": "python",
   "nbconvert_exporter": "python",
   "pygments_lexer": "ipython2",
   "version": "2.7.6"
  }
 },
 "nbformat": 4,
 "nbformat_minor": 5
}
