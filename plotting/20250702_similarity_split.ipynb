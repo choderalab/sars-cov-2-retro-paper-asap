{
 "cells": [
  {
   "cell_type": "markdown",
   "source": [
    "# Imports"
   ],
   "metadata": {
    "collapsed": false
   },
   "id": "705293bb92dd298c"
  },
  {
   "cell_type": "code",
   "outputs": [],
   "source": [
    "import matplotlib.pyplot as plt\n",
    "import numpy as np\n",
    "from matplotlib.ticker import ScalarFormatter\n",
    "import seaborn as sns\n",
    "import pandas as pd\n",
    "from pathlib import Path"
   ],
   "metadata": {
    "collapsed": false
   },
   "id": "d0e40f533cbea3c1",
   "execution_count": null
  },
  {
   "cell_type": "markdown",
   "source": [
    "# Load Data"
   ],
   "metadata": {
    "collapsed": false
   },
   "id": "24f29123dfa4f9c5"
  },
  {
   "cell_type": "code",
   "outputs": [],
   "source": [
    "results_path = Path(\"/Users/alexpayne/Scientific_Projects/mers-drug-discovery/sars2-retrospective-analysis/full_cross_dock_v2_analyzed_results/\")\n",
    "posit_results = [results_path / csv for csv in [\"ALL_1_poses_ecfp4_combined_results.csv\", \"ALL_1_poses_mcs_combined_results.csv\",\"ALL_1_poses_tc_combined_results.csv\"]]\n",
    "raw_pdf = pd.concat([pd.read_csv(csv_path) for csv_path in posit_results], ignore_index=True)\n",
    "raw_pdf[\"Method\"] = \"POSIT\"\n",
    "fred_results = [results_path / csv for csv in [\"FRED_1_poses_ecfp4_combined_results.csv\", \"FRED_1_poses_mcs_combined_results.csv\",\"FRED_1_poses_tc_combined_results.csv\"]]\n",
    "fdf = pd.concat([pd.read_csv(csv_path) for csv_path in fred_results], ignore_index=True)\n",
    "fdf[\"Method\"] = \"FRED\"\n",
    "pdf = pd.concat([raw_pdf, fdf], ignore_index=True)\n",
    "pdf[\"Error_Lower\"] = pdf[\"Fraction\"] - pdf[\"CI_Lower\"]\n",
    "pdf[\"Error_Lower\"] = pdf[\"Error_Lower\"].apply(lambda x: 0 if x < 0 else x)\n",
    "pdf[\"Error_Upper\"] = pdf[\"CI_Upper\"] - pdf[\"Fraction\"]\n",
    "pdf[\"Error_Upper\"] = pdf[\"Error_Upper\"].apply(lambda x: 0 if x < 0 else x)\n",
    "pdf = pdf[pdf[\"Total\"] == 403] "
   ],
   "metadata": {
    "collapsed": false
   },
   "id": "302c7e863453955f",
   "execution_count": null
  },
  {
   "cell_type": "code",
   "outputs": [],
   "source": [
    "pdf.ECFPData_fingerprint.unique()"
   ],
   "metadata": {
    "collapsed": false
   },
   "id": "7de3240b576cd03f",
   "execution_count": null
  },
  {
   "cell_type": "code",
   "outputs": [],
   "source": [
    "for row in pdf.itertuples():\n",
    "    if isinstance(row.ECFPData_fingerprint, str):\n",
    "        pdf.loc[row.Index, \"Similarity Metric\"] = f\"{row.ECFPData_fingerprint}\"\n",
    "    elif isinstance(row.MCSData_Type, str):\n",
    "        pdf.loc[row.Index, \"Similarity Metric\"] = f\"{row.MCSData_Type}\"\n",
    "    elif isinstance(row.TanimotoComboData_Type, str):\n",
    "        pdf.loc[row.Index, \"Similarity Metric\"] = f\"{row.TanimotoComboData_Type}_{row.TanimotoComboData_Aligned}\"\n",
    "    else:\n",
    "        raise ValueError(f\"Row {row.Index} has no similarity metric defined.\")"
   ],
   "metadata": {
    "collapsed": false
   },
   "id": "3c10965db59e5103",
   "execution_count": null
  },
  {
   "cell_type": "code",
   "outputs": [],
   "source": [
    "pdf[\"Similarity Metric\"].unique()"
   ],
   "metadata": {
    "collapsed": false
   },
   "id": "9b49435521dea6ac",
   "execution_count": null
  },
  {
   "cell_type": "code",
   "outputs": [],
   "source": [
    "pdf[\"Similarity Metric\"]"
   ],
   "metadata": {
    "collapsed": false
   },
   "id": "ca9f334c5ccc71f8",
   "execution_count": null
  },
  {
   "cell_type": "markdown",
   "source": [
    "# Plotting Params"
   ],
   "metadata": {
    "collapsed": false
   },
   "id": "89f170c928e4d371"
  },
  {
   "cell_type": "code",
   "outputs": [],
   "source": [
    "# Global configuration\n",
    "fig_path = Path(\"./20250702_similarity_split\")\n",
    "fig_path.mkdir(parents=True, exist_ok=True)\n",
    "\n",
    "FIGNUM_GLOBAL = 0\n",
    "\n",
    "# def save_fig(fig, filename, dpi=200, suffix=\".pdf\"):\n",
    "#     \"\"\"Save the figure with a global figure number.\"\"\"\n",
    "#     global FIGNUM_GLOBAL\n",
    "#     FIGNUM_GLOBAL += 1\n",
    "#     figpath = Path(fig_path / f\"{filename}_{FIGNUM_GLOBAL:02d}\")\n",
    "#     fig.savefig(figpath.with_suffix(suffix), \n",
    "#                 bbox_inches=\"tight\", \n",
    "#                 dpi=dpi)\n",
    "\n",
    "def save_fig(fig, filename, dpi=200, suffix=\".pdf\"):\n",
    "    figpath = Path(fig_path / f\"{filename}\")\n",
    "    fig.savefig(figpath.with_suffix(suffix), \n",
    "                bbox_inches=\"tight\", \n",
    "                dpi=dpi)\n",
    "    \n",
    "\n",
    "sns.set_style(\"white\")\n",
    "label_map = {\n",
    "    \"Reference_Split\": \"Dataset Split Type\",\n",
    "    \"Score\": \"Scoring Method\",\n",
    "    \"RandomSplit\": \"Randomly Ordered\",\n",
    "    \"DateSplit\": \"Ordered by Date\",\n",
    "    \"RMSD\": \"RMSD (Positive Control)\",\n",
    "    \"POSIT_Probability\": \"POSIT Probability\",\n",
    "    # \"PairwiseSplit\": \"Similarity Metric\",\n",
    "    \"Similarity_Threshold\": \"Similarity Threshold\",\n",
    "    \"ECFP4_2048\": \"ECFP4 2048\",\n",
    "    \"MCS\": \"MCS\",\n",
    "    \"TanimotoCombo_True\": \"Tanimoto Combo (Aligned)\",\n",
    "    # \"N_Reference_Structures\": \"Number of Randomly Chosen Reference Structures\",\n",
    "    \"N_Reference_Structures\": \"Number of Reference Structures Available to Use \\n(Log Scale)\",\n",
    "    \"Fraction\": \"Fraction of Ligands Posed \\n<2Å RMSD from Crystal Pose\",\n",
    "    \"CI_Lower\": \"Confidence Interval Lower Bound\",\n",
    "    \"CI_Upper\": \"Confidence Interval Upper Bound\",\n",
    "    \n",
    "}\n",
    "for column in pdf.columns:\n",
    "    if not column in label_map:\n",
    "        label_map[column] = column\n",
    "        \n",
    "X_VAR = label_map[\"N_Reference_Structures\"]\n",
    "Y_VAR = label_map[\"Fraction\"]\n",
    "X_LABEL = label_map[\"Similarity_Threshold\"]\n",
    "Y_LABEL = label_map[\"Fraction\"]\n",
    "# QUERY_SCAFFOLD_ID = label_map[\"Query_Scaffold_ID_Subset_1\"]\n",
    "# REF_SCAFFOLD_ID = label_map[\"Reference_Scaffold_ID_Subset_1\"]\n",
    "COLOR_VAR = label_map[\"Reference_Split\"]\n",
    "STYLE_VAR = label_map[\"Score\"]\n",
    "CI_LOWER = label_map[\"CI_Lower\"]\n",
    "CI_UPPER = label_map[\"CI_Upper\"]\n",
    "LARGE_FIG_SIZE = (12, 8)\n",
    "SMALL_FIG_SIZE = (8, 6)\n",
    "FONT_SIZES = {\n",
    "    \"xlabel\": 24,\n",
    "    \"ylabel\": 24,\n",
    "    \"ticks\": 18,\n",
    "    \"legend_title\": 24,\n",
    "    \"legend_text\": 18,\n",
    "}\n",
    "ALPHA = 0.1"
   ],
   "metadata": {
    "collapsed": false
   },
   "id": "3aa514dd4b01b29",
   "execution_count": null
  },
  {
   "cell_type": "markdown",
   "source": [
    "## functions"
   ],
   "metadata": {
    "collapsed": false
   },
   "id": "7392087d3d32c497"
  },
  {
   "cell_type": "code",
   "outputs": [],
   "source": [
    "def plot_filled_in_error_bars(\n",
    "    raw_df,\n",
    "    x_var=X_VAR,\n",
    "    y_var=Y_VAR,\n",
    "    color_var=COLOR_VAR,\n",
    "    style_var=STYLE_VAR,\n",
    "    ci_lower=CI_LOWER,\n",
    "    ci_upper=CI_UPPER,\n",
    "    x_label=X_LABEL,\n",
    "    y_label=Y_LABEL,\n",
    "    reverse_hue_order=False,\n",
    "    reverse_style_order=False,\n",
    "        x_ticks=None,\n",
    "        y_ticks=None,\n",
    "):\n",
    "    # Sort the dataframe\n",
    "    raw_df = raw_df.sort_values(by=[x_var, style_var, color_var])\n",
    "    plt.figure(figsize=(LARGE_FIG_SIZE[0], LARGE_FIG_SIZE[1]))\n",
    "    \n",
    "    # Define hue and style orders\n",
    "    hue_order = list(reversed(sorted(raw_df[color_var].unique()))) if reverse_hue_order else list(sorted(raw_df[color_var].unique()))\n",
    "    style_order = list(reversed(sorted(raw_df[style_var].unique()))) if reverse_style_order else list(sorted(raw_df[style_var].unique()))\n",
    "    \n",
    "    # Create color mapping\n",
    "    unique_colors = sns.color_palette(n_colors=len(raw_df[color_var].unique()))\n",
    "    color_map = dict(zip(hue_order, unique_colors))\n",
    "    \n",
    "    \n",
    "    \n",
    "    # Create the line plot\n",
    "    fig = sns.lineplot(\n",
    "        data=raw_df,\n",
    "        x=x_var,\n",
    "        y=y_var,\n",
    "        hue=color_var,\n",
    "        style=style_var,  # Keep style_var for line styles\n",
    "        palette=color_map,\n",
    "        hue_order=hue_order,\n",
    "        style_order= style_order,\n",
    "    )\n",
    "\n",
    "\n",
    "    # Create fill between for each group using matched colors\n",
    "    for name, group in raw_df.groupby([color_var, style_var]):\n",
    "        color_name = name[0]  # First element is Score\n",
    "        fig.fill_between(\n",
    "            group[x_var],\n",
    "            group[ci_lower],\n",
    "            group[ci_upper],\n",
    "            color=color_map[color_name],\n",
    "            alpha=ALPHA,\n",
    "        )\n",
    "    \n",
    "    # Customize each subplot\n",
    "    # fig.set_xscale(\"log\")\n",
    "    # fig.xaxis.set_major_formatter(ScalarFormatter())\n",
    "    if x_ticks is not None:\n",
    "        custom_ticks = x_ticks\n",
    "    else:\n",
    "        custom_ticks = np.round(np.linspace(0,1,11), 1)\n",
    "    fig.set_xticks(custom_ticks)\n",
    "    fig.set_xticklabels(custom_ticks, fontsize=FONT_SIZES[\"ticks\"])\n",
    "    \n",
    "    if y_ticks is not None:\n",
    "        custom_ticks = y_ticks\n",
    "    else:\n",
    "        custom_ticks = np.round(np.linspace(0,1,11), 1)\n",
    "        fig.set_yticks(custom_ticks)\n",
    "        fig.set_yticklabels(custom_ticks, fontsize=FONT_SIZES[\"ticks\"])\n",
    "\n",
    "    fig.set_xlabel(x_label, fontsize=FONT_SIZES[\"xlabel\"], fontweight=\"bold\")\n",
    "    fig.set_ylabel(y_label, fontsize=FONT_SIZES[\"ylabel\"], fontweight=\"bold\")\n",
    "\n",
    "    # Customize legend\n",
    "    legend = fig.legend()\n",
    "    plt.setp(legend.get_title(), fontsize=FONT_SIZES[\"legend_title\"], fontweight=\"bold\")\n",
    "    plt.setp(legend.get_texts(), fontsize=FONT_SIZES[\"legend_text\"])\n",
    "    return plt"
   ],
   "metadata": {
    "collapsed": false
   },
   "id": "2bdd0e0a60afe7bd",
   "execution_count": null
  },
  {
   "cell_type": "markdown",
   "source": [
    "## update labels"
   ],
   "metadata": {
    "collapsed": false
   },
   "id": "58acf0d50a591152"
  },
  {
   "cell_type": "code",
   "outputs": [],
   "source": [
    "df = pdf.copy()"
   ],
   "metadata": {
    "collapsed": false
   },
   "id": "b906d990bcfa0d96",
   "execution_count": null
  },
  {
   "cell_type": "code",
   "outputs": [],
   "source": [
    "df = df.rename(columns=label_map)"
   ],
   "metadata": {
    "collapsed": false
   },
   "id": "71b615aac8582cb7",
   "execution_count": null
  },
  {
   "cell_type": "code",
   "outputs": [],
   "source": [
    "for column in df.columns:\n",
    "    df[column] = df[column].apply(lambda x: label_map.get(x,x))"
   ],
   "metadata": {
    "collapsed": false
   },
   "id": "1f14364380c63ce6",
   "execution_count": null
  },
  {
   "cell_type": "markdown",
   "source": [
    "# Plotting"
   ],
   "metadata": {
    "collapsed": false
   },
   "id": "1b0f294a97204cbc"
  },
  {
   "cell_type": "code",
   "outputs": [],
   "source": [
    "sns.lineplot(data=df,x=X_VAR,y=Y_VAR,hue=label_map[\"PairwiseSplit\"],style=\"Method\",)"
   ],
   "metadata": {
    "collapsed": false
   },
   "id": "8b70eb202c674ee2",
   "execution_count": null
  },
  {
   "cell_type": "code",
   "outputs": [],
   "source": [
    "sns.lineplot(data=df[df[label_map[\"N_Reference_Structures\"]] == 403],x=label_map[\"Similarity_Threshold\"], y=Y_VAR, hue=label_map[\"Similarity Metric\"], style=\"Method\",)"
   ],
   "metadata": {
    "collapsed": false
   },
   "id": "20b35e23ee6f108c",
   "execution_count": null
  },
  {
   "cell_type": "code",
   "outputs": [],
   "source": [
    "test_totals = df[[\"Method\", \"Total\"]]"
   ],
   "metadata": {
    "collapsed": false
   },
   "id": "23e0ca23af622438",
   "execution_count": null
  },
  {
   "cell_type": "code",
   "outputs": [],
   "source": [
    "sns.displot(data=test_totals, x=\"Total\", hue=\"Method\", kind=\"ecdf\", hue_order=[\"FRED\", \"POSIT\"],)"
   ],
   "metadata": {
    "collapsed": false
   },
   "id": "8314c22e3027ea5",
   "execution_count": null
  },
  {
   "cell_type": "markdown",
   "source": [
    "# make single similarity metric plots"
   ],
   "metadata": {
    "collapsed": false
   },
   "id": "604b0cbd73101f50"
  },
  {
   "cell_type": "markdown",
   "source": [
    "## tc aligned"
   ],
   "metadata": {
    "collapsed": false
   },
   "id": "ab3ae4c25509287e"
  },
  {
   "cell_type": "code",
   "outputs": [],
   "source": [
    "tdf = df[df[\"Similarity Metric\"] == label_map[\"TanimotoCombo_True\"]]\n",
    "group_vars = [label_map[\"Similarity_Threshold\"], \"Method\", STYLE_VAR]\n",
    "tdf = tdf.sort_values(label_map[\"N_Reference_Structures\"], ascending=False).groupby(group_vars).head(1)\n",
    "tdf.sort_values(by=group_vars, inplace=True)"
   ],
   "metadata": {
    "collapsed": false
   },
   "id": "defee01b16892360",
   "execution_count": null
  },
  {
   "cell_type": "code",
   "outputs": [],
   "source": [
    "tdf[label_map[\"N_Reference_Structures\"]].unique()"
   ],
   "metadata": {
    "collapsed": false
   },
   "id": "f3157dafa58e74a9",
   "execution_count": null
  },
  {
   "cell_type": "code",
   "outputs": [],
   "source": [
    "tdf[tdf[label_map[\"N_Reference_Structures\"]] == 250]"
   ],
   "metadata": {
    "collapsed": false
   },
   "id": "ca0d3f942be8decf",
   "execution_count": null
  },
  {
   "cell_type": "code",
   "outputs": [],
   "source": [
    "tdf[(tdf[\"Similarity Threshold\"] > 0.5)&(tdf[\"Similarity Threshold\"] < 0.9)&(tdf[\"Scoring Method\"] == \"RMSD (Positive Control)\")&(tdf[\"Method\"] == \"FRED\")]"
   ],
   "metadata": {
    "collapsed": false
   },
   "id": "ff933ea85133cd6b",
   "execution_count": null
  },
  {
   "cell_type": "code",
   "outputs": [],
   "source": [
    "plot_filled_in_error_bars(raw_df=tdf[tdf[label_map[\"N_Reference_Structures\"]] == 403],\n",
    "                          x_var=label_map['Similarity_Threshold'],\n",
    "                          y_var=Y_VAR,\n",
    "                          color_var=\"Method\",\n",
    "                          style_var=STYLE_VAR,\n",
    "                          ci_lower=CI_LOWER,\n",
    "                          ci_upper=CI_UPPER,\n",
    "                          reverse_hue_order=True,\n",
    "                          reverse_style_order=False)"
   ],
   "metadata": {
    "collapsed": false
   },
   "id": "de028eabead24c16",
   "execution_count": null
  },
  {
   "cell_type": "code",
   "outputs": [],
   "source": [],
   "metadata": {
    "collapsed": false
   },
   "id": "d5f46b2e945fc83e",
   "execution_count": null
  },
  {
   "cell_type": "code",
   "outputs": [],
   "source": [
    "sns.scatterplot(tdf, x=\"Similarity Threshold\", y=\"Total\", hue=\"Method\", style=\"Scoring Method\")"
   ],
   "metadata": {
    "collapsed": false
   },
   "id": "83ecbb7ddc863802",
   "execution_count": null
  },
  {
   "cell_type": "code",
   "outputs": [],
   "source": [
    "tdf = df[df[\"Similarity Metric\"] == label_map[\"TanimotoCombo_True\"]]\n",
    "group_vars = [label_map[\"Similarity_Threshold\"], \"Method\", STYLE_VAR]\n",
    "tdf = tdf.sort_values(label_map[\"N_Reference_Structures\"], ascending=True).groupby(group_vars).head(1)\n",
    "tdf.sort_values(by=group_vars, inplace=True)"
   ],
   "metadata": {
    "collapsed": false
   },
   "id": "bfa406e772bf1321",
   "execution_count": null
  },
  {
   "cell_type": "code",
   "outputs": [],
   "source": [
    "tdf[label_map[\"N_Reference_Structures\"]].unique()"
   ],
   "metadata": {
    "collapsed": false
   },
   "id": "673098f9ec558c41",
   "execution_count": null
  },
  {
   "cell_type": "code",
   "outputs": [],
   "source": [
    "plot_filled_in_error_bars(raw_df=tdf,\n",
    "                          x_var=label_map['Similarity_Threshold'],\n",
    "                          y_var=Y_VAR,\n",
    "                          color_var=\"Method\",\n",
    "                          style_var=STYLE_VAR,\n",
    "                          ci_lower=CI_LOWER,\n",
    "                          ci_upper=CI_UPPER,\n",
    "                          reverse_hue_order=True,\n",
    "                          reverse_style_order=False)"
   ],
   "metadata": {
    "collapsed": false
   },
   "id": "7937db7db60c36a",
   "execution_count": null
  },
  {
   "cell_type": "code",
   "outputs": [],
   "source": [
    "tdf = df[df[\"Similarity Metric\"] == label_map[\"TanimotoCombo_True\"]]\n",
    "tdf[label_map[\"Similarity_Threshold\"]] = tdf[label_map[\"Similarity_Threshold\"]].astype(float) * 2\n",
    "for i in sorted(tdf[label_map[\"N_Reference_Structures\"]].unique()):\n",
    "    fig = plot_filled_in_error_bars(raw_df=tdf[tdf[label_map[\"N_Reference_Structures\"]] == i],\n",
    "                            x_var=label_map['Similarity_Threshold'],\n",
    "                            y_var=Y_VAR,\n",
    "                            color_var=\"Method\",\n",
    "                            style_var=STYLE_VAR,\n",
    "                            ci_lower=CI_LOWER,\n",
    "                            ci_upper=CI_UPPER,\n",
    "                            reverse_hue_order=True,\n",
    "                            reverse_style_order=False,\n",
    "                            x_label=f\"TanimotoCombo (Aligned) - {i} Reference{'s' if i > 1 else ''}\",\n",
    "                            x_ticks=np.round(np.linspace(0,2,11), 1),\n",
    "                                    )\n",
    "    save_fig(fig, f\"similarity_split_tc_aligned_{i:03d}\", suffix=\".pdf\")"
   ],
   "metadata": {
    "collapsed": false
   },
   "id": "a039826d01f659ca",
   "execution_count": null
  },
  {
   "cell_type": "markdown",
   "source": [
    "## MCS"
   ],
   "metadata": {
    "collapsed": false
   },
   "id": "e5c3fcc49c608ade"
  },
  {
   "cell_type": "code",
   "outputs": [],
   "source": [
    "mdf = df[df[\"Similarity Metric\"] == label_map[\"MCS\"]]\n",
    "for i in sorted(mdf[label_map[\"N_Reference_Structures\"]].unique()):\n",
    "    fig = plot_filled_in_error_bars(raw_df=mdf[mdf[label_map[\"N_Reference_Structures\"]] == i],\n",
    "                            x_var=label_map['Similarity_Threshold'],\n",
    "                            y_var=Y_VAR,\n",
    "                            color_var=\"Method\",\n",
    "                            style_var=STYLE_VAR,\n",
    "                            ci_lower=CI_LOWER,\n",
    "                            ci_upper=CI_UPPER,\n",
    "                            reverse_hue_order=True,\n",
    "                            reverse_style_order=False,\n",
    "                                    x_label=f\"MCS - {i} Reference{'s' if i > 1 else ''}\",\n",
    "                                    )\n",
    "    save_fig(fig, f\"similarity_split_mcs_{i:03d}\", suffix=\".pdf\")"
   ],
   "metadata": {
    "collapsed": false
   },
   "id": "bd16e795a6982908",
   "execution_count": null
  },
  {
   "cell_type": "markdown",
   "source": [
    "# ECFP"
   ],
   "metadata": {
    "collapsed": false
   },
   "id": "313b7d5c075bbad5"
  },
  {
   "cell_type": "code",
   "outputs": [],
   "source": [
    "mdf = df[df[\"Similarity Metric\"] == label_map[\"ECFP4_2048\"]]\n",
    "for i in sorted(mdf[label_map[\"N_Reference_Structures\"]].unique()):\n",
    "    fig = plot_filled_in_error_bars(raw_df=mdf[mdf[label_map[\"N_Reference_Structures\"]] == i],\n",
    "                            x_var=label_map['Similarity_Threshold'],\n",
    "                            y_var=Y_VAR,\n",
    "                            color_var=\"Method\",\n",
    "                            style_var=STYLE_VAR,\n",
    "                            ci_lower=CI_LOWER,\n",
    "                            ci_upper=CI_UPPER,\n",
    "                            reverse_hue_order=True,\n",
    "                            reverse_style_order=False,\n",
    "                                    x_label=f\"ECFP4 Tanimoto Similarity - {i} Reference{'s' if i > 1 else ''}\",)\n",
    "    save_fig(fig, f\"similarity_split_ecfp4_{i:03d}\", suffix=\".pdf\")"
   ],
   "metadata": {
    "collapsed": false
   },
   "id": "6e666fe374cb4262",
   "execution_count": null
  },
  {
   "cell_type": "markdown",
   "source": [
    "# plot TanimotoCombo Aligned with the hue being the Number of Reference Structures"
   ],
   "metadata": {
    "collapsed": false
   },
   "id": "ddb067d5d7ac733d"
  },
  {
   "cell_type": "code",
   "outputs": [],
   "source": [
    "tdf = df[df[\"Similarity Metric\"] == label_map[\"TanimotoCombo_True\"]]\n",
    "# only use one score method\n",
    "tdf = tdf[tdf[label_map[\"Score\"]] == label_map[\"POSIT_Probability\"]]"
   ],
   "metadata": {
    "collapsed": false
   },
   "id": "39cee984016943a9",
   "execution_count": null
  },
  {
   "cell_type": "code",
   "outputs": [],
   "source": [],
   "metadata": {
    "collapsed": false
   },
   "id": "66a9df901b44a2cb",
   "execution_count": null
  },
  {
   "cell_type": "markdown",
   "source": [
    "## make a 4 facet figure"
   ],
   "metadata": {
    "collapsed": false
   },
   "id": "cbd8ec6a52b082c4"
  },
  {
   "cell_type": "code",
   "outputs": [],
   "source": [
    "from matplotlib.colors import LogNorm"
   ],
   "metadata": {
    "collapsed": false
   },
   "id": "cf045082ac79dd6c",
   "execution_count": null
  },
  {
   "cell_type": "code",
   "outputs": [],
   "source": [
    "tdf = df[df[\"Similarity Metric\"] == label_map[\"TanimotoCombo_True\"]]\n",
    "fig, axes = plt.subplots(2, 2, figsize=(12, 8), sharex=True, sharey=True)\n",
    "for i, ((method, score), group) in enumerate(tdf.groupby([\"Method\", label_map[\"Score\"]])):\n",
    "    ax = axes[i // 2, i % 2]\n",
    "    # Create the line plot only including legend entries for the first subplot\n",
    "    sns.lineplot(\n",
    "        data=group,\n",
    "        x=label_map['Similarity_Threshold'],\n",
    "        y=Y_VAR,\n",
    "        hue=label_map[\"N_Reference_Structures\"],\n",
    "        ax=ax,\n",
    "        hue_norm=LogNorm()\n",
    "    )"
   ],
   "metadata": {
    "collapsed": false
   },
   "id": "12986ff70fe6b479",
   "execution_count": null
  },
  {
   "cell_type": "code",
   "outputs": [],
   "source": [
    "# Plot the lines on two facets\n",
    "fig = sns.relplot(\n",
    "    data=tdf,\n",
    "    x=label_map['Similarity_Threshold'], \n",
    "    y=Y_VAR,\n",
    "    hue=label_map[\"N_Reference_Structures\"], \n",
    "    # size=\"choice\", \n",
    "    col=label_map[\"Method\"],\n",
    "    row=label_map[\"Score\"],\n",
    "    kind=\"line\", \n",
    "    # size_order=[\"T1\", \"T2\"], \n",
    "    palette=\"viridis\",\n",
    "    hue_norm=LogNorm(),\n",
    "    height=3, \n",
    "    aspect=1.25, \n",
    "    legend=\"full\",\n",
    "    # facet_kws=dict(sharex=False),\n",
    ")\n",
    "fig.set_titles(\"{col_name} Method - {row_name}\")\n",
    "fig.legend.set_title(\"N Refs\")\n",
    "# move the legend to top left plot\n",
    "fig._legend.set_bbox_to_anchor((0.775, 0.7))\n",
    "# plt.tight_layout()\n",
    "save_fig(fig, \"similarity_split_tc_aligned_hue_n_ref_facet\", suffix=\".pdf\")"
   ],
   "metadata": {
    "collapsed": false
   },
   "id": "d8c5199134d94e85",
   "execution_count": null
  },
  {
   "cell_type": "markdown",
   "source": [
    "## four facet ecfp plot"
   ],
   "metadata": {
    "collapsed": false
   },
   "id": "dff5ceb536a2520d"
  },
  {
   "cell_type": "code",
   "outputs": [],
   "source": [
    "tdf = df[df[\"Similarity Metric\"] == label_map[\"ECFP4_2048\"]]\n",
    "# Plot the lines on two facets\n",
    "fig = sns.relplot(\n",
    "    data=tdf,\n",
    "    x=label_map['Similarity_Threshold'], \n",
    "    y=Y_VAR,\n",
    "    hue=label_map[\"N_Reference_Structures\"], \n",
    "    # size=\"choice\", \n",
    "    col=label_map[\"Method\"],\n",
    "    row=label_map[\"Score\"],\n",
    "    kind=\"line\", \n",
    "    # size_order=[\"T1\", \"T2\"], \n",
    "    palette=\"viridis\",\n",
    "    hue_norm=LogNorm(),\n",
    "    height=3, \n",
    "    aspect=1.25, \n",
    "    legend=\"full\",\n",
    "    # facet_kws=dict(sharex=False),\n",
    ")\n",
    "fig.set_titles(\"{col_name} Method - {row_name}\")\n",
    "fig.legend.set_title(\"N Refs\")\n",
    "# move the legend to top left plot\n",
    "fig._legend.set_bbox_to_anchor((0.775, 0.7))\n",
    "# plt.tight_layout()\n",
    "save_fig(fig, \"similarity_split_ecfp4_hue_n_ref_facet\", suffix=\".pdf\")"
   ],
   "metadata": {
    "collapsed": false
   },
   "id": "23692ab5de9fe89c",
   "execution_count": null
  },
  {
   "cell_type": "code",
   "outputs": [],
   "source": [],
   "metadata": {
    "collapsed": false
   },
   "id": "92b3dadfb8ca5959",
   "execution_count": null
  }
 ],
 "metadata": {
  "kernelspec": {
   "display_name": "Python 3",
   "language": "python",
   "name": "python3"
  },
  "language_info": {
   "codemirror_mode": {
    "name": "ipython",
    "version": 2
   },
   "file_extension": ".py",
   "mimetype": "text/x-python",
   "name": "python",
   "nbconvert_exporter": "python",
   "pygments_lexer": "ipython2",
   "version": "2.7.6"
  }
 },
 "nbformat": 4,
 "nbformat_minor": 5
}
