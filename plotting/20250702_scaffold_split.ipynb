{
 "cells": [
  {
   "cell_type": "markdown",
   "source": [
    "# Imports"
   ],
   "metadata": {
    "collapsed": false
   },
   "id": "a003725dec063e1"
  },
  {
   "cell_type": "code",
   "outputs": [],
   "source": [
    "import datetime\n",
    "\n",
    "import matplotlib.pyplot as plt\n",
    "from matplotlib.ticker import ScalarFormatter\n",
    "from rdkit import Chem\n",
    "import seaborn as sns\n",
    "import pandas as pd\n",
    "from pathlib import Path\n",
    "from harbor.analysis.cross_docking import DockingDataModel\n",
    "import numpy as np"
   ],
   "metadata": {
    "collapsed": false
   },
   "id": "cb9ac880d1513316",
   "execution_count": null
  },
  {
   "cell_type": "markdown",
   "source": [
    "# Load Data"
   ],
   "metadata": {
    "collapsed": false
   },
   "id": "32d5dfdc2c67d032"
  },
  {
   "cell_type": "code",
   "outputs": [],
   "source": [
    "results_path = Path(\"/Users/alexpayne/Scientific_Projects/mers-drug-discovery/sars2-retrospective-analysis/full_cross_dock_v2_analyzed_results/\")\n",
    "posit_results = [results_path / csv for csv in [\"ALL_1_poses_x_to_y_combined_results.csv\", \n",
    "                                                \"ALL_1_poses_x_to_y_5_combined_results.csv\",\n",
    "                                                \"ALL_1_poses_x_to_x_5_combined_results.csv\", \n",
    "                                                \"ALL_1_poses_x_to_x_combined_results.csv\",\n",
    "                                                \"ALL_1_poses_x_to_not_x_combined_results.csv\",\n",
    "                                                \"ALL_1_poses_not_x_to_x_combined_results.csv\"]]\n",
    "\n",
    "posit_raw_df = DockingDataModel.deserialize(\"/Users/alexpayne/Scientific_Projects/mers-drug-discovery/sars2-retrospective-analysis/full_cross_dock_v2_combined_results/ALL_1_poses.json\")\n",
    "pdf = pd.concat([pd.read_csv(csv) for csv in posit_results], ignore_index=True)\n",
    "pdf[\"Error_Lower\"] = pdf[\"Fraction\"] - pdf[\"CI_Lower\"]\n",
    "pdf[\"Error_Lower\"] = pdf[\"Error_Lower\"].apply(lambda x: 0 if x < 0 else x)\n",
    "pdf[\"Error_Upper\"] = pdf[\"CI_Upper\"] - pdf[\"Fraction\"]\n",
    "pdf[\"Error_Upper\"] = pdf[\"Error_Upper\"].apply(lambda x: 0 if x < 0 else x)\n",
    "\n",
    "# replace brackets in the query and ref columns\n",
    "query = \"Query_Scaffold_ID_Subset\"\n",
    "ref = \"Reference_Scaffold_ID_Subset\"\n",
    "\n",
    "# convert to single numbers\n",
    "pdf[query] = pdf[query].astype(str).apply(lambda x: x.replace(\"[\", \"\").replace(\"]\", \"\") if \"[\" in x else x)\n",
    "pdf[ref] = pdf[ref].astype(str).apply(lambda x: x.replace(\"[\", \"\").replace(\"]\", \"\") if \"[\" in x else x)\n",
    "\n",
    "# increment the query and ref columns by 1 to make them 1-indexed\n",
    "pdf[query] = pdf[query].apply(lambda x: str(int(x) + 1) if x.isdigit() else np.nan)\n",
    "pdf[ref] = pdf[ref].apply(lambda x: str(int(x) + 1) if x.isdigit() else np.nan)\n",
    "\n",
    "# convert query and ref columns to float\n",
    "pdf['qint'] = pdf[query].astype(float)\n",
    "pdf['rint'] = pdf[ref].astype(float)"
   ],
   "metadata": {
    "collapsed": false
   },
   "id": "99f816bb36db457f",
   "execution_count": null
  },
  {
   "cell_type": "code",
   "outputs": [],
   "source": [
    "ligand_data = pd.read_csv(\"ligand_scaffold_data.csv\") # generated in 20250703_scaffolds_over_time.ipynb"
   ],
   "metadata": {
    "collapsed": false
   },
   "id": "2a104754096edab7",
   "execution_count": null
  },
  {
   "cell_type": "code",
   "outputs": [],
   "source": [
    "scaff_data = ligand_data.groupby(\"scaffold_orig_id\").head(1)[[\"scaffold_orig_id\", \"scaffold_smarts\", \"scaffold_count\", \"scaffold_first_date\"]]\n",
    "scaff_data[\"scaffold_first_date\"] = pd.to_datetime(scaff_data[\"scaffold_first_date\"])"
   ],
   "metadata": {
    "collapsed": false
   },
   "id": "3e3248f4c1bb328c",
   "execution_count": null
  },
  {
   "cell_type": "markdown",
   "source": [
    "# Plotting Params"
   ],
   "metadata": {
    "collapsed": false
   },
   "id": "d2c2fee2c890c7e8"
  },
  {
   "cell_type": "code",
   "outputs": [],
   "source": [
    "# Global configuration\n",
    "fig_path = Path(\"./20250702_scaffold_split\")\n",
    "fig_path.mkdir(parents=True, exist_ok=True)\n",
    "\n",
    "FIGNUM_GLOBAL = 0\n",
    "\n",
    "# def save_fig(fig, filename, dpi=200, suffix=\".pdf\"):\n",
    "#     \"\"\"Save the figure with a global figure number.\"\"\"\n",
    "#     global FIGNUM_GLOBAL\n",
    "#     FIGNUM_GLOBAL += 1\n",
    "#     figpath = Path(fig_path / f\"{filename}_{FIGNUM_GLOBAL:02d}\")\n",
    "#     fig.savefig(figpath.with_suffix(suffix), \n",
    "#                 bbox_inches=\"tight\", \n",
    "#                 dpi=dpi)\n",
    "\n",
    "def save_fig(fig, filename, dpi=200, suffix=\".pdf\"):\n",
    "    figpath = Path(fig_path / f\"{filename}\")\n",
    "    fig.savefig(figpath.with_suffix(suffix), \n",
    "                bbox_inches=\"tight\", \n",
    "                dpi=dpi)\n",
    "    \n",
    "\n",
    "sns.set_style(\"white\")\n",
    "label_map = {\n",
    "    \"Reference_Split\": \"Dataset Split Type\",\n",
    "    \"Score\": \"Scoring Method\",\n",
    "    \"RandomSplit\": \"Randomly Ordered\",\n",
    "    \"DateSplit\": \"Ordered by Date\",\n",
    "    \"RMSD\": \"RMSD (Positive Control)\",\n",
    "    \"POSIT_Probability\": \"POSIT Probability\",\n",
    "    # \"PairwiseSplit\": \"Similarity Metric\",\n",
    "    \"Similarity_Threshold\": \"Similarity Threshold\",\n",
    "    \"ECFP4_2048\": \"ECFP4 2048\",\n",
    "    \"MCS\": \"MCS\",\n",
    "    \"TanimotoCombo_True\": \"Tanimoto Combo (Aligned)\",\n",
    "    # \"N_Reference_Structures\": \"Number of Randomly Chosen Reference Structures\",\n",
    "    \"N_Reference_Structures\": \"Number of Reference Structures Available to Use \\n(Log Scale)\",\n",
    "    \"Fraction\": \"Fraction of Ligands Posed \\n<2Å from Reference\",\n",
    "    \"CI_Lower\": \"Confidence Interval Lower Bound\",\n",
    "    \"CI_Upper\": \"Confidence Interval Upper Bound\",\n",
    "    \n",
    "}\n",
    "def get_label(var):\n",
    "    return label_map.get(var,var)\n",
    "for column in pdf.columns:\n",
    "    if not column in label_map:\n",
    "        label_map[column] = column\n",
    "        \n",
    "X_VAR = label_map[\"N_Reference_Structures\"]\n",
    "Y_VAR = label_map[\"Fraction\"]\n",
    "X_LABEL = label_map[\"N_Reference_Structures\"]\n",
    "Y_LABEL = label_map[\"Fraction\"]\n",
    "# QUERY_SCAFFOLD_ID = label_map[\"Query_Scaffold_ID_Subset_1\"]\n",
    "# REF_SCAFFOLD_ID = label_map[\"Reference_Scaffold_ID_Subset_1\"]\n",
    "COLOR_VAR = label_map[\"Reference_Split\"]\n",
    "STYLE_VAR = label_map[\"Score\"]\n",
    "CI_LOWER = label_map[\"CI_Lower\"]\n",
    "CI_UPPER = label_map[\"CI_Upper\"]\n",
    "LARGE_FIG_SIZE = (12, 8)\n",
    "SMALL_FIG_SIZE = (8, 6)\n",
    "FONT_SIZES = {\n",
    "    \"xlabel\": 24,\n",
    "    \"ylabel\": 24,\n",
    "    \"ticks\": 18,\n",
    "    \"legend_title\": 24,\n",
    "    \"legend_text\": 18,\n",
    "}\n",
    "ALPHA = 0.1"
   ],
   "metadata": {
    "collapsed": false
   },
   "id": "ae6c196e915e1010",
   "execution_count": null
  },
  {
   "cell_type": "markdown",
   "source": [
    "# Plotting"
   ],
   "metadata": {
    "collapsed": false
   },
   "id": "10520fd491a11cbd"
  },
  {
   "cell_type": "code",
   "outputs": [],
   "source": [
    "sdf = pdf[(pdf[\"PairwiseSplit\"] == \"ScaffoldSplit\")&(pdf[\"Scaffold_Split_Option\"].isin(['x_to_y', 'x_to_x']))]"
   ],
   "metadata": {
    "collapsed": false
   },
   "id": "2d5bf2386850b69f",
   "execution_count": null
  },
  {
   "cell_type": "markdown",
   "source": [
    "## Scaffold x_to_y heatmap - all refs"
   ],
   "metadata": {
    "collapsed": false
   },
   "id": "566598fc41944413"
  },
  {
   "cell_type": "markdown",
   "source": [
    "### filter to first 20 scaffolds by count"
   ],
   "metadata": {
    "collapsed": false
   },
   "id": "fee90f5e58a5b567"
  },
  {
   "cell_type": "code",
   "outputs": [],
   "source": [
    "ssdf = sdf[(sdf[\"Reference_Split\"].isna()&(sdf[\"Scaffold_Split_Option\"].isin(['x_to_y', 'x_to_x'])))]\n",
    "top20_scaff_ids = scaff_data.sort_values(\"scaffold_count\", ascending=False).head(20)[\"scaffold_orig_id\"].tolist()\n",
    "ssdf = ssdf[(ssdf[\"rint\"].isin(top20_scaff_ids))&(ssdf[\"qint\"].isin(top20_scaff_ids))]\n",
    "heatmap_dfs = {\n",
    "        \"_\".join(name): group for name, group in ssdf.groupby([\"Score\"])\n",
    "    }"
   ],
   "metadata": {
    "collapsed": false
   },
   "id": "aa9706f14bac95",
   "execution_count": null
  },
  {
   "cell_type": "code",
   "outputs": [],
   "source": [
    "for name, heatmap_df in heatmap_dfs.items():\n",
    "    pivot_fraction = heatmap_df.pivot(\n",
    "        index=\"qint\", columns=\"rint\", values=\"Fraction\"\n",
    "    )\n",
    "    ref_counts = (\n",
    "        heatmap_df.sort_values(\"rint\")\n",
    "        .groupby(ref)\n",
    "        .head(1)[[ref, \"Total\"]]\n",
    "        .to_dict(orient=\"records\")\n",
    "    )\n",
    "    count_dict = {data[ref]: data[\"Total\"] for data in ref_counts}\n",
    "\n",
    "    query_counts = (\n",
    "        heatmap_df.sort_values(\"qint\")\n",
    "        .groupby(query)\n",
    "        .head(1)[[query, \"Total\"]]\n",
    "        .to_dict(orient=\"records\")\n",
    "    )\n",
    "    count_dict = {data[query]: data[\"Total\"] for data in query_counts}\n",
    "    \n",
    "    ytick_labels = [\n",
    "        f\"$\\\\bf{int(cluster_id)}$ ({total})\" for cluster_id, total in count_dict.items()\n",
    "    ]\n",
    "    xtick_labels = [\n",
    "        f\"$\\\\bf{int(cluster_id)}$\\n({total})\" for cluster_id, total in count_dict.items()\n",
    "    ]\n",
    "    plt.figure(figsize=LARGE_FIG_SIZE)\n",
    "    \n",
    "    # Create custom annotation array\n",
    "    annotations = pivot_fraction.copy()\n",
    "    annotations = annotations.map(lambda x: '' if x in [0.0] else f'{x:.1f}')\n",
    "    heatmap = sns.heatmap(\n",
    "        data=pivot_fraction,\n",
    "        xticklabels=xtick_labels,\n",
    "        yticklabels=ytick_labels,\n",
    "        annot=annotations,\n",
    "        fmt='',\n",
    "        cmap=\"coolwarm_r\",\n",
    "        vmin=0, \n",
    "        vmax=1\n",
    "    )\n",
    "    # Add colorbar label\n",
    "    heatmap.collections[0].colorbar.set_label(\"Fraction\")\n",
    "\n",
    "    # Rotate axis labels for better readability\n",
    "    plt.xticks(rotation=0)\n",
    "    plt.yticks(rotation=0)\n",
    "\n",
    "    # Invert y-axis to put 0 at bottom\n",
    "    plt.gca().invert_yaxis()\n",
    "\n",
    "    # Set axis labels\n",
    "    plt.xlabel(\n",
    "        f\"$\\\\bf{{Reference Scaffold ID}}$\\n (# Reference Structures with Scaffold)\",\n",
    "        fontsize=FONT_SIZES[\"xlabel\"],\n",
    "        fontweight=\"normal\",\n",
    "    )\n",
    "    plt.ylabel(\n",
    "        f\"$\\\\bf{{Query Scaffold ID}}$\\n (# Query Ligands with Scaffold)\",\n",
    "        fontsize=FONT_SIZES[\"ylabel\"],\n",
    "        fontweight=\"normal\",\n",
    "    )\n",
    "    plt.title(\n",
    "        f\"Scored by {get_label(name)}\",\n",
    "        fontsize=FONT_SIZES[\"xlabel\"],\n",
    "        fontweight=\"bold\",\n",
    "    )\n",
    "\n",
    "    save_fig(plt, f\"scaffold_x_to_y_heatmap_top_20_{name}\")"
   ],
   "metadata": {
    "collapsed": false
   },
   "id": "a94db0a5bda7010",
   "execution_count": null
  },
  {
   "cell_type": "markdown",
   "source": [
    "# plot everything"
   ],
   "metadata": {
    "collapsed": false
   },
   "id": "bded8379f63e6fbd"
  },
  {
   "cell_type": "code",
   "outputs": [],
   "source": [
    "ssdf = sdf[sdf[\"Reference_Split\"].isna()]\n",
    "heatmap_dfs = {\n",
    "        \"_\".join(name): group for name, group in ssdf.groupby([\"Score\"])\n",
    "    }"
   ],
   "metadata": {
    "collapsed": false
   },
   "id": "b6d9e20abd69a767",
   "execution_count": null
  },
  {
   "cell_type": "code",
   "outputs": [],
   "source": [
    "for name, heatmap_df in heatmap_dfs.items():\n",
    "    pivot_fraction = heatmap_df.pivot(\n",
    "        index=\"qint\", columns=\"rint\", values=\"Fraction\"\n",
    "    )\n",
    "    ref_counts = (\n",
    "        heatmap_df.sort_values(\"rint\")\n",
    "        .groupby(ref)\n",
    "        .head(1)[[ref, \"Total\"]]\n",
    "        .to_dict(orient=\"records\")\n",
    "    )\n",
    "    count_dict = {data[ref]: data[\"Total\"] for data in ref_counts}\n",
    "\n",
    "    query_counts = (\n",
    "        heatmap_df.sort_values(\"qint\")\n",
    "        .groupby(query)\n",
    "        .head(1)[[query, \"Total\"]]\n",
    "        .to_dict(orient=\"records\")\n",
    "    )\n",
    "    count_dict = {data[query]: data[\"Total\"] for data in query_counts}\n",
    "    \n",
    "    ytick_labels = [\n",
    "        f\"$\\\\bf{int(cluster_id) + 1}$ ({total})\" for cluster_id, total in count_dict.items()\n",
    "    ]\n",
    "    xtick_labels = [\n",
    "        f\"$\\\\bf{int(cluster_id) + 1}$\\n({total})\" for cluster_id, total in count_dict.items()\n",
    "    ]\n",
    "    plt.figure(figsize=LARGE_FIG_SIZE)\n",
    "    \n",
    "    # Create custom annotation array\n",
    "    annotations = pivot_fraction.copy()\n",
    "    annotations = annotations.map(lambda x: '' if x in [0.0] else f'{x:.1f}')\n",
    "    heatmap = sns.heatmap(\n",
    "        data=pivot_fraction,\n",
    "        # xticklabels=xtick_labels,\n",
    "        # yticklabels=ytick_labels,\n",
    "        # annot=annotations,\n",
    "        fmt='',\n",
    "        cmap=\"coolwarm_r\",\n",
    "        vmin=0, \n",
    "        vmax=1\n",
    "    )\n",
    "    # Add colorbar label\n",
    "    heatmap.collections[0].colorbar.set_label(\"Fraction\")\n",
    "\n",
    "    # Rotate axis labels for better readability\n",
    "    plt.xticks(rotation=0)\n",
    "    plt.yticks(rotation=0)\n",
    "\n",
    "    # Invert y-axis to put 0 at bottom\n",
    "    plt.gca().invert_yaxis()\n",
    "\n",
    "    # Set axis labels\n",
    "    plt.xlabel(\n",
    "        f\"$\\\\bf{{Reference Scaffold ID}}$\\n (# Reference Structures with Scaffold)\",\n",
    "        fontsize=FONT_SIZES[\"xlabel\"],\n",
    "        fontweight=\"normal\",\n",
    "    )\n",
    "    plt.ylabel(\n",
    "        f\"$\\\\bf{{Query Scaffold ID}}$\\n (# Query Ligands with Scaffold)\",\n",
    "        fontsize=FONT_SIZES[\"ylabel\"],\n",
    "        fontweight=\"normal\",\n",
    "    )\n",
    "    plt.title(\n",
    "        f\"Scored by {get_label(name)}\",\n",
    "        fontsize=FONT_SIZES[\"xlabel\"],\n",
    "        fontweight=\"bold\",\n",
    "    )\n",
    "\n",
    "    save_fig(plt, f\"scaffold_x_to_y_heatmap_{name}\")"
   ],
   "metadata": {
    "collapsed": false
   },
   "id": "535bced6b6916c78",
   "execution_count": null
  },
  {
   "cell_type": "markdown",
   "source": [
    "# Add scaffold size info"
   ],
   "metadata": {
    "collapsed": false
   },
   "id": "c28d3ecff7e43425"
  },
  {
   "cell_type": "code",
   "outputs": [],
   "source": [
    "ssdf = sdf[sdf[\"Reference_Split\"].isna()]"
   ],
   "metadata": {
    "collapsed": false
   },
   "id": "e836871fbf804bb7",
   "execution_count": null
  },
  {
   "cell_type": "code",
   "outputs": [],
   "source": [
    "ssdf.nunique()"
   ],
   "metadata": {
    "collapsed": false
   },
   "id": "f4dfef41a7982599",
   "execution_count": null
  },
  {
   "cell_type": "markdown",
   "source": [
    "# Plot fraction vs size as ref and query"
   ],
   "metadata": {
    "collapsed": false
   },
   "id": "774ab3bd420bcc0c"
  },
  {
   "cell_type": "code",
   "outputs": [],
   "source": [
    "id_to_scaffold = {scaff_data[\"scaffold_orig_id\"].iloc[i]: scaff_data[\"scaffold_smarts\"].iloc[i] for i in range(len(scaff_data))}"
   ],
   "metadata": {
    "collapsed": false
   },
   "id": "e13b0252f5f12ba5",
   "execution_count": null
  },
  {
   "cell_type": "code",
   "outputs": [],
   "source": [
    "len(id_to_scaffold)"
   ],
   "metadata": {
    "collapsed": false
   },
   "id": "eed9711b81597a8",
   "execution_count": null
  },
  {
   "cell_type": "code",
   "outputs": [],
   "source": [
    "def get_scaffold_size(smarts):\n",
    "    try:\n",
    "        mol = Chem.MolFromSmarts(smarts)\n",
    "        return int(mol.GetNumHeavyAtoms())\n",
    "    except Exception as e:\n",
    "        return 0"
   ],
   "metadata": {
    "collapsed": false
   },
   "id": "592e83033c9548b4",
   "execution_count": null
  },
  {
   "cell_type": "markdown",
   "source": [
    "# get tidy dataframe from results df"
   ],
   "metadata": {
    "collapsed": false
   },
   "id": "83c1824ca993cd73"
  },
  {
   "cell_type": "code",
   "outputs": [],
   "source": [
    "posit_df = ssdf[ssdf[\"Score\"] == \"POSIT_Probability\"]"
   ],
   "metadata": {
    "collapsed": false
   },
   "id": "2b1121c31a9ce66b",
   "execution_count": null
  },
  {
   "cell_type": "code",
   "outputs": [],
   "source": [
    "query_data = posit_df[[\"qint\", \"Fraction\", \"CI_Lower\", \"CI_Upper\"]]\n",
    "query_data.rename(columns={\"qint\": \"Scaffold ID\"}, inplace=True)\n",
    "query_data[\"Scaffold As\"] = \"Query\""
   ],
   "metadata": {
    "collapsed": false
   },
   "id": "26a45b7a0309594c",
   "execution_count": null
  },
  {
   "cell_type": "code",
   "outputs": [],
   "source": [
    "ref_data = posit_df[[\"rint\", \"Fraction\", \"CI_Lower\", \"CI_Upper\"]]\n",
    "ref_data.rename(columns={\"rint\": \"Scaffold ID\"}, inplace=True)\n",
    "ref_data[\"Scaffold As\"] = \"Reference\""
   ],
   "metadata": {
    "collapsed": false
   },
   "id": "3d2ea743b25c489a",
   "execution_count": null
  },
  {
   "cell_type": "markdown",
   "source": [
    "## combine results"
   ],
   "metadata": {
    "collapsed": false
   },
   "id": "ba3da774c63d0a66"
  },
  {
   "cell_type": "code",
   "outputs": [],
   "source": [
    "combined_data = pd.concat([query_data, ref_data], ignore_index=True)\n",
    "combined_data = combined_data.merge(scaff_data, left_on=\"Scaffold ID\", right_on=\"scaffold_orig_id\", how=\"left\", suffixes=(\"\", \"_ref\"))"
   ],
   "metadata": {
    "collapsed": false
   },
   "id": "77802c7de4d6ab5c",
   "execution_count": null
  },
  {
   "cell_type": "code",
   "outputs": [],
   "source": [
    "combined_data[\"Scaffold Size\"] = combined_data[\"scaffold_smarts\"].apply(get_scaffold_size)"
   ],
   "metadata": {
    "collapsed": false
   },
   "id": "366b576662e7eb34",
   "execution_count": null
  },
  {
   "cell_type": "code",
   "outputs": [],
   "source": [
    "#convert to integer to properly sort\n",
    "combined_data['datetime'] = combined_data.scaffold_first_date.astype(int)\n",
    "dates = sorted(combined_data['scaffold_first_date'].unique())"
   ],
   "metadata": {
    "collapsed": false
   },
   "id": "8a3ebb6cebf9b430",
   "execution_count": null
  },
  {
   "cell_type": "code",
   "outputs": [],
   "source": [
    "from datetime import timedelta"
   ],
   "metadata": {
    "collapsed": false
   },
   "id": "72df40073bd22e7b",
   "execution_count": null
  },
  {
   "cell_type": "code",
   "outputs": [],
   "source": [
    "date_range = pd.date_range(start=dates[0], end=dates[-1] + timedelta(days=1), periods=10)"
   ],
   "metadata": {
    "collapsed": false
   },
   "id": "ad9bf25f23135542",
   "execution_count": null
  },
  {
   "cell_type": "code",
   "outputs": [],
   "source": [
    "from bisect import bisect_left\n",
    "date_map = {date: date_range[bisect_left(date_range, date)] for i, date in enumerate(dates)}"
   ],
   "metadata": {
    "collapsed": false
   },
   "id": "183f1a2c5f7228e8",
   "execution_count": null
  },
  {
   "cell_type": "code",
   "outputs": [],
   "source": [
    "combined_data['scaffold_first_date_ceiling'] = combined_data['scaffold_first_date'].apply(lambda x: date_map[x])"
   ],
   "metadata": {
    "collapsed": false
   },
   "id": "9c8d23e61fe8e509",
   "execution_count": null
  },
  {
   "cell_type": "markdown",
   "source": [
    "# plot fraction vs size"
   ],
   "metadata": {
    "collapsed": false
   },
   "id": "5884ae62a9323835"
  },
  {
   "cell_type": "markdown",
   "source": [
    "## query"
   ],
   "metadata": {
    "collapsed": false
   },
   "id": "827c724aaaa68da4"
  },
  {
   "cell_type": "code",
   "outputs": [],
   "source": [
    "plot_df = combined_data.copy()\n",
    "plot_df = plot_df[(plot_df[\"Scaffold As\"] == \"Query\")]\n",
    "plot_df = plot_df[plot_df[\"Scaffold Size\"] > 0]\n",
    "plot_df = plot_df[plot_df[\"Scaffold Size\"] < 35]\n",
    "plot_df.sort_values([\"datetime\", \"Scaffold Size\",], inplace=True)\n",
    "# sns.scatterplot(data=combined_data, x=\"Scaffold Size\", y=\"Fraction\", hue=\"scaffold_first_date\", style=\"Scaffold As\", alpha=0.5, legend=\"full\", palette=\"viridis\", errorbar=('ci', 95))\n",
    "ax = sns.pointplot(data=plot_df, \n",
    "                   x=\"Scaffold Size\", \n",
    "                   y=\"Fraction\", \n",
    "                   hue=\"scaffold_first_date_ceiling\",\n",
    "                   alpha=0.5, \n",
    "                   legend=\"auto\",\n",
    "                   palette=\"viridis\", \n",
    "                   errorbar=('ci', 95), \n",
    "                   linestyle=\"none\", \n",
    "                   hue_order=date_range,\n",
    "                   native_scale=True\n",
    "                   )\n",
    "# set y range to (0,1)\n",
    "ax.set_ylim(-0.05, 1.05)\n",
    "\n",
    "# move legend to right of plot\n",
    "handles, labels = ax.get_legend_handles_labels()\n",
    "ax.legend(handles=handles, labels=labels, loc='upper left', bbox_to_anchor=(1, 1), title=\"First Date of Scaffold Deposition\")"
   ],
   "metadata": {
    "collapsed": false
   },
   "id": "8abfbd21ce61868b",
   "execution_count": null
  },
  {
   "cell_type": "markdown",
   "source": [
    "## ref"
   ],
   "metadata": {
    "collapsed": false
   },
   "id": "52bf92f162dd9fa0"
  },
  {
   "cell_type": "code",
   "outputs": [],
   "source": [
    "plot_df = combined_data.copy()\n",
    "plot_df = plot_df[(plot_df[\"Scaffold As\"] == \"Reference\")]\n",
    "plot_df = plot_df[plot_df[\"Scaffold Size\"] > 0]\n",
    "plot_df = plot_df[plot_df[\"Scaffold Size\"] < 35]\n",
    "plot_df.sort_values([\"datetime\", \"Scaffold Size\",], inplace=True)\n",
    "# sns.scatterplot(data=combined_data, x=\"Scaffold Size\", y=\"Fraction\", hue=\"scaffold_first_date\", style=\"Scaffold As\", alpha=0.5, legend=\"full\", palette=\"viridis\", errorbar=('ci', 95))\n",
    "ax = sns.pointplot(data=plot_df, \n",
    "                   x=\"Scaffold Size\", \n",
    "                   y=\"Fraction\", \n",
    "                   hue=\"scaffold_first_date_ceiling\",\n",
    "                   alpha=0.5, \n",
    "                   legend=\"auto\",\n",
    "                   palette=\"viridis\", \n",
    "                   errorbar=('ci', 95), \n",
    "                   linestyle=\"none\", \n",
    "                   hue_order=date_range,\n",
    "                   native_scale=True\n",
    "                   )\n",
    "# set y range to (0,1)\n",
    "ax.set_ylim(-0.05, 1.05)\n",
    "\n",
    "# move legend to right of plot\n",
    "handles, labels = ax.get_legend_handles_labels()\n",
    "ax.legend(handles=handles, labels=labels, loc='upper left', bbox_to_anchor=(1, 1), title=\"First Date of Scaffold Deposition\")"
   ],
   "metadata": {
    "collapsed": false
   },
   "id": "55110f57de801cd1",
   "execution_count": null
  },
  {
   "cell_type": "markdown",
   "source": [
    "# Fraction vs scaffold size for only top 20 scaffolds"
   ],
   "metadata": {
    "collapsed": false
   },
   "id": "270756dfbc8c93b5"
  },
  {
   "cell_type": "markdown",
   "source": [
    "## query"
   ],
   "metadata": {
    "collapsed": false
   },
   "id": "a06ed5dcd01567c7"
  },
  {
   "cell_type": "code",
   "outputs": [],
   "source": [
    "plot_df = combined_data.copy()\n",
    "plot_df = plot_df[(plot_df[\"Scaffold As\"] == \"Query\")]\n",
    "plot_df = plot_df[plot_df[\"Scaffold Size\"] > 0]\n",
    "plot_df = plot_df[plot_df[\"Scaffold Size\"] < 35]\n",
    "plot_df = plot_df[plot_df[\"scaffold_orig_id\"].isin(top20_scaff_ids)]\n",
    "plot_df.sort_values([\"datetime\", \"Scaffold Size\",], inplace=True)\n",
    "# sns.scatterplot(data=combined_data, x=\"Scaffold Size\", y=\"Fraction\", hue=\"scaffold_first_date\", style=\"Scaffold As\", alpha=0.5, legend=\"full\", palette=\"viridis\", errorbar=('ci', 95))\n",
    "ax = sns.pointplot(data=plot_df, \n",
    "                   x=\"Scaffold Size\", \n",
    "                   y=\"Fraction\", \n",
    "                   hue=\"scaffold_first_date_ceiling\",\n",
    "                   alpha=0.5, \n",
    "                   legend=\"auto\",\n",
    "                   palette=\"viridis\", \n",
    "                   errorbar=('ci', 95), \n",
    "                   linestyle=\"none\", \n",
    "                   hue_order=date_range,\n",
    "                   native_scale=True\n",
    "                   )\n",
    "# set y range to (0,1)\n",
    "ax.set_ylim(-0.05, 1.05)\n",
    "\n",
    "# move legend to right of plot\n",
    "handles, labels = ax.get_legend_handles_labels()\n",
    "ax.legend(handles=handles, labels=labels, loc='upper left', bbox_to_anchor=(1, 1), title=\"First Date of Scaffold Deposition\")"
   ],
   "metadata": {
    "collapsed": false
   },
   "id": "18bf6dcc5095ae82",
   "execution_count": null
  },
  {
   "cell_type": "markdown",
   "source": [
    "# ref"
   ],
   "metadata": {
    "collapsed": false
   },
   "id": "1084cbf97cdd26e7"
  },
  {
   "cell_type": "code",
   "outputs": [],
   "source": [
    "plot_df = combined_data.copy()\n",
    "plot_df = plot_df[(plot_df[\"Scaffold As\"] == \"Reference\")]\n",
    "plot_df = plot_df[plot_df[\"Scaffold Size\"] > 0]\n",
    "plot_df = plot_df[plot_df[\"Scaffold Size\"] < 35]\n",
    "plot_df = plot_df[plot_df[\"scaffold_orig_id\"].isin(top20_scaff_ids)]\n",
    "plot_df.sort_values([\"datetime\", \"Scaffold Size\",], inplace=True)\n",
    "# sns.scatterplot(data=combined_data, x=\"Scaffold Size\", y=\"Fraction\", hue=\"scaffold_first_date\", style=\"Scaffold As\", alpha=0.5, legend=\"full\", palette=\"viridis\", errorbar=('ci', 95))\n",
    "ax = sns.pointplot(data=plot_df, \n",
    "                   x=\"Scaffold Size\", \n",
    "                   y=\"Fraction\", \n",
    "                   hue=\"scaffold_first_date_ceiling\",\n",
    "                   alpha=0.5, \n",
    "                   legend=\"auto\",\n",
    "                   palette=\"viridis\", \n",
    "                   errorbar=('ci', 95), \n",
    "                   linestyle=\"none\", \n",
    "                   hue_order=date_range,\n",
    "                   native_scale=True\n",
    "                   )\n",
    "# set y range to (0,1)\n",
    "ax.set_ylim(-0.05, 1.05)\n",
    "\n",
    "# move legend to right of plot\n",
    "handles, labels = ax.get_legend_handles_labels()\n",
    "ax.legend(handles=handles, labels=labels, loc='upper left', bbox_to_anchor=(1, 1), title=\"First Date of Scaffold Deposition\")"
   ],
   "metadata": {
    "collapsed": false
   },
   "id": "7bdc96d9a464ce0",
   "execution_count": null
  },
  {
   "cell_type": "markdown",
   "source": [
    "# X to Not X"
   ],
   "metadata": {
    "collapsed": false
   },
   "id": "51ec9bc2d88b9ff4"
  },
  {
   "cell_type": "code",
   "outputs": [],
   "source": [
    "xdf = pdf[pdf[\"Scaffold_Split_Option\"].isin(['x_to_not_x'])]"
   ],
   "metadata": {
    "collapsed": false
   },
   "id": "e4610eeeecc875ad",
   "execution_count": null
  },
  {
   "cell_type": "code",
   "outputs": [],
   "source": [
    "xdf = xdf[xdf[\"N_Reference_Structures\"] == 403]"
   ],
   "metadata": {
    "collapsed": false
   },
   "id": "28e5a70df0b8d168",
   "execution_count": null
  },
  {
   "cell_type": "code",
   "outputs": [],
   "source": [
    "xdf = xdf[xdf[\"Score\"] == \"POSIT_Probability\"]"
   ],
   "metadata": {
    "collapsed": false
   },
   "id": "4a3b1c4b8ab22efe",
   "execution_count": null
  },
  {
   "cell_type": "code",
   "outputs": [],
   "source": [
    "xdf = xdf[xdf[\"qint\"].isin(top20_scaff_ids)]"
   ],
   "metadata": {
    "collapsed": false
   },
   "id": "3a21d92f377a91a0",
   "execution_count": null
  },
  {
   "cell_type": "markdown",
   "source": [
    "## add datetime and size info"
   ],
   "metadata": {
    "collapsed": false
   },
   "id": "92f82f808009ce6a"
  },
  {
   "cell_type": "code",
   "outputs": [],
   "source": [
    "xdf = xdf.merge(scaff_data, left_on=\"qint\", right_on=\"scaffold_orig_id\", how=\"left\", suffixes=(\"\", \"_ref\"))"
   ],
   "metadata": {
    "collapsed": false
   },
   "id": "f8c1d1a106e6b7ae",
   "execution_count": null
  },
  {
   "cell_type": "code",
   "outputs": [],
   "source": [
    "xdf[\"Scaffold Size\"] = xdf[\"scaffold_smarts\"].apply(get_scaffold_size)"
   ],
   "metadata": {
    "collapsed": false
   },
   "id": "eea43c9891e589bf",
   "execution_count": null
  },
  {
   "cell_type": "code",
   "outputs": [],
   "source": [
    "#convert to integer to properly sort\n",
    "xdf['datetime'] = xdf.scaffold_first_date.astype(int)\n",
    "dates = sorted(xdf['scaffold_first_date'].unique())"
   ],
   "metadata": {
    "collapsed": false
   },
   "id": "c3468f020db5c586",
   "execution_count": null
  },
  {
   "cell_type": "code",
   "outputs": [],
   "source": [
    "from datetime import timedelta"
   ],
   "metadata": {
    "collapsed": false
   },
   "id": "6068773c1f051b38",
   "execution_count": null
  },
  {
   "cell_type": "code",
   "outputs": [],
   "source": [
    "date_range = pd.date_range(start=dates[0], end=dates[-1] + timedelta(days=1), periods=10)"
   ],
   "metadata": {
    "collapsed": false
   },
   "id": "b4287e724321d3f0",
   "execution_count": null
  },
  {
   "cell_type": "code",
   "outputs": [],
   "source": [
    "from bisect import bisect_left\n",
    "date_map = {date: date_range[bisect_left(date_range, date)] for i, date in enumerate(dates)}"
   ],
   "metadata": {
    "collapsed": false
   },
   "id": "671fa07161987f5c",
   "execution_count": null
  },
  {
   "cell_type": "code",
   "outputs": [],
   "source": [
    "xdf['scaffold_first_date_ceiling'] = xdf['scaffold_first_date'].apply(lambda x: date_map[x])"
   ],
   "metadata": {
    "collapsed": false
   },
   "id": "14323a64313bf03f",
   "execution_count": null
  },
  {
   "cell_type": "code",
   "outputs": [],
   "source": [
    "plot_df = xdf.copy()\n",
    "plot_df.sort_values([\"datetime\", \"Scaffold Size\",], inplace=True)\n",
    "# sns.scatterplot(data=combined_data, x=\"Scaffold Size\", y=\"Fraction\", hue=\"scaffold_first_date\", style=\"Scaffold As\", alpha=0.5, legend=\"full\", palette=\"viridis\", errorbar=('ci', 95))\n",
    "ax = sns.pointplot(data=plot_df, \n",
    "                   x=\"Scaffold Size\", \n",
    "                   y=\"Fraction\", \n",
    "                   hue=\"scaffold_first_date_ceiling\",\n",
    "                   alpha=0.5, \n",
    "                   legend=\"auto\",\n",
    "                   palette=\"viridis\", \n",
    "                   errorbar=('ci', 95), \n",
    "                   linestyle=\"none\", \n",
    "                   hue_order=date_range,\n",
    "                   native_scale=True\n",
    "                   )\n",
    "# set y range to (0,1)\n",
    "ax.set_ylim(-0.05, 1.05)\n",
    "\n",
    "# move legend to right of plot\n",
    "handles, labels = ax.get_legend_handles_labels()\n",
    "ax.legend(handles=handles, labels=labels, loc='upper left', bbox_to_anchor=(1, 1), title=\"First Date of Scaffold Deposition\")"
   ],
   "metadata": {
    "collapsed": false
   },
   "id": "34de2c36d236d7f1",
   "execution_count": null
  },
  {
   "cell_type": "code",
   "outputs": [],
   "source": [
    "plot_df"
   ],
   "metadata": {
    "collapsed": false
   },
   "id": "66efc93eed76fd85",
   "execution_count": null
  },
  {
   "cell_type": "code",
   "outputs": [],
   "source": [
    "xdf['scaffold_first_date_ceiling'] = xdf['scaffold_first_date'].apply(lambda x: date_map[x])\n",
    "plot_df = xdf.copy()\n",
    "# Format dates to show only the date part\n",
    "plot_df['scaffold_first_date_ceiling'] = plot_df['scaffold_first_date_ceiling'].dt.date\n",
    "\n",
    "ax = sns.scatterplot(data=plot_df, \n",
    "                    x=\"Scaffold Size\", \n",
    "                    y=\"Fraction\", \n",
    "                    hue=\"scaffold_first_date_ceiling\",\n",
    "                    # alpha=0.5, \n",
    "                     s=100,\n",
    "                    palette=\"viridis\",\n",
    "                    hue_order=[d.date() for d in date_range]\n",
    "                    )\n",
    "\n",
    "# Add asymmetric error bars manually\n",
    "ax.errorbar(x=plot_df[\"Scaffold Size\"],\n",
    "           y=plot_df[\"Fraction\"],\n",
    "           yerr=[plot_df[\"Error_Lower\"], plot_df[\"Error_Upper\"]],  # [lower errors, upper errors]\n",
    "           fmt='none',\n",
    "           color='gray',\n",
    "           alpha=0.5\n",
    "            )\n",
    "\n",
    "# Set y range\n",
    "ax.set_ylim(-0.05, 1.05)\n",
    "\n",
    "# Move legend to right of plot\n",
    "handles, labels = ax.get_legend_handles_labels()\n",
    "ax.legend(handles=handles, \n",
    "         labels=labels, \n",
    "         loc='upper left', \n",
    "         bbox_to_anchor=(1, 1), \n",
    "         title=\"First Date of Scaffold Deposition\")"
   ],
   "metadata": {
    "collapsed": false
   },
   "id": "a7399fa00c9dfe5d",
   "execution_count": null
  },
  {
   "cell_type": "markdown",
   "source": [
    "# plot combined query and ref fraction vs scaffold size"
   ],
   "metadata": {
    "collapsed": false
   },
   "id": "99e9a186fe5d3c0e"
  },
  {
   "cell_type": "code",
   "outputs": [],
   "source": [
    "query_df = pdf[pdf[\"Scaffold_Split_Option\"].isin(['x_to_not_x'])]\n",
    "ref_df = pdf[pdf[\"Scaffold_Split_Option\"].isin(['not_x_to_x'])]\n",
    "ref_df[\"Scaffold ID\"] = ref_df[\"rint\"]\n",
    "query_df[\"Scaffold ID\"] = query_df[\"qint\"]\n",
    "ref_df[\"Scaffold As\"] = \"Reference\"\n",
    "query_df[\"Scaffold As\"] = \"Query\"\n",
    "combined_df = pd.concat([query_df, ref_df], ignore_index=True)\n",
    "useful_cols = [\"Scaffold ID\", \"Scaffold As\", \"Fraction\", \"Score\", \"CI_Lower\", \"CI_Upper\", \"Error_Lower\", \"Error_Upper\", \"N_Reference_Structures\"]\n",
    "combined_df = combined_df[useful_cols]\n",
    "combined_df = combined_df[(combined_df[\"N_Reference_Structures\"].isna())|(combined_df[\"N_Reference_Structures\"] == 403)]"
   ],
   "metadata": {
    "collapsed": false
   },
   "id": "f3fcd6d72377014a",
   "execution_count": null
  },
  {
   "cell_type": "markdown",
   "source": [
    "## add data"
   ],
   "metadata": {
    "collapsed": false
   },
   "id": "27a8fb9c5af40d8d"
  },
  {
   "cell_type": "code",
   "outputs": [],
   "source": [
    "combined_df = combined_df.merge(scaff_data, left_on=\"Scaffold ID\", right_on=\"scaffold_orig_id\", how=\"left\", suffixes=(\"\", \"_ref\"))\n",
    "combined_df[\"Scaffold Size\"] = combined_df[\"scaffold_smarts\"].apply(get_scaffold_size)"
   ],
   "metadata": {
    "collapsed": false
   },
   "id": "69669cf6bc3ea423",
   "execution_count": null
  },
  {
   "cell_type": "code",
   "outputs": [],
   "source": [
    "combined_df.columns"
   ],
   "metadata": {
    "collapsed": false
   },
   "id": "2a8b4b74de00614f",
   "execution_count": null
  },
  {
   "cell_type": "code",
   "outputs": [],
   "source": [
    "dates = sorted(combined_df['scaffold_first_date'].unique())"
   ],
   "metadata": {
    "collapsed": false
   },
   "id": "82618372b893c29a",
   "execution_count": null
  },
  {
   "cell_type": "code",
   "outputs": [],
   "source": [
    "from datetime import timedelta\n",
    "\n",
    "date_range = pd.date_range(start=dates[0], end=dates[-1] + timedelta(days=1), periods=10)\n",
    "from bisect import bisect_left\n",
    "\n",
    "date_map = {date: date_range[bisect_left(date_range, date)] for i, date in enumerate(dates)}"
   ],
   "metadata": {
    "collapsed": false
   },
   "id": "d1464a10f95a8a07",
   "execution_count": null
  },
  {
   "cell_type": "code",
   "outputs": [],
   "source": [
    "combined_df['scaffold_first_date_ceiling'] = combined_df['scaffold_first_date'].apply(lambda x: date_map[x])"
   ],
   "metadata": {
    "collapsed": false
   },
   "id": "8a1d0f9b45827a09",
   "execution_count": null
  },
  {
   "cell_type": "markdown",
   "source": [
    "## POSIT Probability, Everything"
   ],
   "metadata": {
    "collapsed": false
   },
   "id": "c83cc9bc80d572f8"
  },
  {
   "cell_type": "code",
   "outputs": [],
   "source": [
    "plot_df = combined_df[combined_df[\"Score\"] == \"POSIT_Probability\"]"
   ],
   "metadata": {
    "collapsed": false
   },
   "id": "aa6b977be1520f91",
   "execution_count": null
  },
  {
   "cell_type": "code",
   "outputs": [],
   "source": [
    "from matplotlib.colors import LogNorm"
   ],
   "metadata": {
    "collapsed": false
   },
   "id": "e25b002dc9562691",
   "execution_count": null
  },
  {
   "cell_type": "code",
   "outputs": [],
   "source": [
    "plot_df['count_category'] = plot_df['scaffold_count'].apply(lambda x: str(x) if x < 10 else '>=10')\n",
    "plot_df.sort_values(\"count_category\", inplace=True)"
   ],
   "metadata": {
    "collapsed": false
   },
   "id": "2227ec5782cc3eeb",
   "execution_count": null
  },
  {
   "cell_type": "code",
   "outputs": [],
   "source": [
    "sns.scatterplot(data=plot_df,\n",
    "                x=\"Scaffold Size\",\n",
    "                y=\"Fraction\",\n",
    "                markers=[\"o\", \"D\"],\n",
    "                hue=\"count_category\",\n",
    "                style=\"Scaffold As\",\n",
    "                palette=\"mako_r\",)"
   ],
   "metadata": {
    "collapsed": false
   },
   "id": "eda7c92b4ec69f7f",
   "execution_count": null
  },
  {
   "cell_type": "code",
   "outputs": [],
   "source": [
    "sns.displot(data=plot_df[plot_df[\"Scaffold As\"] == \"Query\"],\n",
    "            x=\"Fraction\")"
   ],
   "metadata": {
    "collapsed": false
   },
   "id": "49b9ca821b64997b",
   "execution_count": null
  },
  {
   "cell_type": "code",
   "outputs": [],
   "source": [
    "sns.displot(data=plot_df[plot_df[\"Scaffold As\"] == \"Reference\"],\n",
    "            x=\"Fraction\")"
   ],
   "metadata": {
    "collapsed": false
   },
   "id": "92990d474178b648",
   "execution_count": null
  },
  {
   "cell_type": "code",
   "outputs": [],
   "source": [
    "sns.ecdfplot(data=plot_df[plot_df[\"Scaffold As\"] == \"Query\"],\n",
    "             x=\"Scaffold Size\",\n",
    "             )"
   ],
   "metadata": {
    "collapsed": false
   },
   "id": "41ba90d129153f6f",
   "execution_count": null
  },
  {
   "cell_type": "code",
   "outputs": [],
   "source": [
    "sns.ecdfplot(data=plot_df[plot_df[\"Scaffold As\"] == \"Reference\"],\n",
    "             x=\"Scaffold Size\",\n",
    "             )"
   ],
   "metadata": {
    "collapsed": false
   },
   "id": "66fa05e1202852af",
   "execution_count": null
  },
  {
   "cell_type": "code",
   "outputs": [],
   "source": [
    "ax = sns.scatterplot(data=plot_df, \n",
    "                    x=\"Scaffold Size\", \n",
    "                    y=\"Fraction\", \n",
    "                    hue=\"scaffold_first_date_ceiling\",\n",
    "                     style=\"Scaffold As\",\n",
    "                     # markers = [\"o\", \"D\"],\n",
    "                    # alpha=0.5, \n",
    "                    #  s=100,\n",
    "                    palette=\"viridis\",\n",
    "                    # hue_order=[d.date() for d in date_range],\n",
    "                    )"
   ],
   "metadata": {
    "collapsed": false
   },
   "id": "780a9095b24f6f24",
   "execution_count": null
  },
  {
   "cell_type": "code",
   "outputs": [],
   "source": [
    "sns.scatterplot(data=plot_df, \n",
    "                    x=\"Scaffold Size\", \n",
    "                    y=\"Fraction\", \n",
    "                    hue=\"scaffold_first_date_ceiling\",\n",
    "                     style=\"Scaffold As\",\n",
    "                    palette=\"viridis\",\n",
    "                    )"
   ],
   "metadata": {
    "collapsed": false
   },
   "id": "a963a333bf5b335f",
   "execution_count": null
  },
  {
   "cell_type": "code",
   "outputs": [],
   "source": [
    "ax = sns.scatterplot(data=plot_df, \n",
    "                    x=\"Scaffold Size\", \n",
    "                    y=\"Fraction\", \n",
    "                    hue=\"scaffold_first_date_ceiling\",\n",
    "                     style=\"Scaffold As\",\n",
    "                     markers = [\"o\", \"D\"],\n",
    "                    # alpha=0.5, \n",
    "                     s=100,\n",
    "                    palette=\"viridis\",\n",
    "                    hue_order=[d.date() for d in date_range],\n",
    "                    )\n",
    "\n",
    "# Add asymmetric error bars manually\n",
    "# ax.errorbar(x=plot_df[\"Scaffold Size\"],\n",
    "#            y=plot_df[\"Fraction\"],\n",
    "#            yerr=[plot_df[\"Error_Lower\"], plot_df[\"Error_Upper\"]],\n",
    "#            fmt='none',\n",
    "#            color='black',\n",
    "#            alpha=0.5\n",
    "#            )\n",
    "\n",
    "# Set y range\n",
    "ax.set_ylim(-0.05, 1.05)\n",
    "\n",
    "# Move legend to right of plot\n",
    "handles, labels = ax.get_legend_handles_labels()\n",
    "ax.legend(handles=handles,\n",
    "         labels=labels,\n",
    "         loc='upper left',\n",
    "         bbox_to_anchor=(1, 1),\n",
    "          frameon=False,\n",
    "         )\n",
    "\n",
    "\n",
    "# update the x and y tick labels and ticks \n",
    "# Set axis labels\n",
    "plt.xlabel(\n",
    "    f\"Scaffold Size (# Heavy Atoms)\",\n",
    "    fontsize=FONT_SIZES[\"xlabel\"],\n",
    "    fontweight=\"normal\",\n",
    ")\n",
    "plt.ylabel(\n",
    "    f\"{Y_VAR}\",\n",
    "    fontsize=FONT_SIZES[\"ylabel\"],\n",
    "    fontweight=\"normal\",\n",
    ")\n",
    "# update x and y ticks\n",
    "plt.xticks(fontsize=FONT_SIZES[\"ticks\"])\n",
    "plt.yticks(fontsize=FONT_SIZES[\"ticks\"])\n",
    "\n",
    "# update legend text\n",
    "for text in ax.get_legend().get_texts():\n",
    "    if text._text in [\"scaffold_first_date_ceiling\", \"Scaffold As\"]:\n",
    "        text.set_fontsize(FONT_SIZES[\"legend_text\"])\n",
    "        text._text = text._text.replace(\"scaffold_first_date_ceiling\", \"First Date of \\nScaffold \\nDeposition\")\n",
    "plt.savefig(fig_path / \"scaffold_size_vs_fraction_query_ref.pdf\", bbox_inches=\"tight\", dpi=200)"
   ],
   "metadata": {
    "collapsed": false
   },
   "id": "d65b3d5d27fd38cf",
   "execution_count": null
  },
  {
   "cell_type": "markdown",
   "source": [
    "## posit_probability, top 20"
   ],
   "metadata": {
    "collapsed": false
   },
   "id": "1e76f864238a2ce0"
  },
  {
   "cell_type": "markdown",
   "source": [
    "## actually make plot"
   ],
   "metadata": {
    "collapsed": false
   },
   "id": "db400b1a6c093a4d"
  },
  {
   "cell_type": "code",
   "outputs": [],
   "source": [
    "plot_df = combined_df[(combined_df[\"Scaffold ID\"].isin(top20_scaff_ids))&(combined_df[\"Score\"] == \"POSIT_Probability\")]"
   ],
   "metadata": {
    "collapsed": false
   },
   "id": "23f3d873eafabefc",
   "execution_count": null
  },
  {
   "cell_type": "code",
   "outputs": [],
   "source": [
    "plot_df.sort_values([\"scaffold_first_date_ceiling\"], inplace=True)"
   ],
   "metadata": {
    "collapsed": false
   },
   "id": "f83dc7c8362a8708",
   "execution_count": null
  },
  {
   "cell_type": "code",
   "outputs": [],
   "source": [
    "sns.set_style(\"ticks\")\n",
    "ax = sns.scatterplot(data=plot_df, \n",
    "                    x=\"Scaffold Size\", \n",
    "                    y=\"Fraction\", \n",
    "                    hue=\"scaffold_first_date_ceiling\",\n",
    "                     style=\"Scaffold As\",\n",
    "                     markers = [\"o\", \"D\"],\n",
    "                    # alpha=0.5, \n",
    "                     s=100,\n",
    "                    palette=\"viridis\",\n",
    "                    )\n",
    "\n",
    "# Add asymmetric error bars manually\n",
    "ax.errorbar(x=plot_df[\"Scaffold Size\"],\n",
    "           y=plot_df[\"Fraction\"],\n",
    "           yerr=[plot_df[\"Error_Lower\"], plot_df[\"Error_Upper\"]],\n",
    "           fmt='none',\n",
    "           color='black',\n",
    "           alpha=0.5\n",
    "           )\n",
    "\n",
    "# Set y range\n",
    "ax.set_ylim(-0.05, 1.05)\n",
    "\n",
    "# Move legend to right of plot\n",
    "handles, labels = ax.get_legend_handles_labels()\n",
    "ax.legend(handles=handles,\n",
    "         labels=labels,\n",
    "         loc='upper left',\n",
    "         bbox_to_anchor=(1, 1),\n",
    "          frameon=False,\n",
    "         )\n",
    "\n",
    "\n",
    "# update the x and y tick labels and ticks \n",
    "# Set axis labels\n",
    "plt.xlabel(\n",
    "    f\"Scaffold Size (# Heavy Atoms)\",\n",
    "    fontsize=FONT_SIZES[\"xlabel\"],\n",
    "    fontweight=\"normal\",\n",
    ")\n",
    "plt.ylabel(\n",
    "    f\"{Y_VAR}\",\n",
    "    fontsize=FONT_SIZES[\"ylabel\"],\n",
    "    fontweight=\"normal\",\n",
    ")\n",
    "# update x and y ticks\n",
    "plt.xticks(fontsize=FONT_SIZES[\"ticks\"])\n",
    "plt.yticks(fontsize=FONT_SIZES[\"ticks\"])\n",
    "\n",
    "# update legend text\n",
    "for text in ax.get_legend().get_texts():\n",
    "    if text._text in [\"scaffold_first_date_ceiling\", \"Scaffold As\"]:\n",
    "        text.set_fontsize(FONT_SIZES[\"legend_text\"])\n",
    "        text._text = text._text.replace(\"scaffold_first_date_ceiling\", \"First Date of \\nScaffold \\nDeposition\")\n",
    "plt.savefig(fig_path / \"scaffold_size_vs_fraction_query_ref.pdf\", bbox_inches=\"tight\", dpi=200)"
   ],
   "metadata": {
    "collapsed": false
   },
   "id": "874afca94e632146",
   "execution_count": null
  },
  {
   "cell_type": "code",
   "outputs": [],
   "source": [],
   "metadata": {
    "collapsed": false
   },
   "id": "69f7112d8234ce1e"
  }
 ],
 "metadata": {
  "kernelspec": {
   "display_name": "Python 3",
   "language": "python",
   "name": "python3"
  },
  "language_info": {
   "codemirror_mode": {
    "name": "ipython",
    "version": 2
   },
   "file_extension": ".py",
   "mimetype": "text/x-python",
   "name": "python",
   "nbconvert_exporter": "python",
   "pygments_lexer": "ipython2",
   "version": "2.7.6"
  }
 },
 "nbformat": 4,
 "nbformat_minor": 5
}
